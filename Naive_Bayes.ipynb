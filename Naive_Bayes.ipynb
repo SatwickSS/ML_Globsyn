{
 "cells": [
  {
   "cell_type": "code",
   "execution_count": 43,
   "metadata": {
    "id": "veiyTG45cg6S"
   },
   "outputs": [],
   "source": [
    "import matplotlib.pyplot as plt\n",
    "import numpy as np\n",
    "import pandas as pd\n",
    "import seaborn as sns\n",
    "import warnings\n",
    "warnings.filterwarnings(\"ignore\")\n",
    "from sklearn import model_selection # for train test split\n",
    "from sklearn import preprocessing # for scaling"
   ]
  },
  {
   "cell_type": "code",
   "execution_count": 44,
   "metadata": {
    "id": "zdkRFARSxZnq"
   },
   "outputs": [],
   "source": [
    "df=pd.read_csv(\"shopintention.csv\")"
   ]
  },
  {
   "cell_type": "code",
   "execution_count": 45,
   "metadata": {
    "colab": {
     "base_uri": "https://localhost:8080/",
     "height": 427
    },
    "id": "Vmcg-2IBxen5",
    "outputId": "f1d4002d-ab25-407d-d40d-d00495fb2d65"
   },
   "outputs": [
    {
     "data": {
      "text/html": [
       "<div>\n",
       "<style scoped>\n",
       "    .dataframe tbody tr th:only-of-type {\n",
       "        vertical-align: middle;\n",
       "    }\n",
       "\n",
       "    .dataframe tbody tr th {\n",
       "        vertical-align: top;\n",
       "    }\n",
       "\n",
       "    .dataframe thead th {\n",
       "        text-align: right;\n",
       "    }\n",
       "</style>\n",
       "<table border=\"1\" class=\"dataframe\">\n",
       "  <thead>\n",
       "    <tr style=\"text-align: right;\">\n",
       "      <th></th>\n",
       "      <th>Administrative</th>\n",
       "      <th>Administrative_Duration</th>\n",
       "      <th>Informational</th>\n",
       "      <th>Informational_Duration</th>\n",
       "      <th>ProductRelated</th>\n",
       "      <th>ProductRelated_Duration</th>\n",
       "      <th>BounceRates</th>\n",
       "      <th>ExitRates</th>\n",
       "      <th>PageValues</th>\n",
       "      <th>SpecialDay</th>\n",
       "      <th>Month</th>\n",
       "      <th>OperatingSystems</th>\n",
       "      <th>Browser</th>\n",
       "      <th>Region</th>\n",
       "      <th>TrafficType</th>\n",
       "      <th>VisitorType</th>\n",
       "      <th>Weekend</th>\n",
       "      <th>Revenue</th>\n",
       "    </tr>\n",
       "  </thead>\n",
       "  <tbody>\n",
       "    <tr>\n",
       "      <th>0</th>\n",
       "      <td>0.0</td>\n",
       "      <td>0.0</td>\n",
       "      <td>0.0</td>\n",
       "      <td>0.0</td>\n",
       "      <td>1.0</td>\n",
       "      <td>0.000000</td>\n",
       "      <td>0.200000</td>\n",
       "      <td>0.200000</td>\n",
       "      <td>0.0</td>\n",
       "      <td>0.0</td>\n",
       "      <td>Feb</td>\n",
       "      <td>1</td>\n",
       "      <td>1</td>\n",
       "      <td>1</td>\n",
       "      <td>1</td>\n",
       "      <td>Returning_Visitor</td>\n",
       "      <td>False</td>\n",
       "      <td>False</td>\n",
       "    </tr>\n",
       "    <tr>\n",
       "      <th>1</th>\n",
       "      <td>0.0</td>\n",
       "      <td>0.0</td>\n",
       "      <td>0.0</td>\n",
       "      <td>0.0</td>\n",
       "      <td>2.0</td>\n",
       "      <td>64.000000</td>\n",
       "      <td>0.000000</td>\n",
       "      <td>0.100000</td>\n",
       "      <td>0.0</td>\n",
       "      <td>0.0</td>\n",
       "      <td>Feb</td>\n",
       "      <td>2</td>\n",
       "      <td>2</td>\n",
       "      <td>1</td>\n",
       "      <td>2</td>\n",
       "      <td>Returning_Visitor</td>\n",
       "      <td>False</td>\n",
       "      <td>False</td>\n",
       "    </tr>\n",
       "    <tr>\n",
       "      <th>2</th>\n",
       "      <td>0.0</td>\n",
       "      <td>-1.0</td>\n",
       "      <td>0.0</td>\n",
       "      <td>-1.0</td>\n",
       "      <td>1.0</td>\n",
       "      <td>-1.000000</td>\n",
       "      <td>0.200000</td>\n",
       "      <td>0.200000</td>\n",
       "      <td>0.0</td>\n",
       "      <td>0.0</td>\n",
       "      <td>Feb</td>\n",
       "      <td>4</td>\n",
       "      <td>1</td>\n",
       "      <td>9</td>\n",
       "      <td>3</td>\n",
       "      <td>Returning_Visitor</td>\n",
       "      <td>False</td>\n",
       "      <td>False</td>\n",
       "    </tr>\n",
       "    <tr>\n",
       "      <th>3</th>\n",
       "      <td>0.0</td>\n",
       "      <td>0.0</td>\n",
       "      <td>0.0</td>\n",
       "      <td>0.0</td>\n",
       "      <td>2.0</td>\n",
       "      <td>2.666667</td>\n",
       "      <td>0.050000</td>\n",
       "      <td>0.140000</td>\n",
       "      <td>0.0</td>\n",
       "      <td>0.0</td>\n",
       "      <td>Feb</td>\n",
       "      <td>3</td>\n",
       "      <td>2</td>\n",
       "      <td>2</td>\n",
       "      <td>4</td>\n",
       "      <td>Returning_Visitor</td>\n",
       "      <td>False</td>\n",
       "      <td>False</td>\n",
       "    </tr>\n",
       "    <tr>\n",
       "      <th>4</th>\n",
       "      <td>0.0</td>\n",
       "      <td>0.0</td>\n",
       "      <td>0.0</td>\n",
       "      <td>0.0</td>\n",
       "      <td>10.0</td>\n",
       "      <td>627.500000</td>\n",
       "      <td>0.020000</td>\n",
       "      <td>0.050000</td>\n",
       "      <td>0.0</td>\n",
       "      <td>0.0</td>\n",
       "      <td>Feb</td>\n",
       "      <td>3</td>\n",
       "      <td>3</td>\n",
       "      <td>1</td>\n",
       "      <td>4</td>\n",
       "      <td>Returning_Visitor</td>\n",
       "      <td>True</td>\n",
       "      <td>False</td>\n",
       "    </tr>\n",
       "    <tr>\n",
       "      <th>5</th>\n",
       "      <td>0.0</td>\n",
       "      <td>0.0</td>\n",
       "      <td>0.0</td>\n",
       "      <td>0.0</td>\n",
       "      <td>19.0</td>\n",
       "      <td>154.216667</td>\n",
       "      <td>0.015789</td>\n",
       "      <td>0.024561</td>\n",
       "      <td>0.0</td>\n",
       "      <td>0.0</td>\n",
       "      <td>Feb</td>\n",
       "      <td>2</td>\n",
       "      <td>2</td>\n",
       "      <td>1</td>\n",
       "      <td>3</td>\n",
       "      <td>Returning_Visitor</td>\n",
       "      <td>False</td>\n",
       "      <td>False</td>\n",
       "    </tr>\n",
       "    <tr>\n",
       "      <th>6</th>\n",
       "      <td>0.0</td>\n",
       "      <td>-1.0</td>\n",
       "      <td>0.0</td>\n",
       "      <td>-1.0</td>\n",
       "      <td>1.0</td>\n",
       "      <td>-1.000000</td>\n",
       "      <td>0.200000</td>\n",
       "      <td>0.200000</td>\n",
       "      <td>0.0</td>\n",
       "      <td>0.4</td>\n",
       "      <td>Feb</td>\n",
       "      <td>2</td>\n",
       "      <td>4</td>\n",
       "      <td>3</td>\n",
       "      <td>3</td>\n",
       "      <td>Returning_Visitor</td>\n",
       "      <td>False</td>\n",
       "      <td>False</td>\n",
       "    </tr>\n",
       "    <tr>\n",
       "      <th>7</th>\n",
       "      <td>1.0</td>\n",
       "      <td>-1.0</td>\n",
       "      <td>0.0</td>\n",
       "      <td>-1.0</td>\n",
       "      <td>1.0</td>\n",
       "      <td>-1.000000</td>\n",
       "      <td>0.200000</td>\n",
       "      <td>0.200000</td>\n",
       "      <td>0.0</td>\n",
       "      <td>0.0</td>\n",
       "      <td>Feb</td>\n",
       "      <td>1</td>\n",
       "      <td>2</td>\n",
       "      <td>1</td>\n",
       "      <td>5</td>\n",
       "      <td>Returning_Visitor</td>\n",
       "      <td>True</td>\n",
       "      <td>False</td>\n",
       "    </tr>\n",
       "    <tr>\n",
       "      <th>8</th>\n",
       "      <td>0.0</td>\n",
       "      <td>0.0</td>\n",
       "      <td>0.0</td>\n",
       "      <td>0.0</td>\n",
       "      <td>2.0</td>\n",
       "      <td>37.000000</td>\n",
       "      <td>0.000000</td>\n",
       "      <td>0.100000</td>\n",
       "      <td>0.0</td>\n",
       "      <td>0.8</td>\n",
       "      <td>Feb</td>\n",
       "      <td>2</td>\n",
       "      <td>2</td>\n",
       "      <td>2</td>\n",
       "      <td>3</td>\n",
       "      <td>Returning_Visitor</td>\n",
       "      <td>False</td>\n",
       "      <td>False</td>\n",
       "    </tr>\n",
       "    <tr>\n",
       "      <th>9</th>\n",
       "      <td>0.0</td>\n",
       "      <td>0.0</td>\n",
       "      <td>0.0</td>\n",
       "      <td>0.0</td>\n",
       "      <td>3.0</td>\n",
       "      <td>738.000000</td>\n",
       "      <td>0.000000</td>\n",
       "      <td>0.022222</td>\n",
       "      <td>0.0</td>\n",
       "      <td>0.4</td>\n",
       "      <td>Feb</td>\n",
       "      <td>2</td>\n",
       "      <td>4</td>\n",
       "      <td>1</td>\n",
       "      <td>2</td>\n",
       "      <td>Returning_Visitor</td>\n",
       "      <td>False</td>\n",
       "      <td>False</td>\n",
       "    </tr>\n",
       "  </tbody>\n",
       "</table>\n",
       "</div>"
      ],
      "text/plain": [
       "   Administrative  Administrative_Duration  Informational  \\\n",
       "0             0.0                      0.0            0.0   \n",
       "1             0.0                      0.0            0.0   \n",
       "2             0.0                     -1.0            0.0   \n",
       "3             0.0                      0.0            0.0   \n",
       "4             0.0                      0.0            0.0   \n",
       "5             0.0                      0.0            0.0   \n",
       "6             0.0                     -1.0            0.0   \n",
       "7             1.0                     -1.0            0.0   \n",
       "8             0.0                      0.0            0.0   \n",
       "9             0.0                      0.0            0.0   \n",
       "\n",
       "   Informational_Duration  ProductRelated  ProductRelated_Duration  \\\n",
       "0                     0.0             1.0                 0.000000   \n",
       "1                     0.0             2.0                64.000000   \n",
       "2                    -1.0             1.0                -1.000000   \n",
       "3                     0.0             2.0                 2.666667   \n",
       "4                     0.0            10.0               627.500000   \n",
       "5                     0.0            19.0               154.216667   \n",
       "6                    -1.0             1.0                -1.000000   \n",
       "7                    -1.0             1.0                -1.000000   \n",
       "8                     0.0             2.0                37.000000   \n",
       "9                     0.0             3.0               738.000000   \n",
       "\n",
       "   BounceRates  ExitRates  PageValues  SpecialDay Month  OperatingSystems  \\\n",
       "0     0.200000   0.200000         0.0         0.0   Feb                 1   \n",
       "1     0.000000   0.100000         0.0         0.0   Feb                 2   \n",
       "2     0.200000   0.200000         0.0         0.0   Feb                 4   \n",
       "3     0.050000   0.140000         0.0         0.0   Feb                 3   \n",
       "4     0.020000   0.050000         0.0         0.0   Feb                 3   \n",
       "5     0.015789   0.024561         0.0         0.0   Feb                 2   \n",
       "6     0.200000   0.200000         0.0         0.4   Feb                 2   \n",
       "7     0.200000   0.200000         0.0         0.0   Feb                 1   \n",
       "8     0.000000   0.100000         0.0         0.8   Feb                 2   \n",
       "9     0.000000   0.022222         0.0         0.4   Feb                 2   \n",
       "\n",
       "   Browser  Region  TrafficType        VisitorType  Weekend  Revenue  \n",
       "0        1       1            1  Returning_Visitor    False    False  \n",
       "1        2       1            2  Returning_Visitor    False    False  \n",
       "2        1       9            3  Returning_Visitor    False    False  \n",
       "3        2       2            4  Returning_Visitor    False    False  \n",
       "4        3       1            4  Returning_Visitor     True    False  \n",
       "5        2       1            3  Returning_Visitor    False    False  \n",
       "6        4       3            3  Returning_Visitor    False    False  \n",
       "7        2       1            5  Returning_Visitor     True    False  \n",
       "8        2       2            3  Returning_Visitor    False    False  \n",
       "9        4       1            2  Returning_Visitor    False    False  "
      ]
     },
     "execution_count": 45,
     "metadata": {},
     "output_type": "execute_result"
    }
   ],
   "source": [
    "df.head(10) #peek at the dataset"
   ]
  },
  {
   "cell_type": "code",
   "execution_count": 46,
   "metadata": {
    "id": "TgyT9Nx3xh_g"
   },
   "outputs": [],
   "source": [
    "#renaming the columns\n",
    "names=[\"admin\",\"admin_dur\",\"info\",\"info_dur\",\"prodrel\",\"prodrel_dur\",\"brate\",\"erate\",\"pagev\",\"sday\",\"month\",\"os\",\"browser\",\"region\",\"ttype\",\"vtype\",\"weekend\",\"revenue\"]"
   ]
  },
  {
   "cell_type": "code",
   "execution_count": 47,
   "metadata": {
    "id": "s3jLNaI6xlOZ"
   },
   "outputs": [],
   "source": [
    "df.columns=names\n",
    "index=df.columns[df.isna().any(axis=0)]\n",
    "dict={}\n",
    "for i in index:\n",
    "    temp=df[i].isna().astype(int).sum()\n",
    "    dict[i]=[temp/df.shape[0],temp]"
   ]
  },
  {
   "cell_type": "code",
   "execution_count": 48,
   "metadata": {
    "colab": {
     "base_uri": "https://localhost:8080/"
    },
    "id": "XbllDB1jxoG3",
    "outputId": "26debaa5-a8e4-4323-a38d-4bd7fa18e86b"
   },
   "outputs": [
    {
     "data": {
      "text/plain": [
       "{'admin': [0.0011354420113544202, 14],\n",
       " 'admin_dur': [0.0011354420113544202, 14],\n",
       " 'info': [0.0011354420113544202, 14],\n",
       " 'info_dur': [0.0011354420113544202, 14],\n",
       " 'prodrel': [0.0011354420113544202, 14],\n",
       " 'prodrel_dur': [0.0011354420113544202, 14],\n",
       " 'brate': [0.0011354420113544202, 14],\n",
       " 'erate': [0.0011354420113544202, 14]}"
      ]
     },
     "execution_count": 48,
     "metadata": {},
     "output_type": "execute_result"
    }
   ],
   "source": [
    "dict"
   ]
  },
  {
   "cell_type": "code",
   "execution_count": 49,
   "metadata": {
    "colab": {
     "base_uri": "https://localhost:8080/",
     "height": 488
    },
    "id": "4oUwRsAsx9E1",
    "outputId": "f6a4c75c-876b-4198-9a47-6359d96e64aa"
   },
   "outputs": [
    {
     "data": {
      "text/html": [
       "<div>\n",
       "<style scoped>\n",
       "    .dataframe tbody tr th:only-of-type {\n",
       "        vertical-align: middle;\n",
       "    }\n",
       "\n",
       "    .dataframe tbody tr th {\n",
       "        vertical-align: top;\n",
       "    }\n",
       "\n",
       "    .dataframe thead th {\n",
       "        text-align: right;\n",
       "    }\n",
       "</style>\n",
       "<table border=\"1\" class=\"dataframe\">\n",
       "  <thead>\n",
       "    <tr style=\"text-align: right;\">\n",
       "      <th></th>\n",
       "      <th>admin</th>\n",
       "      <th>admin_dur</th>\n",
       "      <th>info</th>\n",
       "      <th>info_dur</th>\n",
       "      <th>prodrel</th>\n",
       "      <th>prodrel_dur</th>\n",
       "      <th>brate</th>\n",
       "      <th>erate</th>\n",
       "      <th>pagev</th>\n",
       "      <th>sday</th>\n",
       "      <th>month</th>\n",
       "      <th>os</th>\n",
       "      <th>browser</th>\n",
       "      <th>region</th>\n",
       "      <th>ttype</th>\n",
       "      <th>vtype</th>\n",
       "      <th>weekend</th>\n",
       "      <th>revenue</th>\n",
       "    </tr>\n",
       "  </thead>\n",
       "  <tbody>\n",
       "    <tr>\n",
       "      <th>1065</th>\n",
       "      <td>NaN</td>\n",
       "      <td>NaN</td>\n",
       "      <td>NaN</td>\n",
       "      <td>NaN</td>\n",
       "      <td>NaN</td>\n",
       "      <td>NaN</td>\n",
       "      <td>NaN</td>\n",
       "      <td>NaN</td>\n",
       "      <td>0.0</td>\n",
       "      <td>0.0</td>\n",
       "      <td>Mar</td>\n",
       "      <td>2</td>\n",
       "      <td>2</td>\n",
       "      <td>2</td>\n",
       "      <td>1</td>\n",
       "      <td>Returning_Visitor</td>\n",
       "      <td>False</td>\n",
       "      <td>False</td>\n",
       "    </tr>\n",
       "    <tr>\n",
       "      <th>1132</th>\n",
       "      <td>NaN</td>\n",
       "      <td>NaN</td>\n",
       "      <td>NaN</td>\n",
       "      <td>NaN</td>\n",
       "      <td>NaN</td>\n",
       "      <td>NaN</td>\n",
       "      <td>NaN</td>\n",
       "      <td>NaN</td>\n",
       "      <td>0.0</td>\n",
       "      <td>0.0</td>\n",
       "      <td>Mar</td>\n",
       "      <td>1</td>\n",
       "      <td>1</td>\n",
       "      <td>1</td>\n",
       "      <td>2</td>\n",
       "      <td>Returning_Visitor</td>\n",
       "      <td>False</td>\n",
       "      <td>False</td>\n",
       "    </tr>\n",
       "    <tr>\n",
       "      <th>1133</th>\n",
       "      <td>NaN</td>\n",
       "      <td>NaN</td>\n",
       "      <td>NaN</td>\n",
       "      <td>NaN</td>\n",
       "      <td>NaN</td>\n",
       "      <td>NaN</td>\n",
       "      <td>NaN</td>\n",
       "      <td>NaN</td>\n",
       "      <td>0.0</td>\n",
       "      <td>0.0</td>\n",
       "      <td>Mar</td>\n",
       "      <td>2</td>\n",
       "      <td>4</td>\n",
       "      <td>5</td>\n",
       "      <td>1</td>\n",
       "      <td>Returning_Visitor</td>\n",
       "      <td>False</td>\n",
       "      <td>False</td>\n",
       "    </tr>\n",
       "    <tr>\n",
       "      <th>1134</th>\n",
       "      <td>NaN</td>\n",
       "      <td>NaN</td>\n",
       "      <td>NaN</td>\n",
       "      <td>NaN</td>\n",
       "      <td>NaN</td>\n",
       "      <td>NaN</td>\n",
       "      <td>NaN</td>\n",
       "      <td>NaN</td>\n",
       "      <td>0.0</td>\n",
       "      <td>0.0</td>\n",
       "      <td>Mar</td>\n",
       "      <td>2</td>\n",
       "      <td>2</td>\n",
       "      <td>1</td>\n",
       "      <td>2</td>\n",
       "      <td>Returning_Visitor</td>\n",
       "      <td>False</td>\n",
       "      <td>False</td>\n",
       "    </tr>\n",
       "    <tr>\n",
       "      <th>1135</th>\n",
       "      <td>NaN</td>\n",
       "      <td>NaN</td>\n",
       "      <td>NaN</td>\n",
       "      <td>NaN</td>\n",
       "      <td>NaN</td>\n",
       "      <td>NaN</td>\n",
       "      <td>NaN</td>\n",
       "      <td>NaN</td>\n",
       "      <td>0.0</td>\n",
       "      <td>0.0</td>\n",
       "      <td>Mar</td>\n",
       "      <td>3</td>\n",
       "      <td>2</td>\n",
       "      <td>1</td>\n",
       "      <td>1</td>\n",
       "      <td>Returning_Visitor</td>\n",
       "      <td>False</td>\n",
       "      <td>False</td>\n",
       "    </tr>\n",
       "    <tr>\n",
       "      <th>1136</th>\n",
       "      <td>NaN</td>\n",
       "      <td>NaN</td>\n",
       "      <td>NaN</td>\n",
       "      <td>NaN</td>\n",
       "      <td>NaN</td>\n",
       "      <td>NaN</td>\n",
       "      <td>NaN</td>\n",
       "      <td>NaN</td>\n",
       "      <td>0.0</td>\n",
       "      <td>0.0</td>\n",
       "      <td>Mar</td>\n",
       "      <td>2</td>\n",
       "      <td>2</td>\n",
       "      <td>1</td>\n",
       "      <td>2</td>\n",
       "      <td>Returning_Visitor</td>\n",
       "      <td>False</td>\n",
       "      <td>False</td>\n",
       "    </tr>\n",
       "    <tr>\n",
       "      <th>1473</th>\n",
       "      <td>NaN</td>\n",
       "      <td>NaN</td>\n",
       "      <td>NaN</td>\n",
       "      <td>NaN</td>\n",
       "      <td>NaN</td>\n",
       "      <td>NaN</td>\n",
       "      <td>NaN</td>\n",
       "      <td>NaN</td>\n",
       "      <td>0.0</td>\n",
       "      <td>0.0</td>\n",
       "      <td>Mar</td>\n",
       "      <td>2</td>\n",
       "      <td>2</td>\n",
       "      <td>1</td>\n",
       "      <td>1</td>\n",
       "      <td>Returning_Visitor</td>\n",
       "      <td>True</td>\n",
       "      <td>False</td>\n",
       "    </tr>\n",
       "    <tr>\n",
       "      <th>1474</th>\n",
       "      <td>NaN</td>\n",
       "      <td>NaN</td>\n",
       "      <td>NaN</td>\n",
       "      <td>NaN</td>\n",
       "      <td>NaN</td>\n",
       "      <td>NaN</td>\n",
       "      <td>NaN</td>\n",
       "      <td>NaN</td>\n",
       "      <td>0.0</td>\n",
       "      <td>0.0</td>\n",
       "      <td>Mar</td>\n",
       "      <td>1</td>\n",
       "      <td>1</td>\n",
       "      <td>6</td>\n",
       "      <td>1</td>\n",
       "      <td>Returning_Visitor</td>\n",
       "      <td>True</td>\n",
       "      <td>False</td>\n",
       "    </tr>\n",
       "    <tr>\n",
       "      <th>1475</th>\n",
       "      <td>NaN</td>\n",
       "      <td>NaN</td>\n",
       "      <td>NaN</td>\n",
       "      <td>NaN</td>\n",
       "      <td>NaN</td>\n",
       "      <td>NaN</td>\n",
       "      <td>NaN</td>\n",
       "      <td>NaN</td>\n",
       "      <td>0.0</td>\n",
       "      <td>0.0</td>\n",
       "      <td>Mar</td>\n",
       "      <td>2</td>\n",
       "      <td>2</td>\n",
       "      <td>3</td>\n",
       "      <td>1</td>\n",
       "      <td>Returning_Visitor</td>\n",
       "      <td>False</td>\n",
       "      <td>False</td>\n",
       "    </tr>\n",
       "    <tr>\n",
       "      <th>1476</th>\n",
       "      <td>NaN</td>\n",
       "      <td>NaN</td>\n",
       "      <td>NaN</td>\n",
       "      <td>NaN</td>\n",
       "      <td>NaN</td>\n",
       "      <td>NaN</td>\n",
       "      <td>NaN</td>\n",
       "      <td>NaN</td>\n",
       "      <td>0.0</td>\n",
       "      <td>0.0</td>\n",
       "      <td>Mar</td>\n",
       "      <td>1</td>\n",
       "      <td>1</td>\n",
       "      <td>2</td>\n",
       "      <td>3</td>\n",
       "      <td>Returning_Visitor</td>\n",
       "      <td>False</td>\n",
       "      <td>False</td>\n",
       "    </tr>\n",
       "    <tr>\n",
       "      <th>2037</th>\n",
       "      <td>NaN</td>\n",
       "      <td>NaN</td>\n",
       "      <td>NaN</td>\n",
       "      <td>NaN</td>\n",
       "      <td>NaN</td>\n",
       "      <td>NaN</td>\n",
       "      <td>NaN</td>\n",
       "      <td>NaN</td>\n",
       "      <td>0.0</td>\n",
       "      <td>0.0</td>\n",
       "      <td>Mar</td>\n",
       "      <td>3</td>\n",
       "      <td>2</td>\n",
       "      <td>4</td>\n",
       "      <td>1</td>\n",
       "      <td>Returning_Visitor</td>\n",
       "      <td>False</td>\n",
       "      <td>False</td>\n",
       "    </tr>\n",
       "    <tr>\n",
       "      <th>2038</th>\n",
       "      <td>NaN</td>\n",
       "      <td>NaN</td>\n",
       "      <td>NaN</td>\n",
       "      <td>NaN</td>\n",
       "      <td>NaN</td>\n",
       "      <td>NaN</td>\n",
       "      <td>NaN</td>\n",
       "      <td>NaN</td>\n",
       "      <td>0.0</td>\n",
       "      <td>0.0</td>\n",
       "      <td>Mar</td>\n",
       "      <td>2</td>\n",
       "      <td>2</td>\n",
       "      <td>1</td>\n",
       "      <td>2</td>\n",
       "      <td>Returning_Visitor</td>\n",
       "      <td>False</td>\n",
       "      <td>False</td>\n",
       "    </tr>\n",
       "    <tr>\n",
       "      <th>2039</th>\n",
       "      <td>NaN</td>\n",
       "      <td>NaN</td>\n",
       "      <td>NaN</td>\n",
       "      <td>NaN</td>\n",
       "      <td>NaN</td>\n",
       "      <td>NaN</td>\n",
       "      <td>NaN</td>\n",
       "      <td>NaN</td>\n",
       "      <td>0.0</td>\n",
       "      <td>0.0</td>\n",
       "      <td>Mar</td>\n",
       "      <td>3</td>\n",
       "      <td>2</td>\n",
       "      <td>4</td>\n",
       "      <td>15</td>\n",
       "      <td>Returning_Visitor</td>\n",
       "      <td>True</td>\n",
       "      <td>False</td>\n",
       "    </tr>\n",
       "    <tr>\n",
       "      <th>2753</th>\n",
       "      <td>NaN</td>\n",
       "      <td>NaN</td>\n",
       "      <td>NaN</td>\n",
       "      <td>NaN</td>\n",
       "      <td>NaN</td>\n",
       "      <td>NaN</td>\n",
       "      <td>NaN</td>\n",
       "      <td>NaN</td>\n",
       "      <td>0.0</td>\n",
       "      <td>0.0</td>\n",
       "      <td>May</td>\n",
       "      <td>2</td>\n",
       "      <td>2</td>\n",
       "      <td>4</td>\n",
       "      <td>13</td>\n",
       "      <td>Returning_Visitor</td>\n",
       "      <td>False</td>\n",
       "      <td>False</td>\n",
       "    </tr>\n",
       "  </tbody>\n",
       "</table>\n",
       "</div>"
      ],
      "text/plain": [
       "      admin  admin_dur  info  info_dur  prodrel  prodrel_dur  brate  erate  \\\n",
       "1065    NaN        NaN   NaN       NaN      NaN          NaN    NaN    NaN   \n",
       "1132    NaN        NaN   NaN       NaN      NaN          NaN    NaN    NaN   \n",
       "1133    NaN        NaN   NaN       NaN      NaN          NaN    NaN    NaN   \n",
       "1134    NaN        NaN   NaN       NaN      NaN          NaN    NaN    NaN   \n",
       "1135    NaN        NaN   NaN       NaN      NaN          NaN    NaN    NaN   \n",
       "1136    NaN        NaN   NaN       NaN      NaN          NaN    NaN    NaN   \n",
       "1473    NaN        NaN   NaN       NaN      NaN          NaN    NaN    NaN   \n",
       "1474    NaN        NaN   NaN       NaN      NaN          NaN    NaN    NaN   \n",
       "1475    NaN        NaN   NaN       NaN      NaN          NaN    NaN    NaN   \n",
       "1476    NaN        NaN   NaN       NaN      NaN          NaN    NaN    NaN   \n",
       "2037    NaN        NaN   NaN       NaN      NaN          NaN    NaN    NaN   \n",
       "2038    NaN        NaN   NaN       NaN      NaN          NaN    NaN    NaN   \n",
       "2039    NaN        NaN   NaN       NaN      NaN          NaN    NaN    NaN   \n",
       "2753    NaN        NaN   NaN       NaN      NaN          NaN    NaN    NaN   \n",
       "\n",
       "      pagev  sday month  os  browser  region  ttype              vtype  \\\n",
       "1065    0.0   0.0   Mar   2        2       2      1  Returning_Visitor   \n",
       "1132    0.0   0.0   Mar   1        1       1      2  Returning_Visitor   \n",
       "1133    0.0   0.0   Mar   2        4       5      1  Returning_Visitor   \n",
       "1134    0.0   0.0   Mar   2        2       1      2  Returning_Visitor   \n",
       "1135    0.0   0.0   Mar   3        2       1      1  Returning_Visitor   \n",
       "1136    0.0   0.0   Mar   2        2       1      2  Returning_Visitor   \n",
       "1473    0.0   0.0   Mar   2        2       1      1  Returning_Visitor   \n",
       "1474    0.0   0.0   Mar   1        1       6      1  Returning_Visitor   \n",
       "1475    0.0   0.0   Mar   2        2       3      1  Returning_Visitor   \n",
       "1476    0.0   0.0   Mar   1        1       2      3  Returning_Visitor   \n",
       "2037    0.0   0.0   Mar   3        2       4      1  Returning_Visitor   \n",
       "2038    0.0   0.0   Mar   2        2       1      2  Returning_Visitor   \n",
       "2039    0.0   0.0   Mar   3        2       4     15  Returning_Visitor   \n",
       "2753    0.0   0.0   May   2        2       4     13  Returning_Visitor   \n",
       "\n",
       "      weekend  revenue  \n",
       "1065    False    False  \n",
       "1132    False    False  \n",
       "1133    False    False  \n",
       "1134    False    False  \n",
       "1135    False    False  \n",
       "1136    False    False  \n",
       "1473     True    False  \n",
       "1474     True    False  \n",
       "1475    False    False  \n",
       "1476    False    False  \n",
       "2037    False    False  \n",
       "2038    False    False  \n",
       "2039     True    False  \n",
       "2753    False    False  "
      ]
     },
     "execution_count": 49,
     "metadata": {},
     "output_type": "execute_result"
    }
   ],
   "source": [
    "df.loc[df.isna().any(axis=1)]# checking the total number of rows affected by missing values"
   ]
  },
  {
   "cell_type": "code",
   "execution_count": 50,
   "metadata": {
    "colab": {
     "base_uri": "https://localhost:8080/"
    },
    "id": "8kAdgtA3x_Ub",
    "outputId": "a8d7878d-c5ea-4b97-893c-b7ebbdc49293"
   },
   "outputs": [
    {
     "name": "stdout",
     "output_type": "stream",
     "text": [
      "admin\n",
      "28 ####### [ 0.  1.  2.  4. 12.  3. 10.  6.  5.  9.  8. 16. 13. 11.  7. 18. 14. 17.\n",
      " 19. 15. nan 24. 22. 21. 20. 23. 27. 26.]\n",
      "===============================================================\n",
      "admin_dur\n",
      "3337 ####### [  0.         -1.         53.        ... 167.9107143 305.125\n",
      " 150.3571429]\n",
      "===============================================================\n",
      "info\n",
      "18 ####### [ 0.  1.  2.  4. 16.  5.  3. 14.  6. 12.  7. nan  9. 10.  8. 11. 24. 13.]\n",
      "===============================================================\n",
      "info_dur\n",
      "1260 ####### [  0.    -1.   120.   ... 547.75 368.25 211.25]\n",
      "===============================================================\n",
      "prodrel\n",
      "312 ####### [  1.   2.  10.  19.   3.  16.   7.   6.  23.  13.  20.   8.   5.  32.\n",
      "   4.  45.  14.  52.   9.  46.  15.  22.  11.  12.  36.  42.  27.  90.\n",
      "  18.  38.  17. 128.  25.  30.  21.  51.  26.  28.  31.  24.  50.  96.\n",
      "  49.  68.  98.  67.  55.  35.  37.  29.  34.  71.  63.  87.  40.  33.\n",
      "  54.  64.  75.  39. 111.  81.  61.  47.  44.  88. 149.  41.   0.  79.\n",
      "  66.  43. 258.  80.  62.  83. 173.  48.  58.  57.  56.  69.  82.  59.\n",
      " 109. 287.  53.  84.  78. 137. 113.  89.  65.  60.  nan 104. 129.  77.\n",
      "  74.  93.  76.  72. 194. 140. 110. 132. 115.  73. 328. 160.  86. 150.\n",
      "  95. 130. 151. 117. 124. 127. 125. 116. 105.  92. 157. 154. 220. 187.\n",
      " 112. 131. 159.  94. 204. 142. 206. 102. 313. 145.  85.  97. 198. 181.\n",
      " 126. 106. 101. 108. 119.  70. 122.  91. 276. 100. 291. 114. 172. 217.\n",
      " 141. 133. 156. 136. 180. 135. 195.  99. 362. 179. 118. 175. 148. 440.\n",
      " 103. 178. 184. 705. 134. 176. 146. 189. 120. 193. 222. 121. 107. 305.\n",
      " 199. 439. 223. 230. 280. 377. 310. 158. 486. 153. 139. 182. 221. 229.\n",
      " 216. 170. 202. 346. 274. 240. 162. 123. 211. 227. 168. 161. 429. 686.\n",
      " 167. 518. 256. 255. 358. 213. 191. 282. 155. 138. 246. 237. 271. 171.\n",
      " 414. 219. 262. 409. 243. 241. 197. 449. 143. 188. 391. 238. 152. 165.\n",
      " 293. 174. 584. 164. 311. 340. 250. 200. 385. 292. 232. 251. 517. 225.\n",
      " 169. 309. 235. 501. 224. 275. 318. 144. 397. 343. 245. 186. 337. 351.\n",
      " 166. 349. 423. 359. 163. 147. 264. 312. 226. 324. 266. 260. 338. 272.\n",
      " 534. 470. 207. 218. 326. 190. 304. 205. 233. 401. 177. 330. 286. 247.\n",
      " 357. 315. 231. 339. 283. 374. 248. 279. 281. 234. 261. 290. 336. 378.\n",
      " 254. 183. 210. 192.]\n",
      "===============================================================\n",
      "prodrel_dur\n",
      "9553 ####### [  0.    64.    -1.   ... 465.75 184.25 346.  ]\n",
      "===============================================================\n",
      "brate\n",
      "1873 ####### [0.2        0.         0.05       ... 0.00382775 0.00086956 0.01114899]\n",
      "===============================================================\n",
      "erate\n",
      "4778 ####### [0.2        0.1        0.14       ... 0.01276133 0.01395349 0.02903061]\n",
      "===============================================================\n",
      "pagev\n",
      "2704 ####### [ 0.         54.17976426 19.44707913 ... 78.81172527  3.68540082\n",
      " 12.24171745]\n",
      "===============================================================\n",
      "sday\n",
      "6 ####### [0.  0.4 0.8 1.  0.2 0.6]\n",
      "===============================================================\n",
      "month\n",
      "10 ####### ['Feb' 'Mar' 'May' 'Oct' 'June' 'Jul' 'Aug' 'Nov' 'Sep' 'Dec']\n",
      "===============================================================\n",
      "os\n",
      "8 ####### [1 2 4 3 7 6 8 5]\n",
      "===============================================================\n",
      "browser\n",
      "13 ####### [ 1  2  3  4  5  6  7 10  8  9 12 13 11]\n",
      "===============================================================\n",
      "region\n",
      "9 ####### [1 9 2 3 4 5 6 7 8]\n",
      "===============================================================\n",
      "ttype\n",
      "20 ####### [ 1  2  3  4  5  6  7  8  9 10 11 12 13 14 15 18 19 16 17 20]\n",
      "===============================================================\n",
      "vtype\n",
      "3 ####### ['Returning_Visitor' 'New_Visitor' 'Other']\n",
      "===============================================================\n",
      "weekend\n",
      "2 ####### [False  True]\n",
      "===============================================================\n",
      "revenue\n",
      "2 ####### [False  True]\n",
      "===============================================================\n"
     ]
    }
   ],
   "source": [
    "cont=[]\n",
    "for i in list(df.columns):\n",
    "    print(i)\n",
    "    print(len(df[i].unique()),\"#######\",df[i].unique())\n",
    "    if len(df[i].unique())>20:\n",
    "       cont.append(i)    ### making a list of continous variables\n",
    "    print(\"===============================================================\")\n",
    "cont.append('sday')"
   ]
  },
  {
   "cell_type": "code",
   "execution_count": 51,
   "metadata": {
    "colab": {
     "base_uri": "https://localhost:8080/"
    },
    "id": "lvGnGyOjyFX8",
    "outputId": "d94713ca-edd8-4b37-f797-1568b82d0ff5"
   },
   "outputs": [
    {
     "data": {
      "text/plain": [
       "0    0.845255\n",
       "1    0.154745\n",
       "Name: revenue, dtype: float64"
      ]
     },
     "execution_count": 51,
     "metadata": {},
     "output_type": "execute_result"
    }
   ],
   "source": [
    "df[\"revenue\"]=df[\"revenue\"].replace({False:0,True:1})#replacing True/False with 1/0 in the target variable\n",
    "df[\"revenue\"].value_counts()/df.shape[0]"
   ]
  },
  {
   "cell_type": "code",
   "execution_count": 52,
   "metadata": {
    "id": "eulu86DIyGbU"
   },
   "outputs": [],
   "source": [
    "cont.append('info')\n",
    "cat=[]\n",
    "for i in list(df.columns):\n",
    "    if i not in cont:\n",
    "        cat.append(i)#amking a list of categorical random variables\n",
    "cat=cat[:-1]"
   ]
  },
  {
   "cell_type": "code",
   "execution_count": 53,
   "metadata": {
    "colab": {
     "base_uri": "https://localhost:8080/"
    },
    "id": "l9qFaMqKyJhx",
    "outputId": "36ae1a04-bcbd-44df-ca89-3af483646207"
   },
   "outputs": [
    {
     "name": "stdout",
     "output_type": "stream",
     "text": [
      "['month', 'os', 'browser', 'region', 'ttype', 'vtype', 'weekend']\n"
     ]
    }
   ],
   "source": [
    "print(cat)"
   ]
  },
  {
   "cell_type": "code",
   "execution_count": 54,
   "metadata": {
    "colab": {
     "base_uri": "https://localhost:8080/"
    },
    "id": "1QBt4ZftyMdp",
    "outputId": "ad3e546c-ff20-4ca2-e38b-4844a0f49bfc"
   },
   "outputs": [
    {
     "name": "stdout",
     "output_type": "stream",
     "text": [
      "['admin', 'admin_dur', 'info_dur', 'prodrel', 'prodrel_dur', 'brate', 'erate', 'pagev', 'sday', 'info']\n"
     ]
    }
   ],
   "source": [
    "print(cont)"
   ]
  },
  {
   "cell_type": "code",
   "execution_count": 55,
   "metadata": {
    "id": "I4WqezzXyOxS"
   },
   "outputs": [],
   "source": [
    "### Dropping the missing values \n",
    "df1=df\n",
    "df1=df1.dropna()"
   ]
  },
  {
   "cell_type": "code",
   "execution_count": 56,
   "metadata": {
    "colab": {
     "base_uri": "https://localhost:8080/",
     "height": 269
    },
    "id": "YK5--7eeyREh",
    "outputId": "95393083-d801-4213-fc47-284c39783a2d"
   },
   "outputs": [
    {
     "data": {
      "text/plain": [
       "<AxesSubplot:ylabel='admin'>"
      ]
     },
     "execution_count": 56,
     "metadata": {},
     "output_type": "execute_result"
    },
    {
     "data": {
      "image/png": "[encoded data removed]",
      "text/plain": [
       "<Figure size 432x288 with 1 Axes>"
      ]
     },
     "metadata": {
      "needs_background": "light"
     },
     "output_type": "display_data"
    }
   ],
   "source": [
    "import matplotlib.pyplot as plt\n",
    "import seaborn as sns\n",
    "sns.boxplot(y=cont[0],data=df1)"
   ]
  },
  {
   "cell_type": "code",
   "execution_count": 57,
   "metadata": {
    "colab": {
     "base_uri": "https://localhost:8080/",
     "height": 269
    },
    "id": "c7GXkuKwyUi5",
    "outputId": "07ac7dfe-5a15-4bbe-f76d-478d98c91612"
   },
   "outputs": [
    {
     "data": {
      "text/plain": [
       "<AxesSubplot:ylabel='admin_dur'>"
      ]
     },
     "execution_count": 57,
     "metadata": {},
     "output_type": "execute_result"
    },
    {
     "data": {
      "image/png": "[encoded data removed]",
      "text/plain": [
       "<Figure size 432x288 with 1 Axes>"
      ]
     },
     "metadata": {
      "needs_background": "light"
     },
     "output_type": "display_data"
    }
   ],
   "source": [
    "sns.boxplot(y=cont[1],data=df1)"
   ]
  },
  {
   "cell_type": "code",
   "execution_count": 58,
   "metadata": {
    "colab": {
     "base_uri": "https://localhost:8080/",
     "height": 269
    },
    "id": "Qfp9B3KqyXxK",
    "outputId": "04e42abc-3598-4fbf-84f6-24339a9957e6"
   },
   "outputs": [
    {
     "data": {
      "text/plain": [
       "<AxesSubplot:ylabel='info_dur'>"
      ]
     },
     "execution_count": 58,
     "metadata": {},
     "output_type": "execute_result"
    },
    {
     "data": {
      "image/png": "[encoded data removed]",
      "text/plain": [
       "<Figure size 432x288 with 1 Axes>"
      ]
     },
     "metadata": {
      "needs_background": "light"
     },
     "output_type": "display_data"
    }
   ],
   "source": [
    "sns.boxplot(y=cont[2],data=df1)"
   ]
  },
  {
   "cell_type": "code",
   "execution_count": 59,
   "metadata": {
    "colab": {
     "base_uri": "https://localhost:8080/",
     "height": 269
    },
    "id": "0YarpcAoyZ-y",
    "outputId": "85974105-0ee9-4df0-87e3-64c2a1ee465c"
   },
   "outputs": [
    {
     "data": {
      "text/plain": [
       "<AxesSubplot:ylabel='prodrel'>"
      ]
     },
     "execution_count": 59,
     "metadata": {},
     "output_type": "execute_result"
    },
    {
     "data": {
      "image/png": "[encoded data removed]",
      "text/plain": [
       "<Figure size 432x288 with 1 Axes>"
      ]
     },
     "metadata": {
      "needs_background": "light"
     },
     "output_type": "display_data"
    }
   ],
   "source": [
    "sns.boxplot(y=cont[3],data=df1)"
   ]
  },
  {
   "cell_type": "code",
   "execution_count": 60,
   "metadata": {
    "colab": {
     "base_uri": "https://localhost:8080/",
     "height": 269
    },
    "id": "hXeuCzuaycQx",
    "outputId": "e51eef94-eee2-4fc1-b170-99c35feddb79"
   },
   "outputs": [
    {
     "data": {
      "text/plain": [
       "<AxesSubplot:ylabel='prodrel_dur'>"
      ]
     },
     "execution_count": 60,
     "metadata": {},
     "output_type": "execute_result"
    },
    {
     "data": {
      "image/png": "[encoded data removed]",
      "text/plain": [
       "<Figure size 432x288 with 1 Axes>"
      ]
     },
     "metadata": {
      "needs_background": "light"
     },
     "output_type": "display_data"
    }
   ],
   "source": [
    "sns.boxplot(y=cont[4],data=df1)"
   ]
  },
  {
   "cell_type": "code",
   "execution_count": 61,
   "metadata": {
    "colab": {
     "base_uri": "https://localhost:8080/",
     "height": 269
    },
    "id": "-Ij8rQVfyfOy",
    "outputId": "32994332-256b-4a33-88ba-1221cb288b82"
   },
   "outputs": [
    {
     "data": {
      "text/plain": [
       "<AxesSubplot:ylabel='brate'>"
      ]
     },
     "execution_count": 61,
     "metadata": {},
     "output_type": "execute_result"
    },
    {
     "data": {
      "image/png": "[encoded data removed]",
      "text/plain": [
       "<Figure size 432x288 with 1 Axes>"
      ]
     },
     "metadata": {
      "needs_background": "light"
     },
     "output_type": "display_data"
    }
   ],
   "source": [
    "sns.boxplot(y=cont[5],data=df1)"
   ]
  },
  {
   "cell_type": "code",
   "execution_count": 62,
   "metadata": {
    "colab": {
     "base_uri": "https://localhost:8080/",
     "height": 269
    },
    "id": "i856NpIGyktT",
    "outputId": "6298d381-0a85-4d63-9fc8-bbb66cdff705"
   },
   "outputs": [
    {
     "data": {
      "text/plain": [
       "<AxesSubplot:ylabel='erate'>"
      ]
     },
     "execution_count": 62,
     "metadata": {},
     "output_type": "execute_result"
    },
    {
     "data": {
      "image/png": "[encoded data removed]",
      "text/plain": [
       "<Figure size 432x288 with 1 Axes>"
      ]
     },
     "metadata": {
      "needs_background": "light"
     },
     "output_type": "display_data"
    }
   ],
   "source": [
    "sns.boxplot(y=cont[6],data=df1)"
   ]
  },
  {
   "cell_type": "code",
   "execution_count": 63,
   "metadata": {
    "colab": {
     "base_uri": "https://localhost:8080/",
     "height": 269
    },
    "id": "rP4CuZr0yoKx",
    "outputId": "5868ea1f-814a-45ef-a91a-792d38003dcd"
   },
   "outputs": [
    {
     "data": {
      "text/plain": [
       "<AxesSubplot:ylabel='pagev'>"
      ]
     },
     "execution_count": 63,
     "metadata": {},
     "output_type": "execute_result"
    },
    {
     "data": {
      "image/png": "[encoded data removed]",
      "text/plain": [
       "<Figure size 432x288 with 1 Axes>"
      ]
     },
     "metadata": {
      "needs_background": "light"
     },
     "output_type": "display_data"
    }
   ],
   "source": [
    "sns.boxplot(y=cont[7],data=df1)"
   ]
  },
  {
   "cell_type": "code",
   "execution_count": 64,
   "metadata": {
    "colab": {
     "base_uri": "https://localhost:8080/"
    },
    "id": "O256S0V3yoRB",
    "outputId": "85fbcfb6-826d-414a-e865-fa5ccf8a7572"
   },
   "outputs": [
    {
     "data": {
      "text/plain": [
       "(12316, 18)"
      ]
     },
     "execution_count": 64,
     "metadata": {},
     "output_type": "execute_result"
    }
   ],
   "source": [
    "df1.shape#shape of the daaset after dropping missing values"
   ]
  },
  {
   "cell_type": "code",
   "execution_count": 65,
   "metadata": {
    "colab": {
     "base_uri": "https://localhost:8080/",
     "height": 122
    },
    "id": "oKEwSbiyyx2D",
    "outputId": "2c2e37a9-0dfc-4589-beb2-79d95327076e"
   },
   "outputs": [
    {
     "data": {
      "text/plain": [
       "\"X_train=df1.iloc[:,:-1]\\n#X_train=pd.get_dummies(X_train,columns=cat,drop_first=True)\\n\\ny_train=df1['revenue']\\n\\n\\nX_train.loc[X_train.isna().any(axis=1)]\\n\\nfrom imblearn.over_sampling import SMOTE\\nsmote=SMOTE(sampling_strategy=0.7,random_state=10)\\nX_train, y_train = smote.fit_resample(X_train, y_train)\\n\\nX_train.loc[X_train.isna().any(axis=1)]\\n\\nX_train.shape\\n\\ny_train.shape\\n\\ntype(y_train)\\n\\nX_train.loc[y_train==0].shape[0]/X_train.shape[0]\\n\\nX_train.loc[y_train==1].shape[0]\\n\\nfrom imblearn.combine import SMOTETomek\\nsmk = SMOTETomek()\\nX_res,y_res=smk.fit_resample(X_train,y_train)\\n\\nX_train.loc[y_train==0].shape[0]\\n\\nX_train.loc[y_train==1].shape[0]\\n\\nfrom imblearn.under_sampling import TomekLinks\\n\\ntl = TomekLinks()\\nX_tl, y_tl = tl.fit_resample(X_train, y_train)\\n\\n\\nX_tl.loc[y_tl==0].shape[0]/X_tl.shape[0]\\n\\nX_tl.loc[y_tl==1].shape[0]/X_tl.shape[0]\""
      ]
     },
     "execution_count": 65,
     "metadata": {},
     "output_type": "execute_result"
    }
   ],
   "source": [
    "'''X_train=df1.iloc[:,:-1]\n",
    "#X_train=pd.get_dummies(X_train,columns=cat,drop_first=True)\n",
    "\n",
    "y_train=df1['revenue']\n",
    "\n",
    "\n",
    "X_train.loc[X_train.isna().any(axis=1)]\n",
    "\n",
    "from imblearn.over_sampling import SMOTE\n",
    "smote=SMOTE(sampling_strategy=0.7,random_state=10)\n",
    "X_train, y_train = smote.fit_resample(X_train, y_train)\n",
    "\n",
    "X_train.loc[X_train.isna().any(axis=1)]\n",
    "\n",
    "X_train.shape\n",
    "\n",
    "y_train.shape\n",
    "\n",
    "type(y_train)\n",
    "\n",
    "X_train.loc[y_train==0].shape[0]/X_train.shape[0]\n",
    "\n",
    "X_train.loc[y_train==1].shape[0]\n",
    "\n",
    "from imblearn.combine import SMOTETomek\n",
    "smk = SMOTETomek()\n",
    "X_res,y_res=smk.fit_resample(X_train,y_train)\n",
    "\n",
    "X_train.loc[y_train==0].shape[0]\n",
    "\n",
    "X_train.loc[y_train==1].shape[0]\n",
    "\n",
    "from imblearn.under_sampling import TomekLinks\n",
    "\n",
    "tl = TomekLinks()\n",
    "X_tl, y_tl = tl.fit_resample(X_train, y_train)\n",
    "\n",
    "\n",
    "X_tl.loc[y_tl==0].shape[0]/X_tl.shape[0]\n",
    "\n",
    "X_tl.loc[y_tl==1].shape[0]/X_tl.shape[0]'''"
   ]
  },
  {
   "cell_type": "code",
   "execution_count": 66,
   "metadata": {
    "id": "VRWbNY09KRRe"
   },
   "outputs": [],
   "source": [
    "X=df1.iloc[:,:-1]\n",
    "X=pd.get_dummies(X,columns=cat,drop_first=True)#one hot encoding of categorical random variables\n",
    "Y=df1['revenue']\n",
    "#Splitting the dataset into train and test\n",
    "Xtrain,Xtest,Ytrain,Ytest=model_selection.train_test_split(X,Y,test_size=.2,random_state=20)"
   ]
  },
  {
   "cell_type": "code",
   "execution_count": 67,
   "metadata": {
    "colab": {
     "base_uri": "https://localhost:8080/"
    },
    "id": "eSuQB1pGKTto",
    "outputId": "ed05b81d-d4a7-4204-8f1e-7d8b97aa0c53"
   },
   "outputs": [
    {
     "data": {
      "text/plain": [
       "(9852, 68)"
      ]
     },
     "execution_count": 67,
     "metadata": {},
     "output_type": "execute_result"
    }
   ],
   "source": [
    "Xtrain.shape"
   ]
  },
  {
   "cell_type": "code",
   "execution_count": 26,
   "metadata": {
    "colab": {
     "base_uri": "https://localhost:8080/",
     "height": 488
    },
    "id": "LsJVgBO5KU_Y",
    "outputId": "af4df7d4-cd7f-4a5f-a1b1-4752859658be"
   },
   "outputs": [
    {
     "data": {
      "text/html": [
       "<div>\n",
       "<style scoped>\n",
       "    .dataframe tbody tr th:only-of-type {\n",
       "        vertical-align: middle;\n",
       "    }\n",
       "\n",
       "    .dataframe tbody tr th {\n",
       "        vertical-align: top;\n",
       "    }\n",
       "\n",
       "    .dataframe thead th {\n",
       "        text-align: right;\n",
       "    }\n",
       "</style>\n",
       "<table border=\"1\" class=\"dataframe\">\n",
       "  <thead>\n",
       "    <tr style=\"text-align: right;\">\n",
       "      <th></th>\n",
       "      <th>admin</th>\n",
       "      <th>admin_dur</th>\n",
       "      <th>info</th>\n",
       "      <th>info_dur</th>\n",
       "      <th>prodrel</th>\n",
       "      <th>prodrel_dur</th>\n",
       "      <th>brate</th>\n",
       "      <th>erate</th>\n",
       "      <th>pagev</th>\n",
       "      <th>sday</th>\n",
       "      <th>...</th>\n",
       "      <th>ttype_14</th>\n",
       "      <th>ttype_15</th>\n",
       "      <th>ttype_16</th>\n",
       "      <th>ttype_17</th>\n",
       "      <th>ttype_18</th>\n",
       "      <th>ttype_19</th>\n",
       "      <th>ttype_20</th>\n",
       "      <th>vtype_Other</th>\n",
       "      <th>vtype_Returning_Visitor</th>\n",
       "      <th>weekend_True</th>\n",
       "    </tr>\n",
       "  </thead>\n",
       "  <tbody>\n",
       "    <tr>\n",
       "      <th>0</th>\n",
       "      <td>0.0</td>\n",
       "      <td>0.0</td>\n",
       "      <td>0.0</td>\n",
       "      <td>0.0</td>\n",
       "      <td>1.0</td>\n",
       "      <td>0.000000</td>\n",
       "      <td>0.200000</td>\n",
       "      <td>0.200000</td>\n",
       "      <td>0.000000</td>\n",
       "      <td>0.0</td>\n",
       "      <td>...</td>\n",
       "      <td>0</td>\n",
       "      <td>0</td>\n",
       "      <td>0</td>\n",
       "      <td>0</td>\n",
       "      <td>0</td>\n",
       "      <td>0</td>\n",
       "      <td>0</td>\n",
       "      <td>0</td>\n",
       "      <td>1</td>\n",
       "      <td>0</td>\n",
       "    </tr>\n",
       "    <tr>\n",
       "      <th>1</th>\n",
       "      <td>0.0</td>\n",
       "      <td>0.0</td>\n",
       "      <td>0.0</td>\n",
       "      <td>0.0</td>\n",
       "      <td>2.0</td>\n",
       "      <td>64.000000</td>\n",
       "      <td>0.000000</td>\n",
       "      <td>0.100000</td>\n",
       "      <td>0.000000</td>\n",
       "      <td>0.0</td>\n",
       "      <td>...</td>\n",
       "      <td>0</td>\n",
       "      <td>0</td>\n",
       "      <td>0</td>\n",
       "      <td>0</td>\n",
       "      <td>0</td>\n",
       "      <td>0</td>\n",
       "      <td>0</td>\n",
       "      <td>0</td>\n",
       "      <td>1</td>\n",
       "      <td>0</td>\n",
       "    </tr>\n",
       "    <tr>\n",
       "      <th>2</th>\n",
       "      <td>0.0</td>\n",
       "      <td>-1.0</td>\n",
       "      <td>0.0</td>\n",
       "      <td>-1.0</td>\n",
       "      <td>1.0</td>\n",
       "      <td>-1.000000</td>\n",
       "      <td>0.200000</td>\n",
       "      <td>0.200000</td>\n",
       "      <td>0.000000</td>\n",
       "      <td>0.0</td>\n",
       "      <td>...</td>\n",
       "      <td>0</td>\n",
       "      <td>0</td>\n",
       "      <td>0</td>\n",
       "      <td>0</td>\n",
       "      <td>0</td>\n",
       "      <td>0</td>\n",
       "      <td>0</td>\n",
       "      <td>0</td>\n",
       "      <td>1</td>\n",
       "      <td>0</td>\n",
       "    </tr>\n",
       "    <tr>\n",
       "      <th>3</th>\n",
       "      <td>0.0</td>\n",
       "      <td>0.0</td>\n",
       "      <td>0.0</td>\n",
       "      <td>0.0</td>\n",
       "      <td>2.0</td>\n",
       "      <td>2.666667</td>\n",
       "      <td>0.050000</td>\n",
       "      <td>0.140000</td>\n",
       "      <td>0.000000</td>\n",
       "      <td>0.0</td>\n",
       "      <td>...</td>\n",
       "      <td>0</td>\n",
       "      <td>0</td>\n",
       "      <td>0</td>\n",
       "      <td>0</td>\n",
       "      <td>0</td>\n",
       "      <td>0</td>\n",
       "      <td>0</td>\n",
       "      <td>0</td>\n",
       "      <td>1</td>\n",
       "      <td>0</td>\n",
       "    </tr>\n",
       "    <tr>\n",
       "      <th>4</th>\n",
       "      <td>0.0</td>\n",
       "      <td>0.0</td>\n",
       "      <td>0.0</td>\n",
       "      <td>0.0</td>\n",
       "      <td>10.0</td>\n",
       "      <td>627.500000</td>\n",
       "      <td>0.020000</td>\n",
       "      <td>0.050000</td>\n",
       "      <td>0.000000</td>\n",
       "      <td>0.0</td>\n",
       "      <td>...</td>\n",
       "      <td>0</td>\n",
       "      <td>0</td>\n",
       "      <td>0</td>\n",
       "      <td>0</td>\n",
       "      <td>0</td>\n",
       "      <td>0</td>\n",
       "      <td>0</td>\n",
       "      <td>0</td>\n",
       "      <td>1</td>\n",
       "      <td>1</td>\n",
       "    </tr>\n",
       "    <tr>\n",
       "      <th>...</th>\n",
       "      <td>...</td>\n",
       "      <td>...</td>\n",
       "      <td>...</td>\n",
       "      <td>...</td>\n",
       "      <td>...</td>\n",
       "      <td>...</td>\n",
       "      <td>...</td>\n",
       "      <td>...</td>\n",
       "      <td>...</td>\n",
       "      <td>...</td>\n",
       "      <td>...</td>\n",
       "      <td>...</td>\n",
       "      <td>...</td>\n",
       "      <td>...</td>\n",
       "      <td>...</td>\n",
       "      <td>...</td>\n",
       "      <td>...</td>\n",
       "      <td>...</td>\n",
       "      <td>...</td>\n",
       "      <td>...</td>\n",
       "      <td>...</td>\n",
       "    </tr>\n",
       "    <tr>\n",
       "      <th>12325</th>\n",
       "      <td>3.0</td>\n",
       "      <td>145.0</td>\n",
       "      <td>0.0</td>\n",
       "      <td>0.0</td>\n",
       "      <td>53.0</td>\n",
       "      <td>1783.791667</td>\n",
       "      <td>0.007143</td>\n",
       "      <td>0.029031</td>\n",
       "      <td>12.241717</td>\n",
       "      <td>0.0</td>\n",
       "      <td>...</td>\n",
       "      <td>0</td>\n",
       "      <td>0</td>\n",
       "      <td>0</td>\n",
       "      <td>0</td>\n",
       "      <td>0</td>\n",
       "      <td>0</td>\n",
       "      <td>0</td>\n",
       "      <td>0</td>\n",
       "      <td>1</td>\n",
       "      <td>1</td>\n",
       "    </tr>\n",
       "    <tr>\n",
       "      <th>12326</th>\n",
       "      <td>0.0</td>\n",
       "      <td>0.0</td>\n",
       "      <td>0.0</td>\n",
       "      <td>0.0</td>\n",
       "      <td>5.0</td>\n",
       "      <td>465.750000</td>\n",
       "      <td>0.000000</td>\n",
       "      <td>0.021333</td>\n",
       "      <td>0.000000</td>\n",
       "      <td>0.0</td>\n",
       "      <td>...</td>\n",
       "      <td>0</td>\n",
       "      <td>0</td>\n",
       "      <td>0</td>\n",
       "      <td>0</td>\n",
       "      <td>0</td>\n",
       "      <td>0</td>\n",
       "      <td>0</td>\n",
       "      <td>0</td>\n",
       "      <td>1</td>\n",
       "      <td>1</td>\n",
       "    </tr>\n",
       "    <tr>\n",
       "      <th>12327</th>\n",
       "      <td>0.0</td>\n",
       "      <td>0.0</td>\n",
       "      <td>0.0</td>\n",
       "      <td>0.0</td>\n",
       "      <td>6.0</td>\n",
       "      <td>184.250000</td>\n",
       "      <td>0.083333</td>\n",
       "      <td>0.086667</td>\n",
       "      <td>0.000000</td>\n",
       "      <td>0.0</td>\n",
       "      <td>...</td>\n",
       "      <td>0</td>\n",
       "      <td>0</td>\n",
       "      <td>0</td>\n",
       "      <td>0</td>\n",
       "      <td>0</td>\n",
       "      <td>0</td>\n",
       "      <td>0</td>\n",
       "      <td>0</td>\n",
       "      <td>1</td>\n",
       "      <td>1</td>\n",
       "    </tr>\n",
       "    <tr>\n",
       "      <th>12328</th>\n",
       "      <td>4.0</td>\n",
       "      <td>75.0</td>\n",
       "      <td>0.0</td>\n",
       "      <td>0.0</td>\n",
       "      <td>15.0</td>\n",
       "      <td>346.000000</td>\n",
       "      <td>0.000000</td>\n",
       "      <td>0.021053</td>\n",
       "      <td>0.000000</td>\n",
       "      <td>0.0</td>\n",
       "      <td>...</td>\n",
       "      <td>0</td>\n",
       "      <td>0</td>\n",
       "      <td>0</td>\n",
       "      <td>0</td>\n",
       "      <td>0</td>\n",
       "      <td>0</td>\n",
       "      <td>0</td>\n",
       "      <td>0</td>\n",
       "      <td>1</td>\n",
       "      <td>0</td>\n",
       "    </tr>\n",
       "    <tr>\n",
       "      <th>12329</th>\n",
       "      <td>0.0</td>\n",
       "      <td>0.0</td>\n",
       "      <td>0.0</td>\n",
       "      <td>0.0</td>\n",
       "      <td>3.0</td>\n",
       "      <td>21.250000</td>\n",
       "      <td>0.000000</td>\n",
       "      <td>0.066667</td>\n",
       "      <td>0.000000</td>\n",
       "      <td>0.0</td>\n",
       "      <td>...</td>\n",
       "      <td>0</td>\n",
       "      <td>0</td>\n",
       "      <td>0</td>\n",
       "      <td>0</td>\n",
       "      <td>0</td>\n",
       "      <td>0</td>\n",
       "      <td>0</td>\n",
       "      <td>0</td>\n",
       "      <td>0</td>\n",
       "      <td>1</td>\n",
       "    </tr>\n",
       "  </tbody>\n",
       "</table>\n",
       "<p>12316 rows × 68 columns</p>\n",
       "</div>"
      ],
      "text/plain": [
       "       admin  admin_dur  info  info_dur  prodrel  prodrel_dur     brate  \\\n",
       "0        0.0        0.0   0.0       0.0      1.0     0.000000  0.200000   \n",
       "1        0.0        0.0   0.0       0.0      2.0    64.000000  0.000000   \n",
       "2        0.0       -1.0   0.0      -1.0      1.0    -1.000000  0.200000   \n",
       "3        0.0        0.0   0.0       0.0      2.0     2.666667  0.050000   \n",
       "4        0.0        0.0   0.0       0.0     10.0   627.500000  0.020000   \n",
       "...      ...        ...   ...       ...      ...          ...       ...   \n",
       "12325    3.0      145.0   0.0       0.0     53.0  1783.791667  0.007143   \n",
       "12326    0.0        0.0   0.0       0.0      5.0   465.750000  0.000000   \n",
       "12327    0.0        0.0   0.0       0.0      6.0   184.250000  0.083333   \n",
       "12328    4.0       75.0   0.0       0.0     15.0   346.000000  0.000000   \n",
       "12329    0.0        0.0   0.0       0.0      3.0    21.250000  0.000000   \n",
       "\n",
       "          erate      pagev  sday  ...  ttype_14  ttype_15  ttype_16  ttype_17  \\\n",
       "0      0.200000   0.000000   0.0  ...         0         0         0         0   \n",
       "1      0.100000   0.000000   0.0  ...         0         0         0         0   \n",
       "2      0.200000   0.000000   0.0  ...         0         0         0         0   \n",
       "3      0.140000   0.000000   0.0  ...         0         0         0         0   \n",
       "4      0.050000   0.000000   0.0  ...         0         0         0         0   \n",
       "...         ...        ...   ...  ...       ...       ...       ...       ...   \n",
       "12325  0.029031  12.241717   0.0  ...         0         0         0         0   \n",
       "12326  0.021333   0.000000   0.0  ...         0         0         0         0   \n",
       "12327  0.086667   0.000000   0.0  ...         0         0         0         0   \n",
       "12328  0.021053   0.000000   0.0  ...         0         0         0         0   \n",
       "12329  0.066667   0.000000   0.0  ...         0         0         0         0   \n",
       "\n",
       "       ttype_18  ttype_19  ttype_20  vtype_Other  vtype_Returning_Visitor  \\\n",
       "0             0         0         0            0                        1   \n",
       "1             0         0         0            0                        1   \n",
       "2             0         0         0            0                        1   \n",
       "3             0         0         0            0                        1   \n",
       "4             0         0         0            0                        1   \n",
       "...         ...       ...       ...          ...                      ...   \n",
       "12325         0         0         0            0                        1   \n",
       "12326         0         0         0            0                        1   \n",
       "12327         0         0         0            0                        1   \n",
       "12328         0         0         0            0                        1   \n",
       "12329         0         0         0            0                        0   \n",
       "\n",
       "       weekend_True  \n",
       "0                 0  \n",
       "1                 0  \n",
       "2                 0  \n",
       "3                 0  \n",
       "4                 1  \n",
       "...             ...  \n",
       "12325             1  \n",
       "12326             1  \n",
       "12327             1  \n",
       "12328             0  \n",
       "12329             1  \n",
       "\n",
       "[12316 rows x 68 columns]"
      ]
     },
     "execution_count": 26,
     "metadata": {},
     "output_type": "execute_result"
    }
   ],
   "source": [
    "X"
   ]
  },
  {
   "cell_type": "code",
   "execution_count": 27,
   "metadata": {
    "id": "CcuTjk4fKXmw"
   },
   "outputs": [],
   "source": [
    "#SCALING THE TEST AND TRAIN DATA\n",
    "scaler=preprocessing.StandardScaler()\n",
    "scaler.fit(Xtrain[cont]) # fit is called only on training data \n",
    "Xtrain[cont]=scaler.transform(Xtrain[cont])\n",
    "Xtest[cont]=scaler.transform(Xtest[cont])"
   ]
  },
  {
   "cell_type": "code",
   "execution_count": 28,
   "metadata": {
    "colab": {
     "base_uri": "https://localhost:8080/"
    },
    "id": "GbE7cZJVKZxZ",
    "outputId": "6f1e82d6-706f-4501-8ae7-aaaaeba37319"
   },
   "outputs": [
    {
     "name": "stdout",
     "output_type": "stream",
     "text": [
      "9852 9852 ==== 2464 2464\n"
     ]
    }
   ],
   "source": [
    "print(Xtrain.shape[0],Ytrain.shape[0],\"====\",Xtest.shape[0],Ytest.shape[0])\n"
   ]
  },
  {
   "cell_type": "code",
   "execution_count": 68,
   "metadata": {
    "colab": {
     "base_uri": "https://localhost:8080/"
    },
    "id": "BGi7UXFFKclg",
    "outputId": "51b4887e-725d-4714-fb29-8f66063f8f18"
   },
   "outputs": [
    {
     "name": "stdout",
     "output_type": "stream",
     "text": [
      "admin\n",
      "27 ####### [ 0.  2.  9.  4.  6.  8. 13.  1.  3.  5. 12. 10.  7. 24. 11. 17. 14. 27.\n",
      " 16. 15. 20. 19. 18. 22. 21. 26. 23.]\n",
      "===============================================================\n",
      "admin_dur\n",
      "2786 ####### [  0.           4.         904.5833333  ...  97.83333333  38.33333333\n",
      " 218.9666667 ]\n",
      "===============================================================\n",
      "info\n",
      "14 ####### [ 0.  4.  2.  1.  6.  3.  5.  9.  8.  7. 12. 10. 14. 24.]\n",
      "===============================================================\n",
      "info_dur\n",
      "1064 ####### [   0.           83.5          43.33333333 ...   17.25         14.75\n",
      " 1150.        ]\n",
      "===============================================================\n",
      "prodrel\n",
      "281 ####### [ 36.  10. 132.  12.   7.  34.  52.  48.  68.  11.  15.  42.  56.  20.\n",
      "  46.  43.   4.   2.  37. 107.  23.  51.   1.  95.  14.   3.  50.  21.\n",
      "   8.  19.  28.  67.  25.  79.  93.   5.  18.   6.   9.  22.  40. 130.\n",
      "  31. 143.  61.  32. 271.  30. 176.  71.  96.  17.  80.  16.  78.  27.\n",
      " 155.  90.  97. 178. 103.  38. 440.  64.  45.  33.  13.  24.  57.  29.\n",
      "  49.  39. 122.  69.  35.  72.  60.  84. 106.  44.  81.  74. 141. 159.\n",
      " 222.   0. 162. 584.  82. 189.  41. 213. 309.  94. 173.  58.  47. 102.\n",
      " 337.  53.  26. 149. 328. 125. 179. 171.  66. 221.  65. 517. 133. 128.\n",
      "  59. 116.  70.  92. 114. 111.  86.  62. 339. 138. 374. 127.  55. 290.\n",
      " 129.  85. 204.  77.  76. 100.  63.  54. 113. 258. 397. 330. 293. 150.\n",
      "  73. 152.  88.  91. 154. 126. 142. 318. 197. 119. 153. 140. 172. 230.\n",
      " 264. 187. 191. 168. 137. 192. 351.  87. 115. 101.  75. 123.  89.  98.\n",
      " 238. 104. 439. 229.  83.  99. 501. 234. 251. 158. 184. 105. 180. 227.\n",
      " 120. 136. 291. 224. 274. 174. 157. 117. 218. 108. 199. 134. 124. 175.\n",
      " 200. 146. 144. 193. 118. 326. 237. 182. 449. 225. 198. 151. 240. 245.\n",
      " 131. 216. 188. 109. 220. 202. 156. 135. 266. 280. 163. 358. 262. 349.\n",
      " 112. 166. 139. 324. 211. 226. 160. 167. 243. 147. 170. 145. 110. 378.\n",
      " 235. 223. 181. 315. 336. 311. 148. 207. 401. 194. 161. 310. 241. 121.\n",
      " 391. 305. 248. 283. 312. 205. 518. 254. 169. 705. 183. 359. 357. 486.\n",
      " 286. 195. 210. 275. 346. 164. 304. 429. 231. 255. 219. 186. 534. 409.\n",
      " 217.]\n",
      "===============================================================\n",
      "prodrel_dur\n",
      "7787 ####### [1388.2       284.       4096.15859  ...  672.7       929.91\n",
      " 5072.395938]\n",
      "===============================================================\n",
      "brate\n",
      "1587 ####### [0.00555556 0.         0.01273809 ... 0.0825     0.00975845 0.00766747]\n",
      "===============================================================\n",
      "erate\n",
      "3954 ####### [0.02777778 0.01666667 0.02297307 ... 0.02985191 0.02688889 0.0388028 ]\n",
      "===============================================================\n",
      "pagev\n",
      "2183 ####### [ 0.         33.32834503  8.96074793 ... 12.76243133 83.10114264\n",
      "  2.48338983]\n",
      "===============================================================\n",
      "sday\n",
      "6 ####### [0.  0.4 0.8 0.6 0.2 1. ]\n",
      "===============================================================\n",
      "month_Dec\n",
      "2 ####### [0 1]\n",
      "===============================================================\n",
      "month_Feb\n",
      "2 ####### [0 1]\n",
      "===============================================================\n",
      "month_Jul\n",
      "2 ####### [0 1]\n",
      "===============================================================\n",
      "month_June\n",
      "2 ####### [0 1]\n",
      "===============================================================\n",
      "month_Mar\n",
      "2 ####### [0 1]\n",
      "===============================================================\n",
      "month_May\n",
      "2 ####### [0 1]\n",
      "===============================================================\n",
      "month_Nov\n",
      "2 ####### [1 0]\n",
      "===============================================================\n",
      "month_Oct\n",
      "2 ####### [0 1]\n",
      "===============================================================\n",
      "month_Sep\n",
      "2 ####### [0 1]\n",
      "===============================================================\n",
      "os_2\n",
      "2 ####### [1 0]\n",
      "===============================================================\n",
      "os_3\n",
      "2 ####### [0 1]\n",
      "===============================================================\n",
      "os_4\n",
      "2 ####### [0 1]\n",
      "===============================================================\n",
      "os_5\n",
      "2 ####### [0 1]\n",
      "===============================================================\n",
      "os_6\n",
      "2 ####### [0 1]\n",
      "===============================================================\n",
      "os_7\n",
      "2 ####### [0 1]\n",
      "===============================================================\n",
      "os_8\n",
      "2 ####### [0 1]\n",
      "===============================================================\n",
      "browser_2\n",
      "2 ####### [1 0]\n",
      "===============================================================\n",
      "browser_3\n",
      "2 ####### [0 1]\n",
      "===============================================================\n",
      "browser_4\n",
      "2 ####### [0 1]\n",
      "===============================================================\n",
      "browser_5\n",
      "2 ####### [0 1]\n",
      "===============================================================\n",
      "browser_6\n",
      "2 ####### [0 1]\n",
      "===============================================================\n",
      "browser_7\n",
      "2 ####### [0 1]\n",
      "===============================================================\n",
      "browser_8\n",
      "2 ####### [0 1]\n",
      "===============================================================\n",
      "browser_9\n",
      "1 ####### [0]\n",
      "===============================================================\n",
      "browser_10\n",
      "2 ####### [0 1]\n",
      "===============================================================\n",
      "browser_11\n",
      "2 ####### [0 1]\n",
      "===============================================================\n",
      "browser_12\n",
      "2 ####### [0 1]\n",
      "===============================================================\n",
      "browser_13\n",
      "2 ####### [0 1]\n",
      "===============================================================\n",
      "region_2\n",
      "2 ####### [0 1]\n",
      "===============================================================\n",
      "region_3\n",
      "2 ####### [1 0]\n",
      "===============================================================\n",
      "region_4\n",
      "2 ####### [0 1]\n",
      "===============================================================\n",
      "region_5\n",
      "2 ####### [0 1]\n",
      "===============================================================\n",
      "region_6\n",
      "2 ####### [0 1]\n",
      "===============================================================\n",
      "region_7\n",
      "2 ####### [0 1]\n",
      "===============================================================\n",
      "region_8\n",
      "2 ####### [0 1]\n",
      "===============================================================\n",
      "region_9\n",
      "2 ####### [0 1]\n",
      "===============================================================\n",
      "ttype_2\n",
      "2 ####### [1 0]\n",
      "===============================================================\n",
      "ttype_3\n",
      "2 ####### [0 1]\n",
      "===============================================================\n",
      "ttype_4\n",
      "2 ####### [0 1]\n",
      "===============================================================\n",
      "ttype_5\n",
      "2 ####### [0 1]\n",
      "===============================================================\n",
      "ttype_6\n",
      "2 ####### [0 1]\n",
      "===============================================================\n",
      "ttype_7\n",
      "2 ####### [0 1]\n",
      "===============================================================\n",
      "ttype_8\n",
      "2 ####### [0 1]\n",
      "===============================================================\n",
      "ttype_9\n",
      "2 ####### [0 1]\n",
      "===============================================================\n",
      "ttype_10\n",
      "2 ####### [0 1]\n",
      "===============================================================\n",
      "ttype_11\n",
      "2 ####### [0 1]\n",
      "===============================================================\n",
      "ttype_12\n",
      "2 ####### [0 1]\n",
      "===============================================================\n",
      "ttype_13\n",
      "2 ####### [0 1]\n",
      "===============================================================\n",
      "ttype_14\n",
      "2 ####### [0 1]\n",
      "===============================================================\n",
      "ttype_15\n",
      "2 ####### [0 1]\n",
      "===============================================================\n",
      "ttype_16\n",
      "2 ####### [0 1]\n",
      "===============================================================\n",
      "ttype_17\n",
      "2 ####### [0 1]\n",
      "===============================================================\n",
      "ttype_18\n",
      "2 ####### [0 1]\n",
      "===============================================================\n",
      "ttype_19\n",
      "2 ####### [0 1]\n",
      "===============================================================\n",
      "ttype_20\n",
      "2 ####### [0 1]\n",
      "===============================================================\n",
      "vtype_Other\n",
      "2 ####### [0 1]\n",
      "===============================================================\n",
      "vtype_Returning_Visitor\n",
      "2 ####### [1 0]\n",
      "===============================================================\n",
      "weekend_True\n",
      "2 ####### [1 0]\n",
      "===============================================================\n"
     ]
    }
   ],
   "source": [
    "for i in list(Xtrain.columns):\n",
    "    print(i)\n",
    "    print(len(Xtrain[i].unique()),\"#######\",Xtrain[i].unique())\n",
    "      \n",
    "    print(\"===============================================================\")"
   ]
  },
  {
   "cell_type": "code",
   "execution_count": 69,
   "metadata": {
    "id": "hRbaNn5GKqro"
   },
   "outputs": [],
   "source": [
    "#RESAMPLING TO 70:30 FROM 85:15\n",
    "from imblearn.pipeline import make_pipeline\n",
    "from imblearn.over_sampling import SMOTE\n",
    "from imblearn.under_sampling import NearMiss\n",
    "count_class_0 = int(Xtrain.loc[Ytrain==0].shape[0]/1)\n",
    "count_class_1 = int((count_class_0)*(30/70))\n",
    "pipe = make_pipeline(SMOTE(sampling_strategy={1: count_class_1}),NearMiss(sampling_strategy={0: count_class_0}))\n",
    "X_smt,y_smt = pipe.fit_resample(Xtrain,Ytrain)"
   ]
  },
  {
   "cell_type": "code",
   "execution_count": 70,
   "metadata": {
    "colab": {
     "base_uri": "https://localhost:8080/"
    },
    "id": "o1jHa_9nKwyg",
    "outputId": "801c510f-e30b-4ab4-9d14-5d3453f984cb"
   },
   "outputs": [
    {
     "data": {
      "text/plain": [
       "0.7"
      ]
     },
     "execution_count": 70,
     "metadata": {},
     "output_type": "execute_result"
    }
   ],
   "source": [
    "X_smt.loc[y_smt==0].shape[0]/X_smt.shape[0]"
   ]
  },
  {
   "cell_type": "code",
   "execution_count": 71,
   "metadata": {
    "colab": {
     "base_uri": "https://localhost:8080/"
    },
    "id": "9T0hiKKxK1Qg",
    "outputId": "298acec9-2fc1-4013-c4ff-65c7a32c240f"
   },
   "outputs": [
    {
     "data": {
      "text/plain": [
       "0.3"
      ]
     },
     "execution_count": 71,
     "metadata": {},
     "output_type": "execute_result"
    }
   ],
   "source": [
    "X_smt.loc[y_smt==1].shape[0]/X_smt.shape[0]"
   ]
  },
  {
   "cell_type": "code",
   "execution_count": 72,
   "metadata": {
    "id": "V7jjs0uzMKu4"
   },
   "outputs": [],
   "source": [
    "from sklearn import naive_bayes\n",
    "from sklearn import model_selection\n",
    "from sklearn import metrics"
   ]
  },
  {
   "cell_type": "code",
   "execution_count": 73,
   "metadata": {
    "id": "4IQj5NDLeIoz"
   },
   "outputs": [],
   "source": [
    "model=naive_bayes.GaussianNB()"
   ]
  },
  {
   "cell_type": "code",
   "execution_count": 74,
   "metadata": {
    "colab": {
     "base_uri": "https://localhost:8080/"
    },
    "id": "gaJqHzx401N-",
    "outputId": "0360b276-bbae-4e5b-dc36-7fe9c0d364da"
   },
   "outputs": [
    {
     "data": {
      "text/plain": [
       "Index(['admin', 'admin_dur', 'info', 'info_dur', 'prodrel', 'prodrel_dur',\n",
       "       'brate', 'erate', 'pagev', 'sday', 'month', 'os', 'browser', 'region',\n",
       "       'ttype', 'vtype', 'weekend', 'revenue'],\n",
       "      dtype='object')"
      ]
     },
     "execution_count": 74,
     "metadata": {},
     "output_type": "execute_result"
    }
   ],
   "source": [
    "df.columns"
   ]
  },
  {
   "cell_type": "code",
   "execution_count": 75,
   "metadata": {
    "id": "bZAq-VRfGn59"
   },
   "outputs": [],
   "source": [
    "model=naive_bayes.GaussianNB()"
   ]
  },
  {
   "cell_type": "code",
   "execution_count": 76,
   "metadata": {},
   "outputs": [
    {
     "data": {
      "text/plain": [
       "GaussianNB()"
      ]
     },
     "execution_count": 76,
     "metadata": {},
     "output_type": "execute_result"
    }
   ],
   "source": [
    "model.fit(X_smt,y_smt)"
   ]
  },
  {
   "cell_type": "code",
   "execution_count": 77,
   "metadata": {
    "id": "xuCloWFHWdu0"
   },
   "outputs": [],
   "source": [
    "trainpred=model.predict(X_smt)\n",
    "testpred=model.predict(Xtest)\n"
   ]
  },
  {
   "cell_type": "code",
   "execution_count": 78,
   "metadata": {
    "id": "P0LqKXuzWpPS"
   },
   "outputs": [],
   "source": [
    "def printresults(actual,predicted):\n",
    "    print(\"AUC : \",np.round( metrics.roc_auc_score(actual,predicted),4)  )\n",
    "    print(\"accuracy : \",np.round( metrics.accuracy_score(actual,predicted),4)  )\n",
    "    print(\"recall: \",np.round( metrics.recall_score(actual,predicted),4)  )\n",
    "    print(\"precision : \",np.round( metrics.precision_score(actual,predicted),4)  )\n",
    "    print(\"f1 : \",np.round( metrics.f1_score(actual,predicted),4)  )"
   ]
  },
  {
   "cell_type": "code",
   "execution_count": 79,
   "metadata": {
    "id": "R0u18f9fbNvT"
   },
   "outputs": [],
   "source": [
    "import matplotlib.pyplot as plt\n",
    "import numpy as np\n",
    "import pandas as pd\n",
    "import seaborn as sns\n",
    "import warnings\n",
    "warnings.filterwarnings(\"ignore\")\n"
   ]
  },
  {
   "cell_type": "code",
   "execution_count": 80,
   "metadata": {
    "colab": {
     "base_uri": "https://localhost:8080/"
    },
    "id": "LdJtzWTzbPSs",
    "outputId": "036967e8-1444-42c0-f31a-e57fd22392e0"
   },
   "outputs": [
    {
     "data": {
      "text/plain": [
       "0.7146588037068239"
      ]
     },
     "execution_count": 80,
     "metadata": {},
     "output_type": "execute_result"
    }
   ],
   "source": [
    "model.score(X_smt,y_smt)"
   ]
  },
  {
   "cell_type": "code",
   "execution_count": 81,
   "metadata": {
    "colab": {
     "base_uri": "https://localhost:8080/"
    },
    "id": "SB3v3SDxiRKx",
    "outputId": "db3dbed8-598d-4ffd-e413-8c284b12ac15"
   },
   "outputs": [
    {
     "name": "stdout",
     "output_type": "stream",
     "text": [
      "AUC :  0.7563\n",
      "accuracy :  0.7147\n",
      "recall:  0.8604\n",
      "precision :  0.5146\n",
      "f1 :  0.644\n"
     ]
    }
   ],
   "source": [
    "printresults(y_smt,trainpred)"
   ]
  },
  {
   "cell_type": "code",
   "execution_count": 82,
   "metadata": {
    "colab": {
     "base_uri": "https://localhost:8080/"
    },
    "id": "XE-SLJlHjO_d",
    "outputId": "ce41f3b2-34c9-4bdd-9132-fbdd507a8a01"
   },
   "outputs": [
    {
     "name": "stdout",
     "output_type": "stream",
     "text": [
      "AUC :  0.6531\n",
      "accuracy :  0.6538\n",
      "recall:  0.6521\n",
      "precision :  0.2469\n",
      "f1 :  0.3582\n"
     ]
    }
   ],
   "source": [
    "printresults(Ytest,testpred)"
   ]
  },
  {
   "cell_type": "code",
   "execution_count": 83,
   "metadata": {},
   "outputs": [
    {
     "name": "stdout",
     "output_type": "stream",
     "text": [
      "\n",
      "Test confusion_matrix\n"
     ]
    },
    {
     "data": {
      "text/plain": [
       "Text(33.0, 0.5, 'True')"
      ]
     },
     "execution_count": 83,
     "metadata": {},
     "output_type": "execute_result"
    },
    {
     "data": {
      "image/png": "[encoded data removed]",
      "text/plain": [
       "<Figure size 432x288 with 2 Axes>"
      ]
     },
     "metadata": {
      "needs_background": "light"
     },
     "output_type": "display_data"
    }
   ],
   "source": [
    "cf_matrix = metrics.confusion_matrix(y_smt,trainpred)\n",
    "print(\"\\nTest confusion_matrix\")\n",
    "sns.heatmap(cf_matrix, annot=True, cmap='Blues')\n",
    "plt.xlabel('Predicted', fontsize=12)\n",
    "plt.ylabel('True', fontsize=12)"
   ]
  },
  {
   "cell_type": "code",
   "execution_count": 42,
   "metadata": {},
   "outputs": [
    {
     "name": "stdout",
     "output_type": "stream",
     "text": [
      "\n",
      "Test confusion_matrix\n"
     ]
    },
    {
     "data": {
      "text/plain": [
       "Text(33.0, 0.5, 'True')"
      ]
     },
     "execution_count": 42,
     "metadata": {},
     "output_type": "execute_result"
    },
    {
     "data": {
      "image/png": "[encoded data removed]",
      "text/plain": [
       "<Figure size 432x288 with 2 Axes>"
      ]
     },
     "metadata": {
      "needs_background": "light"
     },
     "output_type": "display_data"
    }
   ],
   "source": [
    "cf_matrix = metrics.confusion_matrix(Ytest,testpred)\n",
    "print(\"\\nTest confusion_matrix\")\n",
    "sns.heatmap(cf_matrix, annot=True, cmap='Blues')\n",
    "plt.xlabel('Predicted', fontsize=12)\n",
    "plt.ylabel('True', fontsize=12)"
   ]
  },
  {
   "cell_type": "code",
   "execution_count": null,
   "metadata": {},
   "outputs": [],
   "source": []
  }
 ],
 "metadata": {
  "colab": {
   "collapsed_sections": [],
   "name": "CustomerIntention_Abhi.ipynb",
   "provenance": []
  },
  "kernelspec": {
   "display_name": "Python 3",
   "language": "python",
   "name": "python3"
  },
  "language_info": {
   "codemirror_mode": {
    "name": "ipython",
    "version": 3
   },
   "file_extension": ".py",
   "mimetype": "text/x-python",
   "name": "python",
   "nbconvert_exporter": "python",
   "pygments_lexer": "ipython3",
   "version": "3.8.8"
  }
 },
 "nbformat": 4,
 "nbformat_minor": 1
}
