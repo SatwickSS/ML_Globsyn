{
 "cells": [
  {
   "cell_type": "code",
   "execution_count": 58,
   "metadata": {
    "id": "1qG-Illa9cMz"
   },
   "outputs": [],
   "source": [
    "import matplotlib.pyplot as plt\n",
    "import numpy as np\n",
    "import pandas as pd\n",
    "import seaborn as sns\n",
    "import warnings\n",
    "warnings.filterwarnings(\"ignore\")\n",
    "from sklearn import model_selection # for train test split\n",
    "from sklearn import preprocessing # for scaling"
   ]
  },
  {
   "cell_type": "code",
   "execution_count": 59,
   "metadata": {
    "id": "ag69hHDu9pfC"
   },
   "outputs": [],
   "source": [
    "df=pd.read_csv(\"shopintention.csv\")"
   ]
  },
  {
   "cell_type": "code",
   "execution_count": 60,
   "metadata": {
    "colab": {
     "base_uri": "https://localhost:8080/",
     "height": 427
    },
    "id": "Aaejv2ch92Hi",
    "outputId": "6bd8ec8c-da5a-41a1-cb2a-c03d6be00a8b"
   },
   "outputs": [
    {
     "data": {
      "text/html": [
       "<div>\n",
       "<style scoped>\n",
       "    .dataframe tbody tr th:only-of-type {\n",
       "        vertical-align: middle;\n",
       "    }\n",
       "\n",
       "    .dataframe tbody tr th {\n",
       "        vertical-align: top;\n",
       "    }\n",
       "\n",
       "    .dataframe thead th {\n",
       "        text-align: right;\n",
       "    }\n",
       "</style>\n",
       "<table border=\"1\" class=\"dataframe\">\n",
       "  <thead>\n",
       "    <tr style=\"text-align: right;\">\n",
       "      <th></th>\n",
       "      <th>Administrative</th>\n",
       "      <th>Administrative_Duration</th>\n",
       "      <th>Informational</th>\n",
       "      <th>Informational_Duration</th>\n",
       "      <th>ProductRelated</th>\n",
       "      <th>ProductRelated_Duration</th>\n",
       "      <th>BounceRates</th>\n",
       "      <th>ExitRates</th>\n",
       "      <th>PageValues</th>\n",
       "      <th>SpecialDay</th>\n",
       "      <th>Month</th>\n",
       "      <th>OperatingSystems</th>\n",
       "      <th>Browser</th>\n",
       "      <th>Region</th>\n",
       "      <th>TrafficType</th>\n",
       "      <th>VisitorType</th>\n",
       "      <th>Weekend</th>\n",
       "      <th>Revenue</th>\n",
       "    </tr>\n",
       "  </thead>\n",
       "  <tbody>\n",
       "    <tr>\n",
       "      <th>0</th>\n",
       "      <td>0.0</td>\n",
       "      <td>0.0</td>\n",
       "      <td>0.0</td>\n",
       "      <td>0.0</td>\n",
       "      <td>1.0</td>\n",
       "      <td>0.000000</td>\n",
       "      <td>0.200000</td>\n",
       "      <td>0.200000</td>\n",
       "      <td>0.0</td>\n",
       "      <td>0.0</td>\n",
       "      <td>Feb</td>\n",
       "      <td>1</td>\n",
       "      <td>1</td>\n",
       "      <td>1</td>\n",
       "      <td>1</td>\n",
       "      <td>Returning_Visitor</td>\n",
       "      <td>False</td>\n",
       "      <td>False</td>\n",
       "    </tr>\n",
       "    <tr>\n",
       "      <th>1</th>\n",
       "      <td>0.0</td>\n",
       "      <td>0.0</td>\n",
       "      <td>0.0</td>\n",
       "      <td>0.0</td>\n",
       "      <td>2.0</td>\n",
       "      <td>64.000000</td>\n",
       "      <td>0.000000</td>\n",
       "      <td>0.100000</td>\n",
       "      <td>0.0</td>\n",
       "      <td>0.0</td>\n",
       "      <td>Feb</td>\n",
       "      <td>2</td>\n",
       "      <td>2</td>\n",
       "      <td>1</td>\n",
       "      <td>2</td>\n",
       "      <td>Returning_Visitor</td>\n",
       "      <td>False</td>\n",
       "      <td>False</td>\n",
       "    </tr>\n",
       "    <tr>\n",
       "      <th>2</th>\n",
       "      <td>0.0</td>\n",
       "      <td>-1.0</td>\n",
       "      <td>0.0</td>\n",
       "      <td>-1.0</td>\n",
       "      <td>1.0</td>\n",
       "      <td>-1.000000</td>\n",
       "      <td>0.200000</td>\n",
       "      <td>0.200000</td>\n",
       "      <td>0.0</td>\n",
       "      <td>0.0</td>\n",
       "      <td>Feb</td>\n",
       "      <td>4</td>\n",
       "      <td>1</td>\n",
       "      <td>9</td>\n",
       "      <td>3</td>\n",
       "      <td>Returning_Visitor</td>\n",
       "      <td>False</td>\n",
       "      <td>False</td>\n",
       "    </tr>\n",
       "    <tr>\n",
       "      <th>3</th>\n",
       "      <td>0.0</td>\n",
       "      <td>0.0</td>\n",
       "      <td>0.0</td>\n",
       "      <td>0.0</td>\n",
       "      <td>2.0</td>\n",
       "      <td>2.666667</td>\n",
       "      <td>0.050000</td>\n",
       "      <td>0.140000</td>\n",
       "      <td>0.0</td>\n",
       "      <td>0.0</td>\n",
       "      <td>Feb</td>\n",
       "      <td>3</td>\n",
       "      <td>2</td>\n",
       "      <td>2</td>\n",
       "      <td>4</td>\n",
       "      <td>Returning_Visitor</td>\n",
       "      <td>False</td>\n",
       "      <td>False</td>\n",
       "    </tr>\n",
       "    <tr>\n",
       "      <th>4</th>\n",
       "      <td>0.0</td>\n",
       "      <td>0.0</td>\n",
       "      <td>0.0</td>\n",
       "      <td>0.0</td>\n",
       "      <td>10.0</td>\n",
       "      <td>627.500000</td>\n",
       "      <td>0.020000</td>\n",
       "      <td>0.050000</td>\n",
       "      <td>0.0</td>\n",
       "      <td>0.0</td>\n",
       "      <td>Feb</td>\n",
       "      <td>3</td>\n",
       "      <td>3</td>\n",
       "      <td>1</td>\n",
       "      <td>4</td>\n",
       "      <td>Returning_Visitor</td>\n",
       "      <td>True</td>\n",
       "      <td>False</td>\n",
       "    </tr>\n",
       "    <tr>\n",
       "      <th>5</th>\n",
       "      <td>0.0</td>\n",
       "      <td>0.0</td>\n",
       "      <td>0.0</td>\n",
       "      <td>0.0</td>\n",
       "      <td>19.0</td>\n",
       "      <td>154.216667</td>\n",
       "      <td>0.015789</td>\n",
       "      <td>0.024561</td>\n",
       "      <td>0.0</td>\n",
       "      <td>0.0</td>\n",
       "      <td>Feb</td>\n",
       "      <td>2</td>\n",
       "      <td>2</td>\n",
       "      <td>1</td>\n",
       "      <td>3</td>\n",
       "      <td>Returning_Visitor</td>\n",
       "      <td>False</td>\n",
       "      <td>False</td>\n",
       "    </tr>\n",
       "    <tr>\n",
       "      <th>6</th>\n",
       "      <td>0.0</td>\n",
       "      <td>-1.0</td>\n",
       "      <td>0.0</td>\n",
       "      <td>-1.0</td>\n",
       "      <td>1.0</td>\n",
       "      <td>-1.000000</td>\n",
       "      <td>0.200000</td>\n",
       "      <td>0.200000</td>\n",
       "      <td>0.0</td>\n",
       "      <td>0.4</td>\n",
       "      <td>Feb</td>\n",
       "      <td>2</td>\n",
       "      <td>4</td>\n",
       "      <td>3</td>\n",
       "      <td>3</td>\n",
       "      <td>Returning_Visitor</td>\n",
       "      <td>False</td>\n",
       "      <td>False</td>\n",
       "    </tr>\n",
       "    <tr>\n",
       "      <th>7</th>\n",
       "      <td>1.0</td>\n",
       "      <td>-1.0</td>\n",
       "      <td>0.0</td>\n",
       "      <td>-1.0</td>\n",
       "      <td>1.0</td>\n",
       "      <td>-1.000000</td>\n",
       "      <td>0.200000</td>\n",
       "      <td>0.200000</td>\n",
       "      <td>0.0</td>\n",
       "      <td>0.0</td>\n",
       "      <td>Feb</td>\n",
       "      <td>1</td>\n",
       "      <td>2</td>\n",
       "      <td>1</td>\n",
       "      <td>5</td>\n",
       "      <td>Returning_Visitor</td>\n",
       "      <td>True</td>\n",
       "      <td>False</td>\n",
       "    </tr>\n",
       "    <tr>\n",
       "      <th>8</th>\n",
       "      <td>0.0</td>\n",
       "      <td>0.0</td>\n",
       "      <td>0.0</td>\n",
       "      <td>0.0</td>\n",
       "      <td>2.0</td>\n",
       "      <td>37.000000</td>\n",
       "      <td>0.000000</td>\n",
       "      <td>0.100000</td>\n",
       "      <td>0.0</td>\n",
       "      <td>0.8</td>\n",
       "      <td>Feb</td>\n",
       "      <td>2</td>\n",
       "      <td>2</td>\n",
       "      <td>2</td>\n",
       "      <td>3</td>\n",
       "      <td>Returning_Visitor</td>\n",
       "      <td>False</td>\n",
       "      <td>False</td>\n",
       "    </tr>\n",
       "    <tr>\n",
       "      <th>9</th>\n",
       "      <td>0.0</td>\n",
       "      <td>0.0</td>\n",
       "      <td>0.0</td>\n",
       "      <td>0.0</td>\n",
       "      <td>3.0</td>\n",
       "      <td>738.000000</td>\n",
       "      <td>0.000000</td>\n",
       "      <td>0.022222</td>\n",
       "      <td>0.0</td>\n",
       "      <td>0.4</td>\n",
       "      <td>Feb</td>\n",
       "      <td>2</td>\n",
       "      <td>4</td>\n",
       "      <td>1</td>\n",
       "      <td>2</td>\n",
       "      <td>Returning_Visitor</td>\n",
       "      <td>False</td>\n",
       "      <td>False</td>\n",
       "    </tr>\n",
       "  </tbody>\n",
       "</table>\n",
       "</div>"
      ],
      "text/plain": [
       "   Administrative  Administrative_Duration  Informational  \\\n",
       "0             0.0                      0.0            0.0   \n",
       "1             0.0                      0.0            0.0   \n",
       "2             0.0                     -1.0            0.0   \n",
       "3             0.0                      0.0            0.0   \n",
       "4             0.0                      0.0            0.0   \n",
       "5             0.0                      0.0            0.0   \n",
       "6             0.0                     -1.0            0.0   \n",
       "7             1.0                     -1.0            0.0   \n",
       "8             0.0                      0.0            0.0   \n",
       "9             0.0                      0.0            0.0   \n",
       "\n",
       "   Informational_Duration  ProductRelated  ProductRelated_Duration  \\\n",
       "0                     0.0             1.0                 0.000000   \n",
       "1                     0.0             2.0                64.000000   \n",
       "2                    -1.0             1.0                -1.000000   \n",
       "3                     0.0             2.0                 2.666667   \n",
       "4                     0.0            10.0               627.500000   \n",
       "5                     0.0            19.0               154.216667   \n",
       "6                    -1.0             1.0                -1.000000   \n",
       "7                    -1.0             1.0                -1.000000   \n",
       "8                     0.0             2.0                37.000000   \n",
       "9                     0.0             3.0               738.000000   \n",
       "\n",
       "   BounceRates  ExitRates  PageValues  SpecialDay Month  OperatingSystems  \\\n",
       "0     0.200000   0.200000         0.0         0.0   Feb                 1   \n",
       "1     0.000000   0.100000         0.0         0.0   Feb                 2   \n",
       "2     0.200000   0.200000         0.0         0.0   Feb                 4   \n",
       "3     0.050000   0.140000         0.0         0.0   Feb                 3   \n",
       "4     0.020000   0.050000         0.0         0.0   Feb                 3   \n",
       "5     0.015789   0.024561         0.0         0.0   Feb                 2   \n",
       "6     0.200000   0.200000         0.0         0.4   Feb                 2   \n",
       "7     0.200000   0.200000         0.0         0.0   Feb                 1   \n",
       "8     0.000000   0.100000         0.0         0.8   Feb                 2   \n",
       "9     0.000000   0.022222         0.0         0.4   Feb                 2   \n",
       "\n",
       "   Browser  Region  TrafficType        VisitorType  Weekend  Revenue  \n",
       "0        1       1            1  Returning_Visitor    False    False  \n",
       "1        2       1            2  Returning_Visitor    False    False  \n",
       "2        1       9            3  Returning_Visitor    False    False  \n",
       "3        2       2            4  Returning_Visitor    False    False  \n",
       "4        3       1            4  Returning_Visitor     True    False  \n",
       "5        2       1            3  Returning_Visitor    False    False  \n",
       "6        4       3            3  Returning_Visitor    False    False  \n",
       "7        2       1            5  Returning_Visitor     True    False  \n",
       "8        2       2            3  Returning_Visitor    False    False  \n",
       "9        4       1            2  Returning_Visitor    False    False  "
      ]
     },
     "execution_count": 60,
     "metadata": {},
     "output_type": "execute_result"
    }
   ],
   "source": [
    "df.head(10) #peek at the dataset"
   ]
  },
  {
   "cell_type": "code",
   "execution_count": 61,
   "metadata": {
    "id": "xAjxPF7k96ca"
   },
   "outputs": [],
   "source": [
    "#renaming the columns\n",
    "names=[\"admin\",\"admin_dur\",\"info\",\"info_dur\",\"prodrel\",\"prodrel_dur\",\"brate\",\"erate\",\"pagev\",\"sday\",\"month\",\"os\",\"browser\",\"region\",\"ttype\",\"vtype\",\"weekend\",\"revenue\"]"
   ]
  },
  {
   "cell_type": "code",
   "execution_count": 62,
   "metadata": {
    "id": "WvXmCo879_5D"
   },
   "outputs": [],
   "source": [
    "df.columns=names\n",
    "index=df.columns[df.isna().any(axis=0)]\n",
    "dict={}\n",
    "for i in index:\n",
    "    temp=df[i].isna().astype(int).sum()\n",
    "    dict[i]=[temp/df.shape[0],temp]"
   ]
  },
  {
   "cell_type": "code",
   "execution_count": 63,
   "metadata": {
    "colab": {
     "base_uri": "https://localhost:8080/"
    },
    "id": "wPGWFybh-CFD",
    "outputId": "d4bb9bea-8aa3-4d23-b8b0-b73abec47f76"
   },
   "outputs": [
    {
     "data": {
      "text/plain": [
       "{'admin': [0.0011354420113544202, 14],\n",
       " 'admin_dur': [0.0011354420113544202, 14],\n",
       " 'info': [0.0011354420113544202, 14],\n",
       " 'info_dur': [0.0011354420113544202, 14],\n",
       " 'prodrel': [0.0011354420113544202, 14],\n",
       " 'prodrel_dur': [0.0011354420113544202, 14],\n",
       " 'brate': [0.0011354420113544202, 14],\n",
       " 'erate': [0.0011354420113544202, 14]}"
      ]
     },
     "execution_count": 63,
     "metadata": {},
     "output_type": "execute_result"
    }
   ],
   "source": [
    "dict"
   ]
  },
  {
   "cell_type": "code",
   "execution_count": 64,
   "metadata": {
    "colab": {
     "base_uri": "https://localhost:8080/",
     "height": 488
    },
    "id": "mDAV-gNh-EZL",
    "outputId": "89695ff8-39f6-4068-cfd0-b7de25f6f1c6"
   },
   "outputs": [
    {
     "data": {
      "text/html": [
       "<div>\n",
       "<style scoped>\n",
       "    .dataframe tbody tr th:only-of-type {\n",
       "        vertical-align: middle;\n",
       "    }\n",
       "\n",
       "    .dataframe tbody tr th {\n",
       "        vertical-align: top;\n",
       "    }\n",
       "\n",
       "    .dataframe thead th {\n",
       "        text-align: right;\n",
       "    }\n",
       "</style>\n",
       "<table border=\"1\" class=\"dataframe\">\n",
       "  <thead>\n",
       "    <tr style=\"text-align: right;\">\n",
       "      <th></th>\n",
       "      <th>admin</th>\n",
       "      <th>admin_dur</th>\n",
       "      <th>info</th>\n",
       "      <th>info_dur</th>\n",
       "      <th>prodrel</th>\n",
       "      <th>prodrel_dur</th>\n",
       "      <th>brate</th>\n",
       "      <th>erate</th>\n",
       "      <th>pagev</th>\n",
       "      <th>sday</th>\n",
       "      <th>month</th>\n",
       "      <th>os</th>\n",
       "      <th>browser</th>\n",
       "      <th>region</th>\n",
       "      <th>ttype</th>\n",
       "      <th>vtype</th>\n",
       "      <th>weekend</th>\n",
       "      <th>revenue</th>\n",
       "    </tr>\n",
       "  </thead>\n",
       "  <tbody>\n",
       "    <tr>\n",
       "      <th>1065</th>\n",
       "      <td>NaN</td>\n",
       "      <td>NaN</td>\n",
       "      <td>NaN</td>\n",
       "      <td>NaN</td>\n",
       "      <td>NaN</td>\n",
       "      <td>NaN</td>\n",
       "      <td>NaN</td>\n",
       "      <td>NaN</td>\n",
       "      <td>0.0</td>\n",
       "      <td>0.0</td>\n",
       "      <td>Mar</td>\n",
       "      <td>2</td>\n",
       "      <td>2</td>\n",
       "      <td>2</td>\n",
       "      <td>1</td>\n",
       "      <td>Returning_Visitor</td>\n",
       "      <td>False</td>\n",
       "      <td>False</td>\n",
       "    </tr>\n",
       "    <tr>\n",
       "      <th>1132</th>\n",
       "      <td>NaN</td>\n",
       "      <td>NaN</td>\n",
       "      <td>NaN</td>\n",
       "      <td>NaN</td>\n",
       "      <td>NaN</td>\n",
       "      <td>NaN</td>\n",
       "      <td>NaN</td>\n",
       "      <td>NaN</td>\n",
       "      <td>0.0</td>\n",
       "      <td>0.0</td>\n",
       "      <td>Mar</td>\n",
       "      <td>1</td>\n",
       "      <td>1</td>\n",
       "      <td>1</td>\n",
       "      <td>2</td>\n",
       "      <td>Returning_Visitor</td>\n",
       "      <td>False</td>\n",
       "      <td>False</td>\n",
       "    </tr>\n",
       "    <tr>\n",
       "      <th>1133</th>\n",
       "      <td>NaN</td>\n",
       "      <td>NaN</td>\n",
       "      <td>NaN</td>\n",
       "      <td>NaN</td>\n",
       "      <td>NaN</td>\n",
       "      <td>NaN</td>\n",
       "      <td>NaN</td>\n",
       "      <td>NaN</td>\n",
       "      <td>0.0</td>\n",
       "      <td>0.0</td>\n",
       "      <td>Mar</td>\n",
       "      <td>2</td>\n",
       "      <td>4</td>\n",
       "      <td>5</td>\n",
       "      <td>1</td>\n",
       "      <td>Returning_Visitor</td>\n",
       "      <td>False</td>\n",
       "      <td>False</td>\n",
       "    </tr>\n",
       "    <tr>\n",
       "      <th>1134</th>\n",
       "      <td>NaN</td>\n",
       "      <td>NaN</td>\n",
       "      <td>NaN</td>\n",
       "      <td>NaN</td>\n",
       "      <td>NaN</td>\n",
       "      <td>NaN</td>\n",
       "      <td>NaN</td>\n",
       "      <td>NaN</td>\n",
       "      <td>0.0</td>\n",
       "      <td>0.0</td>\n",
       "      <td>Mar</td>\n",
       "      <td>2</td>\n",
       "      <td>2</td>\n",
       "      <td>1</td>\n",
       "      <td>2</td>\n",
       "      <td>Returning_Visitor</td>\n",
       "      <td>False</td>\n",
       "      <td>False</td>\n",
       "    </tr>\n",
       "    <tr>\n",
       "      <th>1135</th>\n",
       "      <td>NaN</td>\n",
       "      <td>NaN</td>\n",
       "      <td>NaN</td>\n",
       "      <td>NaN</td>\n",
       "      <td>NaN</td>\n",
       "      <td>NaN</td>\n",
       "      <td>NaN</td>\n",
       "      <td>NaN</td>\n",
       "      <td>0.0</td>\n",
       "      <td>0.0</td>\n",
       "      <td>Mar</td>\n",
       "      <td>3</td>\n",
       "      <td>2</td>\n",
       "      <td>1</td>\n",
       "      <td>1</td>\n",
       "      <td>Returning_Visitor</td>\n",
       "      <td>False</td>\n",
       "      <td>False</td>\n",
       "    </tr>\n",
       "    <tr>\n",
       "      <th>1136</th>\n",
       "      <td>NaN</td>\n",
       "      <td>NaN</td>\n",
       "      <td>NaN</td>\n",
       "      <td>NaN</td>\n",
       "      <td>NaN</td>\n",
       "      <td>NaN</td>\n",
       "      <td>NaN</td>\n",
       "      <td>NaN</td>\n",
       "      <td>0.0</td>\n",
       "      <td>0.0</td>\n",
       "      <td>Mar</td>\n",
       "      <td>2</td>\n",
       "      <td>2</td>\n",
       "      <td>1</td>\n",
       "      <td>2</td>\n",
       "      <td>Returning_Visitor</td>\n",
       "      <td>False</td>\n",
       "      <td>False</td>\n",
       "    </tr>\n",
       "    <tr>\n",
       "      <th>1473</th>\n",
       "      <td>NaN</td>\n",
       "      <td>NaN</td>\n",
       "      <td>NaN</td>\n",
       "      <td>NaN</td>\n",
       "      <td>NaN</td>\n",
       "      <td>NaN</td>\n",
       "      <td>NaN</td>\n",
       "      <td>NaN</td>\n",
       "      <td>0.0</td>\n",
       "      <td>0.0</td>\n",
       "      <td>Mar</td>\n",
       "      <td>2</td>\n",
       "      <td>2</td>\n",
       "      <td>1</td>\n",
       "      <td>1</td>\n",
       "      <td>Returning_Visitor</td>\n",
       "      <td>True</td>\n",
       "      <td>False</td>\n",
       "    </tr>\n",
       "    <tr>\n",
       "      <th>1474</th>\n",
       "      <td>NaN</td>\n",
       "      <td>NaN</td>\n",
       "      <td>NaN</td>\n",
       "      <td>NaN</td>\n",
       "      <td>NaN</td>\n",
       "      <td>NaN</td>\n",
       "      <td>NaN</td>\n",
       "      <td>NaN</td>\n",
       "      <td>0.0</td>\n",
       "      <td>0.0</td>\n",
       "      <td>Mar</td>\n",
       "      <td>1</td>\n",
       "      <td>1</td>\n",
       "      <td>6</td>\n",
       "      <td>1</td>\n",
       "      <td>Returning_Visitor</td>\n",
       "      <td>True</td>\n",
       "      <td>False</td>\n",
       "    </tr>\n",
       "    <tr>\n",
       "      <th>1475</th>\n",
       "      <td>NaN</td>\n",
       "      <td>NaN</td>\n",
       "      <td>NaN</td>\n",
       "      <td>NaN</td>\n",
       "      <td>NaN</td>\n",
       "      <td>NaN</td>\n",
       "      <td>NaN</td>\n",
       "      <td>NaN</td>\n",
       "      <td>0.0</td>\n",
       "      <td>0.0</td>\n",
       "      <td>Mar</td>\n",
       "      <td>2</td>\n",
       "      <td>2</td>\n",
       "      <td>3</td>\n",
       "      <td>1</td>\n",
       "      <td>Returning_Visitor</td>\n",
       "      <td>False</td>\n",
       "      <td>False</td>\n",
       "    </tr>\n",
       "    <tr>\n",
       "      <th>1476</th>\n",
       "      <td>NaN</td>\n",
       "      <td>NaN</td>\n",
       "      <td>NaN</td>\n",
       "      <td>NaN</td>\n",
       "      <td>NaN</td>\n",
       "      <td>NaN</td>\n",
       "      <td>NaN</td>\n",
       "      <td>NaN</td>\n",
       "      <td>0.0</td>\n",
       "      <td>0.0</td>\n",
       "      <td>Mar</td>\n",
       "      <td>1</td>\n",
       "      <td>1</td>\n",
       "      <td>2</td>\n",
       "      <td>3</td>\n",
       "      <td>Returning_Visitor</td>\n",
       "      <td>False</td>\n",
       "      <td>False</td>\n",
       "    </tr>\n",
       "    <tr>\n",
       "      <th>2037</th>\n",
       "      <td>NaN</td>\n",
       "      <td>NaN</td>\n",
       "      <td>NaN</td>\n",
       "      <td>NaN</td>\n",
       "      <td>NaN</td>\n",
       "      <td>NaN</td>\n",
       "      <td>NaN</td>\n",
       "      <td>NaN</td>\n",
       "      <td>0.0</td>\n",
       "      <td>0.0</td>\n",
       "      <td>Mar</td>\n",
       "      <td>3</td>\n",
       "      <td>2</td>\n",
       "      <td>4</td>\n",
       "      <td>1</td>\n",
       "      <td>Returning_Visitor</td>\n",
       "      <td>False</td>\n",
       "      <td>False</td>\n",
       "    </tr>\n",
       "    <tr>\n",
       "      <th>2038</th>\n",
       "      <td>NaN</td>\n",
       "      <td>NaN</td>\n",
       "      <td>NaN</td>\n",
       "      <td>NaN</td>\n",
       "      <td>NaN</td>\n",
       "      <td>NaN</td>\n",
       "      <td>NaN</td>\n",
       "      <td>NaN</td>\n",
       "      <td>0.0</td>\n",
       "      <td>0.0</td>\n",
       "      <td>Mar</td>\n",
       "      <td>2</td>\n",
       "      <td>2</td>\n",
       "      <td>1</td>\n",
       "      <td>2</td>\n",
       "      <td>Returning_Visitor</td>\n",
       "      <td>False</td>\n",
       "      <td>False</td>\n",
       "    </tr>\n",
       "    <tr>\n",
       "      <th>2039</th>\n",
       "      <td>NaN</td>\n",
       "      <td>NaN</td>\n",
       "      <td>NaN</td>\n",
       "      <td>NaN</td>\n",
       "      <td>NaN</td>\n",
       "      <td>NaN</td>\n",
       "      <td>NaN</td>\n",
       "      <td>NaN</td>\n",
       "      <td>0.0</td>\n",
       "      <td>0.0</td>\n",
       "      <td>Mar</td>\n",
       "      <td>3</td>\n",
       "      <td>2</td>\n",
       "      <td>4</td>\n",
       "      <td>15</td>\n",
       "      <td>Returning_Visitor</td>\n",
       "      <td>True</td>\n",
       "      <td>False</td>\n",
       "    </tr>\n",
       "    <tr>\n",
       "      <th>2753</th>\n",
       "      <td>NaN</td>\n",
       "      <td>NaN</td>\n",
       "      <td>NaN</td>\n",
       "      <td>NaN</td>\n",
       "      <td>NaN</td>\n",
       "      <td>NaN</td>\n",
       "      <td>NaN</td>\n",
       "      <td>NaN</td>\n",
       "      <td>0.0</td>\n",
       "      <td>0.0</td>\n",
       "      <td>May</td>\n",
       "      <td>2</td>\n",
       "      <td>2</td>\n",
       "      <td>4</td>\n",
       "      <td>13</td>\n",
       "      <td>Returning_Visitor</td>\n",
       "      <td>False</td>\n",
       "      <td>False</td>\n",
       "    </tr>\n",
       "  </tbody>\n",
       "</table>\n",
       "</div>"
      ],
      "text/plain": [
       "      admin  admin_dur  info  info_dur  prodrel  prodrel_dur  brate  erate  \\\n",
       "1065    NaN        NaN   NaN       NaN      NaN          NaN    NaN    NaN   \n",
       "1132    NaN        NaN   NaN       NaN      NaN          NaN    NaN    NaN   \n",
       "1133    NaN        NaN   NaN       NaN      NaN          NaN    NaN    NaN   \n",
       "1134    NaN        NaN   NaN       NaN      NaN          NaN    NaN    NaN   \n",
       "1135    NaN        NaN   NaN       NaN      NaN          NaN    NaN    NaN   \n",
       "1136    NaN        NaN   NaN       NaN      NaN          NaN    NaN    NaN   \n",
       "1473    NaN        NaN   NaN       NaN      NaN          NaN    NaN    NaN   \n",
       "1474    NaN        NaN   NaN       NaN      NaN          NaN    NaN    NaN   \n",
       "1475    NaN        NaN   NaN       NaN      NaN          NaN    NaN    NaN   \n",
       "1476    NaN        NaN   NaN       NaN      NaN          NaN    NaN    NaN   \n",
       "2037    NaN        NaN   NaN       NaN      NaN          NaN    NaN    NaN   \n",
       "2038    NaN        NaN   NaN       NaN      NaN          NaN    NaN    NaN   \n",
       "2039    NaN        NaN   NaN       NaN      NaN          NaN    NaN    NaN   \n",
       "2753    NaN        NaN   NaN       NaN      NaN          NaN    NaN    NaN   \n",
       "\n",
       "      pagev  sday month  os  browser  region  ttype              vtype  \\\n",
       "1065    0.0   0.0   Mar   2        2       2      1  Returning_Visitor   \n",
       "1132    0.0   0.0   Mar   1        1       1      2  Returning_Visitor   \n",
       "1133    0.0   0.0   Mar   2        4       5      1  Returning_Visitor   \n",
       "1134    0.0   0.0   Mar   2        2       1      2  Returning_Visitor   \n",
       "1135    0.0   0.0   Mar   3        2       1      1  Returning_Visitor   \n",
       "1136    0.0   0.0   Mar   2        2       1      2  Returning_Visitor   \n",
       "1473    0.0   0.0   Mar   2        2       1      1  Returning_Visitor   \n",
       "1474    0.0   0.0   Mar   1        1       6      1  Returning_Visitor   \n",
       "1475    0.0   0.0   Mar   2        2       3      1  Returning_Visitor   \n",
       "1476    0.0   0.0   Mar   1        1       2      3  Returning_Visitor   \n",
       "2037    0.0   0.0   Mar   3        2       4      1  Returning_Visitor   \n",
       "2038    0.0   0.0   Mar   2        2       1      2  Returning_Visitor   \n",
       "2039    0.0   0.0   Mar   3        2       4     15  Returning_Visitor   \n",
       "2753    0.0   0.0   May   2        2       4     13  Returning_Visitor   \n",
       "\n",
       "      weekend  revenue  \n",
       "1065    False    False  \n",
       "1132    False    False  \n",
       "1133    False    False  \n",
       "1134    False    False  \n",
       "1135    False    False  \n",
       "1136    False    False  \n",
       "1473     True    False  \n",
       "1474     True    False  \n",
       "1475    False    False  \n",
       "1476    False    False  \n",
       "2037    False    False  \n",
       "2038    False    False  \n",
       "2039     True    False  \n",
       "2753    False    False  "
      ]
     },
     "execution_count": 64,
     "metadata": {},
     "output_type": "execute_result"
    }
   ],
   "source": [
    "df.loc[df.isna().any(axis=1)]# checking the total number of rows affected by missing values"
   ]
  },
  {
   "cell_type": "code",
   "execution_count": 65,
   "metadata": {
    "colab": {
     "base_uri": "https://localhost:8080/"
    },
    "id": "EAfznMGX-Gpb",
    "outputId": "5d3e8ccc-7f7b-4a6e-80b8-c64bb3d85e87"
   },
   "outputs": [
    {
     "name": "stdout",
     "output_type": "stream",
     "text": [
      "admin\n",
      "28 ####### [ 0.  1.  2.  4. 12.  3. 10.  6.  5.  9.  8. 16. 13. 11.  7. 18. 14. 17.\n",
      " 19. 15. nan 24. 22. 21. 20. 23. 27. 26.]\n",
      "===============================================================\n",
      "admin_dur\n",
      "3337 ####### [  0.         -1.         53.        ... 167.9107143 305.125\n",
      " 150.3571429]\n",
      "===============================================================\n",
      "info\n",
      "18 ####### [ 0.  1.  2.  4. 16.  5.  3. 14.  6. 12.  7. nan  9. 10.  8. 11. 24. 13.]\n",
      "===============================================================\n",
      "info_dur\n",
      "1260 ####### [  0.    -1.   120.   ... 547.75 368.25 211.25]\n",
      "===============================================================\n",
      "prodrel\n",
      "312 ####### [  1.   2.  10.  19.   3.  16.   7.   6.  23.  13.  20.   8.   5.  32.\n",
      "   4.  45.  14.  52.   9.  46.  15.  22.  11.  12.  36.  42.  27.  90.\n",
      "  18.  38.  17. 128.  25.  30.  21.  51.  26.  28.  31.  24.  50.  96.\n",
      "  49.  68.  98.  67.  55.  35.  37.  29.  34.  71.  63.  87.  40.  33.\n",
      "  54.  64.  75.  39. 111.  81.  61.  47.  44.  88. 149.  41.   0.  79.\n",
      "  66.  43. 258.  80.  62.  83. 173.  48.  58.  57.  56.  69.  82.  59.\n",
      " 109. 287.  53.  84.  78. 137. 113.  89.  65.  60.  nan 104. 129.  77.\n",
      "  74.  93.  76.  72. 194. 140. 110. 132. 115.  73. 328. 160.  86. 150.\n",
      "  95. 130. 151. 117. 124. 127. 125. 116. 105.  92. 157. 154. 220. 187.\n",
      " 112. 131. 159.  94. 204. 142. 206. 102. 313. 145.  85.  97. 198. 181.\n",
      " 126. 106. 101. 108. 119.  70. 122.  91. 276. 100. 291. 114. 172. 217.\n",
      " 141. 133. 156. 136. 180. 135. 195.  99. 362. 179. 118. 175. 148. 440.\n",
      " 103. 178. 184. 705. 134. 176. 146. 189. 120. 193. 222. 121. 107. 305.\n",
      " 199. 439. 223. 230. 280. 377. 310. 158. 486. 153. 139. 182. 221. 229.\n",
      " 216. 170. 202. 346. 274. 240. 162. 123. 211. 227. 168. 161. 429. 686.\n",
      " 167. 518. 256. 255. 358. 213. 191. 282. 155. 138. 246. 237. 271. 171.\n",
      " 414. 219. 262. 409. 243. 241. 197. 449. 143. 188. 391. 238. 152. 165.\n",
      " 293. 174. 584. 164. 311. 340. 250. 200. 385. 292. 232. 251. 517. 225.\n",
      " 169. 309. 235. 501. 224. 275. 318. 144. 397. 343. 245. 186. 337. 351.\n",
      " 166. 349. 423. 359. 163. 147. 264. 312. 226. 324. 266. 260. 338. 272.\n",
      " 534. 470. 207. 218. 326. 190. 304. 205. 233. 401. 177. 330. 286. 247.\n",
      " 357. 315. 231. 339. 283. 374. 248. 279. 281. 234. 261. 290. 336. 378.\n",
      " 254. 183. 210. 192.]\n",
      "===============================================================\n",
      "prodrel_dur\n",
      "9553 ####### [  0.    64.    -1.   ... 465.75 184.25 346.  ]\n",
      "===============================================================\n",
      "brate\n",
      "1873 ####### [0.2        0.         0.05       ... 0.00382775 0.00086956 0.01114899]\n",
      "===============================================================\n",
      "erate\n",
      "4778 ####### [0.2        0.1        0.14       ... 0.01276133 0.01395349 0.02903061]\n",
      "===============================================================\n",
      "pagev\n",
      "2704 ####### [ 0.         54.17976426 19.44707913 ... 78.81172527  3.68540082\n",
      " 12.24171745]\n",
      "===============================================================\n",
      "sday\n",
      "6 ####### [0.  0.4 0.8 1.  0.2 0.6]\n",
      "===============================================================\n",
      "month\n",
      "10 ####### ['Feb' 'Mar' 'May' 'Oct' 'June' 'Jul' 'Aug' 'Nov' 'Sep' 'Dec']\n",
      "===============================================================\n",
      "os\n",
      "8 ####### [1 2 4 3 7 6 8 5]\n",
      "===============================================================\n",
      "browser\n",
      "13 ####### [ 1  2  3  4  5  6  7 10  8  9 12 13 11]\n",
      "===============================================================\n",
      "region\n",
      "9 ####### [1 9 2 3 4 5 6 7 8]\n",
      "===============================================================\n",
      "ttype\n",
      "20 ####### [ 1  2  3  4  5  6  7  8  9 10 11 12 13 14 15 18 19 16 17 20]\n",
      "===============================================================\n",
      "vtype\n",
      "3 ####### ['Returning_Visitor' 'New_Visitor' 'Other']\n",
      "===============================================================\n",
      "weekend\n",
      "2 ####### [False  True]\n",
      "===============================================================\n",
      "revenue\n",
      "2 ####### [False  True]\n",
      "===============================================================\n"
     ]
    }
   ],
   "source": [
    "cont=[]\n",
    "for i in list(df.columns):\n",
    "    print(i)\n",
    "    print(len(df[i].unique()),\"#######\",df[i].unique())\n",
    "    if len(df[i].unique())>20:\n",
    "       cont.append(i)    ### making a list of continous variables\n",
    "    print(\"===============================================================\")\n",
    "cont.append('sday')"
   ]
  },
  {
   "cell_type": "code",
   "execution_count": 66,
   "metadata": {
    "colab": {
     "base_uri": "https://localhost:8080/"
    },
    "id": "O0kDmFrY-Kzo",
    "outputId": "9ed27cca-a9d3-476e-f1e4-0704b37f2840"
   },
   "outputs": [
    {
     "data": {
      "text/plain": [
       "0    0.845255\n",
       "1    0.154745\n",
       "Name: revenue, dtype: float64"
      ]
     },
     "execution_count": 66,
     "metadata": {},
     "output_type": "execute_result"
    }
   ],
   "source": [
    "df[\"revenue\"]=df[\"revenue\"].replace({False:0,True:1})#replacing True/False with 1/0 in the target variable\n",
    "df[\"revenue\"].value_counts()/df.shape[0]"
   ]
  },
  {
   "cell_type": "code",
   "execution_count": 67,
   "metadata": {
    "id": "aol134ZY-N64"
   },
   "outputs": [],
   "source": [
    "cont.append('info')\n",
    "cat=[]\n",
    "for i in list(df.columns):\n",
    "    if i not in cont:\n",
    "        cat.append(i)#amking a list of categorical random variables\n",
    "cat=cat[:-1]"
   ]
  },
  {
   "cell_type": "code",
   "execution_count": 68,
   "metadata": {
    "colab": {
     "base_uri": "https://localhost:8080/"
    },
    "id": "hUb5OVi1-Qkg",
    "outputId": "3b09a08b-3825-45a1-eb75-d4fe455215d1"
   },
   "outputs": [
    {
     "name": "stdout",
     "output_type": "stream",
     "text": [
      "['month', 'os', 'browser', 'region', 'ttype', 'vtype', 'weekend']\n"
     ]
    }
   ],
   "source": [
    "print(cat)"
   ]
  },
  {
   "cell_type": "code",
   "execution_count": 69,
   "metadata": {
    "colab": {
     "base_uri": "https://localhost:8080/"
    },
    "id": "Rhku9QL2-V9g",
    "outputId": "fd83bc52-5805-44a2-e926-026f363f0e53"
   },
   "outputs": [
    {
     "name": "stdout",
     "output_type": "stream",
     "text": [
      "['admin', 'admin_dur', 'info_dur', 'prodrel', 'prodrel_dur', 'brate', 'erate', 'pagev', 'sday', 'info']\n"
     ]
    }
   ],
   "source": [
    "print(cont)"
   ]
  },
  {
   "cell_type": "code",
   "execution_count": 70,
   "metadata": {
    "id": "bF8CLjuR-ZFS"
   },
   "outputs": [],
   "source": [
    "### Dropping the missing values \n",
    "df1=df\n",
    "df1=df1.dropna()"
   ]
  },
  {
   "cell_type": "code",
   "execution_count": 71,
   "metadata": {
    "colab": {
     "base_uri": "https://localhost:8080/",
     "height": 269
    },
    "id": "2Vh2npVR-b7K",
    "outputId": "a227fd53-86ec-4e54-c170-4ddba37675fe"
   },
   "outputs": [
    {
     "data": {
      "text/plain": [
       "<AxesSubplot:ylabel='admin'>"
      ]
     },
     "execution_count": 71,
     "metadata": {},
     "output_type": "execute_result"
    },
    {
     "data": {
      "image/png": "[encoded data removed]",
      "text/plain": [
       "<Figure size 432x288 with 1 Axes>"
      ]
     },
     "metadata": {
      "needs_background": "light"
     },
     "output_type": "display_data"
    }
   ],
   "source": [
    "import matplotlib.pyplot as plt\n",
    "import seaborn as sns\n",
    "sns.boxplot(y=cont[0],data=df1)"
   ]
  },
  {
   "cell_type": "code",
   "execution_count": 72,
   "metadata": {
    "colab": {
     "base_uri": "https://localhost:8080/",
     "height": 269
    },
    "id": "ZMDWMCuc-eo0",
    "outputId": "33032d6b-ae39-4c78-c6d3-ddff7d801535"
   },
   "outputs": [
    {
     "data": {
      "text/plain": [
       "<AxesSubplot:ylabel='admin_dur'>"
      ]
     },
     "execution_count": 72,
     "metadata": {},
     "output_type": "execute_result"
    },
    {
     "data": {
      "image/png": "[encoded data removed]",
      "text/plain": [
       "<Figure size 432x288 with 1 Axes>"
      ]
     },
     "metadata": {
      "needs_background": "light"
     },
     "output_type": "display_data"
    }
   ],
   "source": [
    "sns.boxplot(y=cont[1],data=df1)"
   ]
  },
  {
   "cell_type": "code",
   "execution_count": 73,
   "metadata": {
    "colab": {
     "base_uri": "https://localhost:8080/",
     "height": 269
    },
    "id": "bfA4UMbu-goD",
    "outputId": "e4e3f5d5-b7ce-4fe0-c499-e0fbaacbe3e9"
   },
   "outputs": [
    {
     "data": {
      "text/plain": [
       "<AxesSubplot:ylabel='info_dur'>"
      ]
     },
     "execution_count": 73,
     "metadata": {},
     "output_type": "execute_result"
    },
    {
     "data": {
      "image/png": "[encoded data removed]",
      "text/plain": [
       "<Figure size 432x288 with 1 Axes>"
      ]
     },
     "metadata": {
      "needs_background": "light"
     },
     "output_type": "display_data"
    }
   ],
   "source": [
    "sns.boxplot(y=cont[2],data=df1)"
   ]
  },
  {
   "cell_type": "code",
   "execution_count": 74,
   "metadata": {
    "colab": {
     "base_uri": "https://localhost:8080/",
     "height": 269
    },
    "id": "D7MUrSvN-il7",
    "outputId": "f7b62d70-49f9-4856-a6c0-5b4b48133618"
   },
   "outputs": [
    {
     "data": {
      "text/plain": [
       "<AxesSubplot:ylabel='prodrel'>"
      ]
     },
     "execution_count": 74,
     "metadata": {},
     "output_type": "execute_result"
    },
    {
     "data": {
      "image/png": "[encoded data removed]",
      "text/plain": [
       "<Figure size 432x288 with 1 Axes>"
      ]
     },
     "metadata": {
      "needs_background": "light"
     },
     "output_type": "display_data"
    }
   ],
   "source": [
    "sns.boxplot(y=cont[3],data=df1)"
   ]
  },
  {
   "cell_type": "code",
   "execution_count": 75,
   "metadata": {
    "colab": {
     "base_uri": "https://localhost:8080/",
     "height": 269
    },
    "id": "4dp03GwH-m2S",
    "outputId": "cf030c02-b13f-412f-be8a-4fdc73b65a5a"
   },
   "outputs": [
    {
     "data": {
      "text/plain": [
       "<AxesSubplot:ylabel='prodrel_dur'>"
      ]
     },
     "execution_count": 75,
     "metadata": {},
     "output_type": "execute_result"
    },
    {
     "data": {
      "image/png": "[encoded data removed]",
      "text/plain": [
       "<Figure size 432x288 with 1 Axes>"
      ]
     },
     "metadata": {
      "needs_background": "light"
     },
     "output_type": "display_data"
    }
   ],
   "source": [
    "sns.boxplot(y=cont[4],data=df1)"
   ]
  },
  {
   "cell_type": "code",
   "execution_count": 76,
   "metadata": {
    "colab": {
     "base_uri": "https://localhost:8080/",
     "height": 269
    },
    "id": "FdTRlAMk-ouj",
    "outputId": "431b42b8-013e-459d-b993-f04a248a4b21"
   },
   "outputs": [
    {
     "data": {
      "text/plain": [
       "<AxesSubplot:ylabel='brate'>"
      ]
     },
     "execution_count": 76,
     "metadata": {},
     "output_type": "execute_result"
    },
    {
     "data": {
      "image/png": "[encoded data removed]",
      "text/plain": [
       "<Figure size 432x288 with 1 Axes>"
      ]
     },
     "metadata": {
      "needs_background": "light"
     },
     "output_type": "display_data"
    }
   ],
   "source": [
    "sns.boxplot(y=cont[5],data=df1)"
   ]
  },
  {
   "cell_type": "code",
   "execution_count": 77,
   "metadata": {
    "colab": {
     "base_uri": "https://localhost:8080/",
     "height": 269
    },
    "id": "ixbW78Dn-qcr",
    "outputId": "b0e31e1e-864c-4a8e-d70a-2c32ff61318b"
   },
   "outputs": [
    {
     "data": {
      "text/plain": [
       "<AxesSubplot:ylabel='erate'>"
      ]
     },
     "execution_count": 77,
     "metadata": {},
     "output_type": "execute_result"
    },
    {
     "data": {
      "image/png": "[encoded data removed]",
      "text/plain": [
       "<Figure size 432x288 with 1 Axes>"
      ]
     },
     "metadata": {
      "needs_background": "light"
     },
     "output_type": "display_data"
    }
   ],
   "source": [
    "sns.boxplot(y=cont[6],data=df1)"
   ]
  },
  {
   "cell_type": "code",
   "execution_count": 78,
   "metadata": {
    "colab": {
     "base_uri": "https://localhost:8080/",
     "height": 269
    },
    "id": "7zxiEQeT-sRE",
    "outputId": "0908f834-51ad-442a-d66f-f82994bed3d0"
   },
   "outputs": [
    {
     "data": {
      "text/plain": [
       "<AxesSubplot:ylabel='pagev'>"
      ]
     },
     "execution_count": 78,
     "metadata": {},
     "output_type": "execute_result"
    },
    {
     "data": {
      "image/png": "[encoded data removed]",
      "text/plain": [
       "<Figure size 432x288 with 1 Axes>"
      ]
     },
     "metadata": {
      "needs_background": "light"
     },
     "output_type": "display_data"
    }
   ],
   "source": [
    "sns.boxplot(y=cont[7],data=df1)"
   ]
  },
  {
   "cell_type": "code",
   "execution_count": 79,
   "metadata": {
    "colab": {
     "base_uri": "https://localhost:8080/"
    },
    "id": "SkNHGHbi-udC",
    "outputId": "ac8be340-d962-4d94-d889-69c44d8f5727"
   },
   "outputs": [
    {
     "data": {
      "text/plain": [
       "(12316, 18)"
      ]
     },
     "execution_count": 79,
     "metadata": {},
     "output_type": "execute_result"
    }
   ],
   "source": [
    "df1.shape#shape of the daaset after dropping missing values"
   ]
  },
  {
   "cell_type": "code",
   "execution_count": 80,
   "metadata": {
    "colab": {
     "base_uri": "https://localhost:8080/",
     "height": 122
    },
    "id": "-srVQ7_p-1pM",
    "outputId": "f17634d8-b076-422a-c682-8a3c54aa7aee"
   },
   "outputs": [
    {
     "data": {
      "text/plain": [
       "\"X_train=df1.iloc[:,:-1]\\n#X_train=pd.get_dummies(X_train,columns=cat,drop_first=True)\\n\\ny_train=df1['revenue']\\n\\n\\nX_train.loc[X_train.isna().any(axis=1)]\\n\\nfrom imblearn.over_sampling import SMOTE\\nsmote=SMOTE(sampling_strategy=0.7,random_state=10)\\nX_train, y_train = smote.fit_resample(X_train, y_train)\\n\\nX_train.loc[X_train.isna().any(axis=1)]\\n\\nX_train.shape\\n\\ny_train.shape\\n\\ntype(y_train)\\n\\nX_train.loc[y_train==0].shape[0]/X_train.shape[0]\\n\\nX_train.loc[y_train==1].shape[0]\\n\\nfrom imblearn.combine import SMOTETomek\\nsmk = SMOTETomek()\\nX_res,y_res=smk.fit_resample(X_train,y_train)\\n\\nX_train.loc[y_train==0].shape[0]\\n\\nX_train.loc[y_train==1].shape[0]\\n\\nfrom imblearn.under_sampling import TomekLinks\\n\\ntl = TomekLinks()\\nX_tl, y_tl = tl.fit_resample(X_train, y_train)\\n\\n\\nX_tl.loc[y_tl==0].shape[0]/X_tl.shape[0]\\n\\nX_tl.loc[y_tl==1].shape[0]/X_tl.shape[0]\""
      ]
     },
     "execution_count": 80,
     "metadata": {},
     "output_type": "execute_result"
    }
   ],
   "source": [
    "'''X_train=df1.iloc[:,:-1]\n",
    "#X_train=pd.get_dummies(X_train,columns=cat,drop_first=True)\n",
    "\n",
    "y_train=df1['revenue']\n",
    "\n",
    "\n",
    "X_train.loc[X_train.isna().any(axis=1)]\n",
    "\n",
    "from imblearn.over_sampling import SMOTE\n",
    "smote=SMOTE(sampling_strategy=0.7,random_state=10)\n",
    "X_train, y_train = smote.fit_resample(X_train, y_train)\n",
    "\n",
    "X_train.loc[X_train.isna().any(axis=1)]\n",
    "\n",
    "X_train.shape\n",
    "\n",
    "y_train.shape\n",
    "\n",
    "type(y_train)\n",
    "\n",
    "X_train.loc[y_train==0].shape[0]/X_train.shape[0]\n",
    "\n",
    "X_train.loc[y_train==1].shape[0]\n",
    "\n",
    "from imblearn.combine import SMOTETomek\n",
    "smk = SMOTETomek()\n",
    "X_res,y_res=smk.fit_resample(X_train,y_train)\n",
    "\n",
    "X_train.loc[y_train==0].shape[0]\n",
    "\n",
    "X_train.loc[y_train==1].shape[0]\n",
    "\n",
    "from imblearn.under_sampling import TomekLinks\n",
    "\n",
    "tl = TomekLinks()\n",
    "X_tl, y_tl = tl.fit_resample(X_train, y_train)\n",
    "\n",
    "\n",
    "X_tl.loc[y_tl==0].shape[0]/X_tl.shape[0]\n",
    "\n",
    "X_tl.loc[y_tl==1].shape[0]/X_tl.shape[0]'''"
   ]
  },
  {
   "cell_type": "code",
   "execution_count": 81,
   "metadata": {
    "id": "B8feSvq4-3Gj"
   },
   "outputs": [],
   "source": [
    "X=df1.iloc[:,:-1]\n",
    "X=pd.get_dummies(X,columns=cat,drop_first=True)#one hot encoding of categorical random variables\n",
    "Y=df1['revenue']\n",
    "#Splitting the dataset into train and test\n",
    "Xtrain,Xtest,Ytrain,Ytest=model_selection.train_test_split(X,Y,test_size=.2,random_state=20)"
   ]
  },
  {
   "cell_type": "code",
   "execution_count": 82,
   "metadata": {
    "colab": {
     "base_uri": "https://localhost:8080/"
    },
    "id": "oqO5U791_EXS",
    "outputId": "fa450632-975d-44ae-b6ba-9510c49245a8"
   },
   "outputs": [
    {
     "data": {
      "text/plain": [
       "(9852, 68)"
      ]
     },
     "execution_count": 82,
     "metadata": {},
     "output_type": "execute_result"
    }
   ],
   "source": [
    "Xtrain.shape"
   ]
  },
  {
   "cell_type": "code",
   "execution_count": 83,
   "metadata": {
    "colab": {
     "base_uri": "https://localhost:8080/",
     "height": 488
    },
    "id": "Y_fLTYIA_I5E",
    "outputId": "78f0acf4-f53d-41d2-ffe1-a801f41a89ba"
   },
   "outputs": [
    {
     "data": {
      "text/html": [
       "<div>\n",
       "<style scoped>\n",
       "    .dataframe tbody tr th:only-of-type {\n",
       "        vertical-align: middle;\n",
       "    }\n",
       "\n",
       "    .dataframe tbody tr th {\n",
       "        vertical-align: top;\n",
       "    }\n",
       "\n",
       "    .dataframe thead th {\n",
       "        text-align: right;\n",
       "    }\n",
       "</style>\n",
       "<table border=\"1\" class=\"dataframe\">\n",
       "  <thead>\n",
       "    <tr style=\"text-align: right;\">\n",
       "      <th></th>\n",
       "      <th>admin</th>\n",
       "      <th>admin_dur</th>\n",
       "      <th>info</th>\n",
       "      <th>info_dur</th>\n",
       "      <th>prodrel</th>\n",
       "      <th>prodrel_dur</th>\n",
       "      <th>brate</th>\n",
       "      <th>erate</th>\n",
       "      <th>pagev</th>\n",
       "      <th>sday</th>\n",
       "      <th>...</th>\n",
       "      <th>ttype_14</th>\n",
       "      <th>ttype_15</th>\n",
       "      <th>ttype_16</th>\n",
       "      <th>ttype_17</th>\n",
       "      <th>ttype_18</th>\n",
       "      <th>ttype_19</th>\n",
       "      <th>ttype_20</th>\n",
       "      <th>vtype_Other</th>\n",
       "      <th>vtype_Returning_Visitor</th>\n",
       "      <th>weekend_True</th>\n",
       "    </tr>\n",
       "  </thead>\n",
       "  <tbody>\n",
       "    <tr>\n",
       "      <th>0</th>\n",
       "      <td>0.0</td>\n",
       "      <td>0.0</td>\n",
       "      <td>0.0</td>\n",
       "      <td>0.0</td>\n",
       "      <td>1.0</td>\n",
       "      <td>0.000000</td>\n",
       "      <td>0.200000</td>\n",
       "      <td>0.200000</td>\n",
       "      <td>0.000000</td>\n",
       "      <td>0.0</td>\n",
       "      <td>...</td>\n",
       "      <td>0</td>\n",
       "      <td>0</td>\n",
       "      <td>0</td>\n",
       "      <td>0</td>\n",
       "      <td>0</td>\n",
       "      <td>0</td>\n",
       "      <td>0</td>\n",
       "      <td>0</td>\n",
       "      <td>1</td>\n",
       "      <td>0</td>\n",
       "    </tr>\n",
       "    <tr>\n",
       "      <th>1</th>\n",
       "      <td>0.0</td>\n",
       "      <td>0.0</td>\n",
       "      <td>0.0</td>\n",
       "      <td>0.0</td>\n",
       "      <td>2.0</td>\n",
       "      <td>64.000000</td>\n",
       "      <td>0.000000</td>\n",
       "      <td>0.100000</td>\n",
       "      <td>0.000000</td>\n",
       "      <td>0.0</td>\n",
       "      <td>...</td>\n",
       "      <td>0</td>\n",
       "      <td>0</td>\n",
       "      <td>0</td>\n",
       "      <td>0</td>\n",
       "      <td>0</td>\n",
       "      <td>0</td>\n",
       "      <td>0</td>\n",
       "      <td>0</td>\n",
       "      <td>1</td>\n",
       "      <td>0</td>\n",
       "    </tr>\n",
       "    <tr>\n",
       "      <th>2</th>\n",
       "      <td>0.0</td>\n",
       "      <td>-1.0</td>\n",
       "      <td>0.0</td>\n",
       "      <td>-1.0</td>\n",
       "      <td>1.0</td>\n",
       "      <td>-1.000000</td>\n",
       "      <td>0.200000</td>\n",
       "      <td>0.200000</td>\n",
       "      <td>0.000000</td>\n",
       "      <td>0.0</td>\n",
       "      <td>...</td>\n",
       "      <td>0</td>\n",
       "      <td>0</td>\n",
       "      <td>0</td>\n",
       "      <td>0</td>\n",
       "      <td>0</td>\n",
       "      <td>0</td>\n",
       "      <td>0</td>\n",
       "      <td>0</td>\n",
       "      <td>1</td>\n",
       "      <td>0</td>\n",
       "    </tr>\n",
       "    <tr>\n",
       "      <th>3</th>\n",
       "      <td>0.0</td>\n",
       "      <td>0.0</td>\n",
       "      <td>0.0</td>\n",
       "      <td>0.0</td>\n",
       "      <td>2.0</td>\n",
       "      <td>2.666667</td>\n",
       "      <td>0.050000</td>\n",
       "      <td>0.140000</td>\n",
       "      <td>0.000000</td>\n",
       "      <td>0.0</td>\n",
       "      <td>...</td>\n",
       "      <td>0</td>\n",
       "      <td>0</td>\n",
       "      <td>0</td>\n",
       "      <td>0</td>\n",
       "      <td>0</td>\n",
       "      <td>0</td>\n",
       "      <td>0</td>\n",
       "      <td>0</td>\n",
       "      <td>1</td>\n",
       "      <td>0</td>\n",
       "    </tr>\n",
       "    <tr>\n",
       "      <th>4</th>\n",
       "      <td>0.0</td>\n",
       "      <td>0.0</td>\n",
       "      <td>0.0</td>\n",
       "      <td>0.0</td>\n",
       "      <td>10.0</td>\n",
       "      <td>627.500000</td>\n",
       "      <td>0.020000</td>\n",
       "      <td>0.050000</td>\n",
       "      <td>0.000000</td>\n",
       "      <td>0.0</td>\n",
       "      <td>...</td>\n",
       "      <td>0</td>\n",
       "      <td>0</td>\n",
       "      <td>0</td>\n",
       "      <td>0</td>\n",
       "      <td>0</td>\n",
       "      <td>0</td>\n",
       "      <td>0</td>\n",
       "      <td>0</td>\n",
       "      <td>1</td>\n",
       "      <td>1</td>\n",
       "    </tr>\n",
       "    <tr>\n",
       "      <th>...</th>\n",
       "      <td>...</td>\n",
       "      <td>...</td>\n",
       "      <td>...</td>\n",
       "      <td>...</td>\n",
       "      <td>...</td>\n",
       "      <td>...</td>\n",
       "      <td>...</td>\n",
       "      <td>...</td>\n",
       "      <td>...</td>\n",
       "      <td>...</td>\n",
       "      <td>...</td>\n",
       "      <td>...</td>\n",
       "      <td>...</td>\n",
       "      <td>...</td>\n",
       "      <td>...</td>\n",
       "      <td>...</td>\n",
       "      <td>...</td>\n",
       "      <td>...</td>\n",
       "      <td>...</td>\n",
       "      <td>...</td>\n",
       "      <td>...</td>\n",
       "    </tr>\n",
       "    <tr>\n",
       "      <th>12325</th>\n",
       "      <td>3.0</td>\n",
       "      <td>145.0</td>\n",
       "      <td>0.0</td>\n",
       "      <td>0.0</td>\n",
       "      <td>53.0</td>\n",
       "      <td>1783.791667</td>\n",
       "      <td>0.007143</td>\n",
       "      <td>0.029031</td>\n",
       "      <td>12.241717</td>\n",
       "      <td>0.0</td>\n",
       "      <td>...</td>\n",
       "      <td>0</td>\n",
       "      <td>0</td>\n",
       "      <td>0</td>\n",
       "      <td>0</td>\n",
       "      <td>0</td>\n",
       "      <td>0</td>\n",
       "      <td>0</td>\n",
       "      <td>0</td>\n",
       "      <td>1</td>\n",
       "      <td>1</td>\n",
       "    </tr>\n",
       "    <tr>\n",
       "      <th>12326</th>\n",
       "      <td>0.0</td>\n",
       "      <td>0.0</td>\n",
       "      <td>0.0</td>\n",
       "      <td>0.0</td>\n",
       "      <td>5.0</td>\n",
       "      <td>465.750000</td>\n",
       "      <td>0.000000</td>\n",
       "      <td>0.021333</td>\n",
       "      <td>0.000000</td>\n",
       "      <td>0.0</td>\n",
       "      <td>...</td>\n",
       "      <td>0</td>\n",
       "      <td>0</td>\n",
       "      <td>0</td>\n",
       "      <td>0</td>\n",
       "      <td>0</td>\n",
       "      <td>0</td>\n",
       "      <td>0</td>\n",
       "      <td>0</td>\n",
       "      <td>1</td>\n",
       "      <td>1</td>\n",
       "    </tr>\n",
       "    <tr>\n",
       "      <th>12327</th>\n",
       "      <td>0.0</td>\n",
       "      <td>0.0</td>\n",
       "      <td>0.0</td>\n",
       "      <td>0.0</td>\n",
       "      <td>6.0</td>\n",
       "      <td>184.250000</td>\n",
       "      <td>0.083333</td>\n",
       "      <td>0.086667</td>\n",
       "      <td>0.000000</td>\n",
       "      <td>0.0</td>\n",
       "      <td>...</td>\n",
       "      <td>0</td>\n",
       "      <td>0</td>\n",
       "      <td>0</td>\n",
       "      <td>0</td>\n",
       "      <td>0</td>\n",
       "      <td>0</td>\n",
       "      <td>0</td>\n",
       "      <td>0</td>\n",
       "      <td>1</td>\n",
       "      <td>1</td>\n",
       "    </tr>\n",
       "    <tr>\n",
       "      <th>12328</th>\n",
       "      <td>4.0</td>\n",
       "      <td>75.0</td>\n",
       "      <td>0.0</td>\n",
       "      <td>0.0</td>\n",
       "      <td>15.0</td>\n",
       "      <td>346.000000</td>\n",
       "      <td>0.000000</td>\n",
       "      <td>0.021053</td>\n",
       "      <td>0.000000</td>\n",
       "      <td>0.0</td>\n",
       "      <td>...</td>\n",
       "      <td>0</td>\n",
       "      <td>0</td>\n",
       "      <td>0</td>\n",
       "      <td>0</td>\n",
       "      <td>0</td>\n",
       "      <td>0</td>\n",
       "      <td>0</td>\n",
       "      <td>0</td>\n",
       "      <td>1</td>\n",
       "      <td>0</td>\n",
       "    </tr>\n",
       "    <tr>\n",
       "      <th>12329</th>\n",
       "      <td>0.0</td>\n",
       "      <td>0.0</td>\n",
       "      <td>0.0</td>\n",
       "      <td>0.0</td>\n",
       "      <td>3.0</td>\n",
       "      <td>21.250000</td>\n",
       "      <td>0.000000</td>\n",
       "      <td>0.066667</td>\n",
       "      <td>0.000000</td>\n",
       "      <td>0.0</td>\n",
       "      <td>...</td>\n",
       "      <td>0</td>\n",
       "      <td>0</td>\n",
       "      <td>0</td>\n",
       "      <td>0</td>\n",
       "      <td>0</td>\n",
       "      <td>0</td>\n",
       "      <td>0</td>\n",
       "      <td>0</td>\n",
       "      <td>0</td>\n",
       "      <td>1</td>\n",
       "    </tr>\n",
       "  </tbody>\n",
       "</table>\n",
       "<p>12316 rows × 68 columns</p>\n",
       "</div>"
      ],
      "text/plain": [
       "       admin  admin_dur  info  info_dur  prodrel  prodrel_dur     brate  \\\n",
       "0        0.0        0.0   0.0       0.0      1.0     0.000000  0.200000   \n",
       "1        0.0        0.0   0.0       0.0      2.0    64.000000  0.000000   \n",
       "2        0.0       -1.0   0.0      -1.0      1.0    -1.000000  0.200000   \n",
       "3        0.0        0.0   0.0       0.0      2.0     2.666667  0.050000   \n",
       "4        0.0        0.0   0.0       0.0     10.0   627.500000  0.020000   \n",
       "...      ...        ...   ...       ...      ...          ...       ...   \n",
       "12325    3.0      145.0   0.0       0.0     53.0  1783.791667  0.007143   \n",
       "12326    0.0        0.0   0.0       0.0      5.0   465.750000  0.000000   \n",
       "12327    0.0        0.0   0.0       0.0      6.0   184.250000  0.083333   \n",
       "12328    4.0       75.0   0.0       0.0     15.0   346.000000  0.000000   \n",
       "12329    0.0        0.0   0.0       0.0      3.0    21.250000  0.000000   \n",
       "\n",
       "          erate      pagev  sday  ...  ttype_14  ttype_15  ttype_16  ttype_17  \\\n",
       "0      0.200000   0.000000   0.0  ...         0         0         0         0   \n",
       "1      0.100000   0.000000   0.0  ...         0         0         0         0   \n",
       "2      0.200000   0.000000   0.0  ...         0         0         0         0   \n",
       "3      0.140000   0.000000   0.0  ...         0         0         0         0   \n",
       "4      0.050000   0.000000   0.0  ...         0         0         0         0   \n",
       "...         ...        ...   ...  ...       ...       ...       ...       ...   \n",
       "12325  0.029031  12.241717   0.0  ...         0         0         0         0   \n",
       "12326  0.021333   0.000000   0.0  ...         0         0         0         0   \n",
       "12327  0.086667   0.000000   0.0  ...         0         0         0         0   \n",
       "12328  0.021053   0.000000   0.0  ...         0         0         0         0   \n",
       "12329  0.066667   0.000000   0.0  ...         0         0         0         0   \n",
       "\n",
       "       ttype_18  ttype_19  ttype_20  vtype_Other  vtype_Returning_Visitor  \\\n",
       "0             0         0         0            0                        1   \n",
       "1             0         0         0            0                        1   \n",
       "2             0         0         0            0                        1   \n",
       "3             0         0         0            0                        1   \n",
       "4             0         0         0            0                        1   \n",
       "...         ...       ...       ...          ...                      ...   \n",
       "12325         0         0         0            0                        1   \n",
       "12326         0         0         0            0                        1   \n",
       "12327         0         0         0            0                        1   \n",
       "12328         0         0         0            0                        1   \n",
       "12329         0         0         0            0                        0   \n",
       "\n",
       "       weekend_True  \n",
       "0                 0  \n",
       "1                 0  \n",
       "2                 0  \n",
       "3                 0  \n",
       "4                 1  \n",
       "...             ...  \n",
       "12325             1  \n",
       "12326             1  \n",
       "12327             1  \n",
       "12328             0  \n",
       "12329             1  \n",
       "\n",
       "[12316 rows x 68 columns]"
      ]
     },
     "execution_count": 83,
     "metadata": {},
     "output_type": "execute_result"
    }
   ],
   "source": [
    "X"
   ]
  },
  {
   "cell_type": "code",
   "execution_count": 27,
   "metadata": {
    "id": "IGtBfPEr_K4L"
   },
   "outputs": [],
   "source": [
    "#SCALING THE TEST AND TRAIN DATA\n",
    "scaler=preprocessing.StandardScaler()\n",
    "scaler.fit(Xtrain[cont]) # fit is called only on training data \n",
    "Xtrain[cont]=scaler.transform(Xtrain[cont])\n",
    "Xtest[cont]=scaler.transform(Xtest[cont])"
   ]
  },
  {
   "cell_type": "code",
   "execution_count": 84,
   "metadata": {
    "colab": {
     "base_uri": "https://localhost:8080/"
    },
    "id": "jD4l9dcZ_NdT",
    "outputId": "2b90b994-ff92-4aec-c399-a22c903dbcab"
   },
   "outputs": [
    {
     "name": "stdout",
     "output_type": "stream",
     "text": [
      "9852 9852 ==== 2464 2464\n"
     ]
    }
   ],
   "source": [
    "print(Xtrain.shape[0],Ytrain.shape[0],\"====\",Xtest.shape[0],Ytest.shape[0])"
   ]
  },
  {
   "cell_type": "code",
   "execution_count": 85,
   "metadata": {
    "colab": {
     "base_uri": "https://localhost:8080/"
    },
    "id": "0k_TDNJ2_P5t",
    "outputId": "9bcb7405-4767-426b-97dd-c39df7ddb65e"
   },
   "outputs": [
    {
     "name": "stdout",
     "output_type": "stream",
     "text": [
      "admin\n",
      "27 ####### [ 0.  2.  9.  4.  6.  8. 13.  1.  3.  5. 12. 10.  7. 24. 11. 17. 14. 27.\n",
      " 16. 15. 20. 19. 18. 22. 21. 26. 23.]\n",
      "===============================================================\n",
      "admin_dur\n",
      "2786 ####### [  0.           4.         904.5833333  ...  97.83333333  38.33333333\n",
      " 218.9666667 ]\n",
      "===============================================================\n",
      "info\n",
      "14 ####### [ 0.  4.  2.  1.  6.  3.  5.  9.  8.  7. 12. 10. 14. 24.]\n",
      "===============================================================\n",
      "info_dur\n",
      "1064 ####### [   0.           83.5          43.33333333 ...   17.25         14.75\n",
      " 1150.        ]\n",
      "===============================================================\n",
      "prodrel\n",
      "281 ####### [ 36.  10. 132.  12.   7.  34.  52.  48.  68.  11.  15.  42.  56.  20.\n",
      "  46.  43.   4.   2.  37. 107.  23.  51.   1.  95.  14.   3.  50.  21.\n",
      "   8.  19.  28.  67.  25.  79.  93.   5.  18.   6.   9.  22.  40. 130.\n",
      "  31. 143.  61.  32. 271.  30. 176.  71.  96.  17.  80.  16.  78.  27.\n",
      " 155.  90.  97. 178. 103.  38. 440.  64.  45.  33.  13.  24.  57.  29.\n",
      "  49.  39. 122.  69.  35.  72.  60.  84. 106.  44.  81.  74. 141. 159.\n",
      " 222.   0. 162. 584.  82. 189.  41. 213. 309.  94. 173.  58.  47. 102.\n",
      " 337.  53.  26. 149. 328. 125. 179. 171.  66. 221.  65. 517. 133. 128.\n",
      "  59. 116.  70.  92. 114. 111.  86.  62. 339. 138. 374. 127.  55. 290.\n",
      " 129.  85. 204.  77.  76. 100.  63.  54. 113. 258. 397. 330. 293. 150.\n",
      "  73. 152.  88.  91. 154. 126. 142. 318. 197. 119. 153. 140. 172. 230.\n",
      " 264. 187. 191. 168. 137. 192. 351.  87. 115. 101.  75. 123.  89.  98.\n",
      " 238. 104. 439. 229.  83.  99. 501. 234. 251. 158. 184. 105. 180. 227.\n",
      " 120. 136. 291. 224. 274. 174. 157. 117. 218. 108. 199. 134. 124. 175.\n",
      " 200. 146. 144. 193. 118. 326. 237. 182. 449. 225. 198. 151. 240. 245.\n",
      " 131. 216. 188. 109. 220. 202. 156. 135. 266. 280. 163. 358. 262. 349.\n",
      " 112. 166. 139. 324. 211. 226. 160. 167. 243. 147. 170. 145. 110. 378.\n",
      " 235. 223. 181. 315. 336. 311. 148. 207. 401. 194. 161. 310. 241. 121.\n",
      " 391. 305. 248. 283. 312. 205. 518. 254. 169. 705. 183. 359. 357. 486.\n",
      " 286. 195. 210. 275. 346. 164. 304. 429. 231. 255. 219. 186. 534. 409.\n",
      " 217.]\n",
      "===============================================================\n",
      "prodrel_dur\n",
      "7787 ####### [1388.2       284.       4096.15859  ...  672.7       929.91\n",
      " 5072.395938]\n",
      "===============================================================\n",
      "brate\n",
      "1587 ####### [0.00555556 0.         0.01273809 ... 0.0825     0.00975845 0.00766747]\n",
      "===============================================================\n",
      "erate\n",
      "3954 ####### [0.02777778 0.01666667 0.02297307 ... 0.02985191 0.02688889 0.0388028 ]\n",
      "===============================================================\n",
      "pagev\n",
      "2183 ####### [ 0.         33.32834503  8.96074793 ... 12.76243133 83.10114264\n",
      "  2.48338983]\n",
      "===============================================================\n",
      "sday\n",
      "6 ####### [0.  0.4 0.8 0.6 0.2 1. ]\n",
      "===============================================================\n",
      "month_Dec\n",
      "2 ####### [0 1]\n",
      "===============================================================\n",
      "month_Feb\n",
      "2 ####### [0 1]\n",
      "===============================================================\n",
      "month_Jul\n",
      "2 ####### [0 1]\n",
      "===============================================================\n",
      "month_June\n",
      "2 ####### [0 1]\n",
      "===============================================================\n",
      "month_Mar\n",
      "2 ####### [0 1]\n",
      "===============================================================\n",
      "month_May\n",
      "2 ####### [0 1]\n",
      "===============================================================\n",
      "month_Nov\n",
      "2 ####### [1 0]\n",
      "===============================================================\n",
      "month_Oct\n",
      "2 ####### [0 1]\n",
      "===============================================================\n",
      "month_Sep\n",
      "2 ####### [0 1]\n",
      "===============================================================\n",
      "os_2\n",
      "2 ####### [1 0]\n",
      "===============================================================\n",
      "os_3\n",
      "2 ####### [0 1]\n",
      "===============================================================\n",
      "os_4\n",
      "2 ####### [0 1]\n",
      "===============================================================\n",
      "os_5\n",
      "2 ####### [0 1]\n",
      "===============================================================\n",
      "os_6\n",
      "2 ####### [0 1]\n",
      "===============================================================\n",
      "os_7\n",
      "2 ####### [0 1]\n",
      "===============================================================\n",
      "os_8\n",
      "2 ####### [0 1]\n",
      "===============================================================\n",
      "browser_2\n",
      "2 ####### [1 0]\n",
      "===============================================================\n",
      "browser_3\n",
      "2 ####### [0 1]\n",
      "===============================================================\n",
      "browser_4\n",
      "2 ####### [0 1]\n",
      "===============================================================\n",
      "browser_5\n",
      "2 ####### [0 1]\n",
      "===============================================================\n",
      "browser_6\n",
      "2 ####### [0 1]\n",
      "===============================================================\n",
      "browser_7\n",
      "2 ####### [0 1]\n",
      "===============================================================\n",
      "browser_8\n",
      "2 ####### [0 1]\n",
      "===============================================================\n",
      "browser_9\n",
      "1 ####### [0]\n",
      "===============================================================\n",
      "browser_10\n",
      "2 ####### [0 1]\n",
      "===============================================================\n",
      "browser_11\n",
      "2 ####### [0 1]\n",
      "===============================================================\n",
      "browser_12\n",
      "2 ####### [0 1]\n",
      "===============================================================\n",
      "browser_13\n",
      "2 ####### [0 1]\n",
      "===============================================================\n",
      "region_2\n",
      "2 ####### [0 1]\n",
      "===============================================================\n",
      "region_3\n",
      "2 ####### [1 0]\n",
      "===============================================================\n",
      "region_4\n",
      "2 ####### [0 1]\n",
      "===============================================================\n",
      "region_5\n",
      "2 ####### [0 1]\n",
      "===============================================================\n",
      "region_6\n",
      "2 ####### [0 1]\n",
      "===============================================================\n",
      "region_7\n",
      "2 ####### [0 1]\n",
      "===============================================================\n",
      "region_8\n",
      "2 ####### [0 1]\n",
      "===============================================================\n",
      "region_9\n",
      "2 ####### [0 1]\n",
      "===============================================================\n",
      "ttype_2\n",
      "2 ####### [1 0]\n",
      "===============================================================\n",
      "ttype_3\n",
      "2 ####### [0 1]\n",
      "===============================================================\n",
      "ttype_4\n",
      "2 ####### [0 1]\n",
      "===============================================================\n",
      "ttype_5\n",
      "2 ####### [0 1]\n",
      "===============================================================\n",
      "ttype_6\n",
      "2 ####### [0 1]\n",
      "===============================================================\n",
      "ttype_7\n",
      "2 ####### [0 1]\n",
      "===============================================================\n",
      "ttype_8\n",
      "2 ####### [0 1]\n",
      "===============================================================\n",
      "ttype_9\n",
      "2 ####### [0 1]\n",
      "===============================================================\n",
      "ttype_10\n",
      "2 ####### [0 1]\n",
      "===============================================================\n",
      "ttype_11\n",
      "2 ####### [0 1]\n",
      "===============================================================\n",
      "ttype_12\n",
      "2 ####### [0 1]\n",
      "===============================================================\n",
      "ttype_13\n",
      "2 ####### [0 1]\n",
      "===============================================================\n",
      "ttype_14\n",
      "2 ####### [0 1]\n",
      "===============================================================\n",
      "ttype_15\n",
      "2 ####### [0 1]\n",
      "===============================================================\n",
      "ttype_16\n",
      "2 ####### [0 1]\n",
      "===============================================================\n",
      "ttype_17\n",
      "2 ####### [0 1]\n",
      "===============================================================\n",
      "ttype_18\n",
      "2 ####### [0 1]\n",
      "===============================================================\n",
      "ttype_19\n",
      "2 ####### [0 1]\n",
      "===============================================================\n",
      "ttype_20\n",
      "2 ####### [0 1]\n",
      "===============================================================\n",
      "vtype_Other\n",
      "2 ####### [0 1]\n",
      "===============================================================\n",
      "vtype_Returning_Visitor\n",
      "2 ####### [1 0]\n",
      "===============================================================\n",
      "weekend_True\n",
      "2 ####### [1 0]\n",
      "===============================================================\n"
     ]
    }
   ],
   "source": [
    "for i in list(Xtrain.columns):\n",
    "    print(i)\n",
    "    print(len(Xtrain[i].unique()),\"#######\",Xtrain[i].unique())\n",
    "      \n",
    "    print(\"===============================================================\")"
   ]
  },
  {
   "cell_type": "code",
   "execution_count": 86,
   "metadata": {
    "id": "pIMT9i_2_VJA"
   },
   "outputs": [],
   "source": [
    "#RESAMPLING TO 70:30 FROM 85:15\n",
    "from imblearn.pipeline import make_pipeline\n",
    "from imblearn.over_sampling import SMOTE\n",
    "from imblearn.under_sampling import NearMiss\n",
    "count_class_0 = int(Xtrain.loc[Ytrain==0].shape[0]/1)\n",
    "count_class_1 = int((count_class_0)*(30/70))\n",
    "pipe = make_pipeline(SMOTE(sampling_strategy={1: count_class_1}),NearMiss(sampling_strategy={0: count_class_0}))\n",
    "X_smt,y_smt = pipe.fit_resample(Xtrain,Ytrain)"
   ]
  },
  {
   "cell_type": "code",
   "execution_count": 87,
   "metadata": {
    "colab": {
     "base_uri": "https://localhost:8080/"
    },
    "id": "I_aVYGm4_V7M",
    "outputId": "dd6bdb53-3aa8-4a9c-8f03-65b9b313403d"
   },
   "outputs": [
    {
     "data": {
      "text/plain": [
       "0.7"
      ]
     },
     "execution_count": 87,
     "metadata": {},
     "output_type": "execute_result"
    }
   ],
   "source": [
    "X_smt.loc[y_smt==0].shape[0]/X_smt.shape[0]"
   ]
  },
  {
   "cell_type": "code",
   "execution_count": 88,
   "metadata": {
    "colab": {
     "base_uri": "https://localhost:8080/"
    },
    "id": "VPKlNZeV_ZL7",
    "outputId": "c21f111e-6413-4e2c-ad7a-f9c79796d0b9"
   },
   "outputs": [
    {
     "data": {
      "text/plain": [
       "0.3"
      ]
     },
     "execution_count": 88,
     "metadata": {},
     "output_type": "execute_result"
    }
   ],
   "source": [
    "X_smt.loc[y_smt==1].shape[0]/X_smt.shape[0]"
   ]
  },
  {
   "cell_type": "code",
   "execution_count": 89,
   "metadata": {
    "id": "heHwbcOS_aSM"
   },
   "outputs": [],
   "source": [
    "import matplotlib.pyplot as plt\n",
    "import numpy as np\n",
    "import pandas as pd\n",
    "import seaborn as sns\n",
    "from sklearn import model_selection # for train test split\n",
    "from sklearn import preprocessing # for scaling\n",
    "from sklearn import metrics\n",
    "from sklearn import linear_model\n",
    "from sklearn import tree\n",
    "import warnings\n",
    "warnings.filterwarnings(\"ignore\")\n",
    "\n",
    "def printresults(actual,predicted):\n",
    "    print(\"AUC : \",np.round( metrics.roc_auc_score(actual,predicted),4)  )\n",
    "    print(\"accuracy : \",np.round( metrics.accuracy_score(actual,predicted),4)  )\n",
    "    print(\"recall: \",np.round( metrics.recall_score(actual,predicted),4)  )\n",
    "    print(\"precision : \",np.round( metrics.precision_score(actual,predicted),4)  )\n",
    "    print(\"f1 : \",np.round( metrics.f1_score(actual,predicted),4)  )"
   ]
  },
  {
   "cell_type": "code",
   "execution_count": 90,
   "metadata": {
    "id": "8xDs__IHUCVT"
   },
   "outputs": [],
   "source": [
    "model=tree.DecisionTreeClassifier(max_depth=3,random_state=20)"
   ]
  },
  {
   "cell_type": "code",
   "execution_count": 91,
   "metadata": {
    "colab": {
     "base_uri": "https://localhost:8080/"
    },
    "id": "xcWbSqktUm-z",
    "outputId": "ec4de66e-af54-496f-d84b-32b37d29de91"
   },
   "outputs": [
    {
     "data": {
      "text/plain": [
       "DecisionTreeClassifier(max_depth=3, random_state=20)"
      ]
     },
     "execution_count": 91,
     "metadata": {},
     "output_type": "execute_result"
    }
   ],
   "source": [
    "model.fit(X_smt,y_smt)"
   ]
  },
  {
   "cell_type": "code",
   "execution_count": 110,
   "metadata": {
    "colab": {
     "base_uri": "https://localhost:8080/",
     "height": 437
    },
    "id": "zB5AwCf9UtEy",
    "outputId": "b4baec6c-fd6c-4773-96c0-bf9711f27831"
   },
   "outputs": [
    {
     "data": {
      "image/png": "[encoded data removed]",
      "text/plain": [
       "<IPython.core.display.Image object>"
      ]
     },
     "execution_count": 110,
     "metadata": {},
     "output_type": "execute_result"
    }
   ],
   "source": [
    "from IPython.display import Image\n",
    "from six import StringIO\n",
    "from sklearn.tree import export_graphviz\n",
    "import pydotplus, graphviz\n",
    "\n",
    "dot_data = StringIO()\n",
    "\n",
    "export_graphviz(model, out_file=dot_data, filled=True, rounded=True,\n",
    "feature_names=X.columns,\n",
    "class_names=['NO REVENUE', \"REVENUE\"])\n",
    "\n",
    "\n",
    "graph = pydotplus.graph_from_dot_data(dot_data.getvalue())\n",
    "Image(graph.create_png())"
   ]
  },
  {
   "cell_type": "code",
   "execution_count": 103,
   "metadata": {
    "colab": {
     "base_uri": "https://localhost:8080/"
    },
    "id": "4P1Uqf-sU_yy",
    "outputId": "15efc7fe-3659-443e-b467-7126158fbb7c"
   },
   "outputs": [
    {
     "data": {
      "text/plain": [
       "(11870, 68)"
      ]
     },
     "execution_count": 103,
     "metadata": {},
     "output_type": "execute_result"
    }
   ],
   "source": [
    "X_smt.shape"
   ]
  },
  {
   "cell_type": "code",
   "execution_count": 104,
   "metadata": {
    "colab": {
     "base_uri": "https://localhost:8080/"
    },
    "id": "uV364gx5VCPB",
    "outputId": "84f55593-b33d-4fea-c177-c1d69756de31"
   },
   "outputs": [
    {
     "data": {
      "text/plain": [
       "0    8309\n",
       "1    3561\n",
       "Name: revenue, dtype: int64"
      ]
     },
     "execution_count": 104,
     "metadata": {},
     "output_type": "execute_result"
    }
   ],
   "source": [
    "y_smt.value_counts()"
   ]
  },
  {
   "cell_type": "code",
   "execution_count": 105,
   "metadata": {
    "id": "hKXwBaR_VH5y"
   },
   "outputs": [],
   "source": [
    "trainpred=model.predict(X_smt)\n",
    "testpred=model.predict(Xtest)"
   ]
  },
  {
   "cell_type": "code",
   "execution_count": 106,
   "metadata": {
    "colab": {
     "base_uri": "https://localhost:8080/"
    },
    "id": "TRSYiKSIVUnq",
    "outputId": "227155a2-2cfe-43f7-ed90-dbb6d7df47b4"
   },
   "outputs": [
    {
     "name": "stdout",
     "output_type": "stream",
     "text": [
      "AUC :  0.8541\n",
      "accuracy :  0.8804\n",
      "recall:  0.7885\n",
      "precision :  0.8081\n",
      "f1 :  0.7982\n"
     ]
    }
   ],
   "source": [
    "printresults(y_smt,trainpred)"
   ]
  },
  {
   "cell_type": "code",
   "execution_count": 107,
   "metadata": {
    "colab": {
     "base_uri": "https://localhost:8080/"
    },
    "id": "Z-mP4hQzVY3S",
    "outputId": "d21287f0-fde1-4e03-da7d-aaa2a8468883"
   },
   "outputs": [
    {
     "name": "stdout",
     "output_type": "stream",
     "text": [
      "\n",
      "Test confusion_matrix\n"
     ]
    },
    {
     "data": {
      "text/plain": [
       "Text(33.0, 0.5, 'True')"
      ]
     },
     "execution_count": 107,
     "metadata": {},
     "output_type": "execute_result"
    },
    {
     "data": {
      "image/png": "[encoded data removed]",
      "text/plain": [
       "<Figure size 432x288 with 2 Axes>"
      ]
     },
     "metadata": {
      "needs_background": "light"
     },
     "output_type": "display_data"
    }
   ],
   "source": [
    "\n",
    "cf_matrix = metrics.confusion_matrix(y_smt,trainpred)\n",
    "print(\"\\nTest confusion_matrix\")\n",
    "sns.heatmap(cf_matrix, annot=True, cmap='Blues')\n",
    "plt.xlabel('Predicted', fontsize=12)\n",
    "plt.ylabel('True', fontsize=12)"
   ]
  },
  {
   "cell_type": "code",
   "execution_count": 108,
   "metadata": {
    "colab": {
     "base_uri": "https://localhost:8080/"
    },
    "id": "GAnTAhIpVmHS",
    "outputId": "cac0d65b-2baa-482b-be41-1e76bcb78c2e"
   },
   "outputs": [
    {
     "name": "stdout",
     "output_type": "stream",
     "text": [
      "AUC :  0.8048\n",
      "accuracy :  0.8892\n",
      "recall:  0.6849\n",
      "precision :  0.6127\n",
      "f1 :  0.6468\n"
     ]
    }
   ],
   "source": [
    "printresults(Ytest,testpred)"
   ]
  },
  {
   "cell_type": "code",
   "execution_count": 109,
   "metadata": {
    "colab": {
     "base_uri": "https://localhost:8080/"
    },
    "id": "KKEwUqaAVrQm",
    "outputId": "ecc705e3-ab17-4052-e9cc-dd2b81af879b"
   },
   "outputs": [
    {
     "name": "stdout",
     "output_type": "stream",
     "text": [
      "\n",
      "Test confusion_matrix\n"
     ]
    },
    {
     "data": {
      "text/plain": [
       "Text(33.0, 0.5, 'True')"
      ]
     },
     "execution_count": 109,
     "metadata": {},
     "output_type": "execute_result"
    },
    {
     "data": {
      "image/png": "[encoded data removed]",
      "text/plain": [
       "<Figure size 432x288 with 2 Axes>"
      ]
     },
     "metadata": {
      "needs_background": "light"
     },
     "output_type": "display_data"
    }
   ],
   "source": [
    "metrics.confusion_matrix(Ytest,testpred)\n",
    "cf_matrix = metrics.confusion_matrix(Ytest,testpred)\n",
    "print(\"\\nTest confusion_matrix\")\n",
    "sns.heatmap(cf_matrix, annot=True, cmap='Blues')\n",
    "plt.xlabel('Predicted', fontsize=12)\n",
    "plt.ylabel('True', fontsize=12)"
   ]
  },
  {
   "cell_type": "code",
   "execution_count": null,
   "metadata": {},
   "outputs": [],
   "source": []
  },
  {
   "cell_type": "code",
   "execution_count": null,
   "metadata": {},
   "outputs": [],
   "source": []
  }
 ],
 "metadata": {
  "colab": {
   "collapsed_sections": [],
   "name": "CustomerIntention_DecisionTree.ipynb",
   "provenance": []
  },
  "kernelspec": {
   "display_name": "Python 3",
   "language": "python",
   "name": "python3"
  },
  "language_info": {
   "codemirror_mode": {
    "name": "ipython",
    "version": 3
   },
   "file_extension": ".py",
   "mimetype": "text/x-python",
   "name": "python",
   "nbconvert_exporter": "python",
   "pygments_lexer": "ipython3",
   "version": "3.8.8"
  }
 },
 "nbformat": 4,
 "nbformat_minor": 1
}
