{
 "cells": [
  {
   "cell_type": "code",
   "execution_count": 3,
   "metadata": {
    "id": "jWK-hUgZfbbF"
   },
   "outputs": [],
   "source": [
    "import matplotlib.pyplot as plt\n",
    "import numpy as np\n",
    "import pandas as pd\n",
    "import seaborn as sns\n",
    "import warnings\n",
    "warnings.filterwarnings(\"ignore\")\n",
    "from sklearn import model_selection # for train test split\n",
    "from sklearn import preprocessing # for scaling"
   ]
  },
  {
   "cell_type": "code",
   "execution_count": 4,
   "metadata": {
    "id": "X-k5bjV2f-uO"
   },
   "outputs": [],
   "source": [
    "df=pd.read_csv(\"shopintention.csv\")"
   ]
  },
  {
   "cell_type": "code",
   "execution_count": 5,
   "metadata": {
    "colab": {
     "base_uri": "https://localhost:8080/",
     "height": 427
    },
    "id": "vAz_NmHEf_ut",
    "outputId": "55ab1a66-85e5-4d62-f3ee-2f4b2b93e268"
   },
   "outputs": [
    {
     "data": {
      "text/html": [
       "<div>\n",
       "<style scoped>\n",
       "    .dataframe tbody tr th:only-of-type {\n",
       "        vertical-align: middle;\n",
       "    }\n",
       "\n",
       "    .dataframe tbody tr th {\n",
       "        vertical-align: top;\n",
       "    }\n",
       "\n",
       "    .dataframe thead th {\n",
       "        text-align: right;\n",
       "    }\n",
       "</style>\n",
       "<table border=\"1\" class=\"dataframe\">\n",
       "  <thead>\n",
       "    <tr style=\"text-align: right;\">\n",
       "      <th></th>\n",
       "      <th>Administrative</th>\n",
       "      <th>Administrative_Duration</th>\n",
       "      <th>Informational</th>\n",
       "      <th>Informational_Duration</th>\n",
       "      <th>ProductRelated</th>\n",
       "      <th>ProductRelated_Duration</th>\n",
       "      <th>BounceRates</th>\n",
       "      <th>ExitRates</th>\n",
       "      <th>PageValues</th>\n",
       "      <th>SpecialDay</th>\n",
       "      <th>Month</th>\n",
       "      <th>OperatingSystems</th>\n",
       "      <th>Browser</th>\n",
       "      <th>Region</th>\n",
       "      <th>TrafficType</th>\n",
       "      <th>VisitorType</th>\n",
       "      <th>Weekend</th>\n",
       "      <th>Revenue</th>\n",
       "    </tr>\n",
       "  </thead>\n",
       "  <tbody>\n",
       "    <tr>\n",
       "      <th>0</th>\n",
       "      <td>0.0</td>\n",
       "      <td>0.0</td>\n",
       "      <td>0.0</td>\n",
       "      <td>0.0</td>\n",
       "      <td>1.0</td>\n",
       "      <td>0.000000</td>\n",
       "      <td>0.200000</td>\n",
       "      <td>0.200000</td>\n",
       "      <td>0.0</td>\n",
       "      <td>0.0</td>\n",
       "      <td>Feb</td>\n",
       "      <td>1</td>\n",
       "      <td>1</td>\n",
       "      <td>1</td>\n",
       "      <td>1</td>\n",
       "      <td>Returning_Visitor</td>\n",
       "      <td>False</td>\n",
       "      <td>False</td>\n",
       "    </tr>\n",
       "    <tr>\n",
       "      <th>1</th>\n",
       "      <td>0.0</td>\n",
       "      <td>0.0</td>\n",
       "      <td>0.0</td>\n",
       "      <td>0.0</td>\n",
       "      <td>2.0</td>\n",
       "      <td>64.000000</td>\n",
       "      <td>0.000000</td>\n",
       "      <td>0.100000</td>\n",
       "      <td>0.0</td>\n",
       "      <td>0.0</td>\n",
       "      <td>Feb</td>\n",
       "      <td>2</td>\n",
       "      <td>2</td>\n",
       "      <td>1</td>\n",
       "      <td>2</td>\n",
       "      <td>Returning_Visitor</td>\n",
       "      <td>False</td>\n",
       "      <td>False</td>\n",
       "    </tr>\n",
       "    <tr>\n",
       "      <th>2</th>\n",
       "      <td>0.0</td>\n",
       "      <td>-1.0</td>\n",
       "      <td>0.0</td>\n",
       "      <td>-1.0</td>\n",
       "      <td>1.0</td>\n",
       "      <td>-1.000000</td>\n",
       "      <td>0.200000</td>\n",
       "      <td>0.200000</td>\n",
       "      <td>0.0</td>\n",
       "      <td>0.0</td>\n",
       "      <td>Feb</td>\n",
       "      <td>4</td>\n",
       "      <td>1</td>\n",
       "      <td>9</td>\n",
       "      <td>3</td>\n",
       "      <td>Returning_Visitor</td>\n",
       "      <td>False</td>\n",
       "      <td>False</td>\n",
       "    </tr>\n",
       "    <tr>\n",
       "      <th>3</th>\n",
       "      <td>0.0</td>\n",
       "      <td>0.0</td>\n",
       "      <td>0.0</td>\n",
       "      <td>0.0</td>\n",
       "      <td>2.0</td>\n",
       "      <td>2.666667</td>\n",
       "      <td>0.050000</td>\n",
       "      <td>0.140000</td>\n",
       "      <td>0.0</td>\n",
       "      <td>0.0</td>\n",
       "      <td>Feb</td>\n",
       "      <td>3</td>\n",
       "      <td>2</td>\n",
       "      <td>2</td>\n",
       "      <td>4</td>\n",
       "      <td>Returning_Visitor</td>\n",
       "      <td>False</td>\n",
       "      <td>False</td>\n",
       "    </tr>\n",
       "    <tr>\n",
       "      <th>4</th>\n",
       "      <td>0.0</td>\n",
       "      <td>0.0</td>\n",
       "      <td>0.0</td>\n",
       "      <td>0.0</td>\n",
       "      <td>10.0</td>\n",
       "      <td>627.500000</td>\n",
       "      <td>0.020000</td>\n",
       "      <td>0.050000</td>\n",
       "      <td>0.0</td>\n",
       "      <td>0.0</td>\n",
       "      <td>Feb</td>\n",
       "      <td>3</td>\n",
       "      <td>3</td>\n",
       "      <td>1</td>\n",
       "      <td>4</td>\n",
       "      <td>Returning_Visitor</td>\n",
       "      <td>True</td>\n",
       "      <td>False</td>\n",
       "    </tr>\n",
       "    <tr>\n",
       "      <th>5</th>\n",
       "      <td>0.0</td>\n",
       "      <td>0.0</td>\n",
       "      <td>0.0</td>\n",
       "      <td>0.0</td>\n",
       "      <td>19.0</td>\n",
       "      <td>154.216667</td>\n",
       "      <td>0.015789</td>\n",
       "      <td>0.024561</td>\n",
       "      <td>0.0</td>\n",
       "      <td>0.0</td>\n",
       "      <td>Feb</td>\n",
       "      <td>2</td>\n",
       "      <td>2</td>\n",
       "      <td>1</td>\n",
       "      <td>3</td>\n",
       "      <td>Returning_Visitor</td>\n",
       "      <td>False</td>\n",
       "      <td>False</td>\n",
       "    </tr>\n",
       "    <tr>\n",
       "      <th>6</th>\n",
       "      <td>0.0</td>\n",
       "      <td>-1.0</td>\n",
       "      <td>0.0</td>\n",
       "      <td>-1.0</td>\n",
       "      <td>1.0</td>\n",
       "      <td>-1.000000</td>\n",
       "      <td>0.200000</td>\n",
       "      <td>0.200000</td>\n",
       "      <td>0.0</td>\n",
       "      <td>0.4</td>\n",
       "      <td>Feb</td>\n",
       "      <td>2</td>\n",
       "      <td>4</td>\n",
       "      <td>3</td>\n",
       "      <td>3</td>\n",
       "      <td>Returning_Visitor</td>\n",
       "      <td>False</td>\n",
       "      <td>False</td>\n",
       "    </tr>\n",
       "    <tr>\n",
       "      <th>7</th>\n",
       "      <td>1.0</td>\n",
       "      <td>-1.0</td>\n",
       "      <td>0.0</td>\n",
       "      <td>-1.0</td>\n",
       "      <td>1.0</td>\n",
       "      <td>-1.000000</td>\n",
       "      <td>0.200000</td>\n",
       "      <td>0.200000</td>\n",
       "      <td>0.0</td>\n",
       "      <td>0.0</td>\n",
       "      <td>Feb</td>\n",
       "      <td>1</td>\n",
       "      <td>2</td>\n",
       "      <td>1</td>\n",
       "      <td>5</td>\n",
       "      <td>Returning_Visitor</td>\n",
       "      <td>True</td>\n",
       "      <td>False</td>\n",
       "    </tr>\n",
       "    <tr>\n",
       "      <th>8</th>\n",
       "      <td>0.0</td>\n",
       "      <td>0.0</td>\n",
       "      <td>0.0</td>\n",
       "      <td>0.0</td>\n",
       "      <td>2.0</td>\n",
       "      <td>37.000000</td>\n",
       "      <td>0.000000</td>\n",
       "      <td>0.100000</td>\n",
       "      <td>0.0</td>\n",
       "      <td>0.8</td>\n",
       "      <td>Feb</td>\n",
       "      <td>2</td>\n",
       "      <td>2</td>\n",
       "      <td>2</td>\n",
       "      <td>3</td>\n",
       "      <td>Returning_Visitor</td>\n",
       "      <td>False</td>\n",
       "      <td>False</td>\n",
       "    </tr>\n",
       "    <tr>\n",
       "      <th>9</th>\n",
       "      <td>0.0</td>\n",
       "      <td>0.0</td>\n",
       "      <td>0.0</td>\n",
       "      <td>0.0</td>\n",
       "      <td>3.0</td>\n",
       "      <td>738.000000</td>\n",
       "      <td>0.000000</td>\n",
       "      <td>0.022222</td>\n",
       "      <td>0.0</td>\n",
       "      <td>0.4</td>\n",
       "      <td>Feb</td>\n",
       "      <td>2</td>\n",
       "      <td>4</td>\n",
       "      <td>1</td>\n",
       "      <td>2</td>\n",
       "      <td>Returning_Visitor</td>\n",
       "      <td>False</td>\n",
       "      <td>False</td>\n",
       "    </tr>\n",
       "  </tbody>\n",
       "</table>\n",
       "</div>"
      ],
      "text/plain": [
       "   Administrative  Administrative_Duration  Informational  \\\n",
       "0             0.0                      0.0            0.0   \n",
       "1             0.0                      0.0            0.0   \n",
       "2             0.0                     -1.0            0.0   \n",
       "3             0.0                      0.0            0.0   \n",
       "4             0.0                      0.0            0.0   \n",
       "5             0.0                      0.0            0.0   \n",
       "6             0.0                     -1.0            0.0   \n",
       "7             1.0                     -1.0            0.0   \n",
       "8             0.0                      0.0            0.0   \n",
       "9             0.0                      0.0            0.0   \n",
       "\n",
       "   Informational_Duration  ProductRelated  ProductRelated_Duration  \\\n",
       "0                     0.0             1.0                 0.000000   \n",
       "1                     0.0             2.0                64.000000   \n",
       "2                    -1.0             1.0                -1.000000   \n",
       "3                     0.0             2.0                 2.666667   \n",
       "4                     0.0            10.0               627.500000   \n",
       "5                     0.0            19.0               154.216667   \n",
       "6                    -1.0             1.0                -1.000000   \n",
       "7                    -1.0             1.0                -1.000000   \n",
       "8                     0.0             2.0                37.000000   \n",
       "9                     0.0             3.0               738.000000   \n",
       "\n",
       "   BounceRates  ExitRates  PageValues  SpecialDay Month  OperatingSystems  \\\n",
       "0     0.200000   0.200000         0.0         0.0   Feb                 1   \n",
       "1     0.000000   0.100000         0.0         0.0   Feb                 2   \n",
       "2     0.200000   0.200000         0.0         0.0   Feb                 4   \n",
       "3     0.050000   0.140000         0.0         0.0   Feb                 3   \n",
       "4     0.020000   0.050000         0.0         0.0   Feb                 3   \n",
       "5     0.015789   0.024561         0.0         0.0   Feb                 2   \n",
       "6     0.200000   0.200000         0.0         0.4   Feb                 2   \n",
       "7     0.200000   0.200000         0.0         0.0   Feb                 1   \n",
       "8     0.000000   0.100000         0.0         0.8   Feb                 2   \n",
       "9     0.000000   0.022222         0.0         0.4   Feb                 2   \n",
       "\n",
       "   Browser  Region  TrafficType        VisitorType  Weekend  Revenue  \n",
       "0        1       1            1  Returning_Visitor    False    False  \n",
       "1        2       1            2  Returning_Visitor    False    False  \n",
       "2        1       9            3  Returning_Visitor    False    False  \n",
       "3        2       2            4  Returning_Visitor    False    False  \n",
       "4        3       1            4  Returning_Visitor     True    False  \n",
       "5        2       1            3  Returning_Visitor    False    False  \n",
       "6        4       3            3  Returning_Visitor    False    False  \n",
       "7        2       1            5  Returning_Visitor     True    False  \n",
       "8        2       2            3  Returning_Visitor    False    False  \n",
       "9        4       1            2  Returning_Visitor    False    False  "
      ]
     },
     "execution_count": 5,
     "metadata": {},
     "output_type": "execute_result"
    }
   ],
   "source": [
    "df.head(10) #peek at the dataset"
   ]
  },
  {
   "cell_type": "code",
   "execution_count": 6,
   "metadata": {
    "id": "HbtLhI79gDuc"
   },
   "outputs": [],
   "source": [
    "#renaming the columns\n",
    "names=[\"admin\",\"admin_dur\",\"info\",\"info_dur\",\"prodrel\",\"prodrel_dur\",\"brate\",\"erate\",\"pagev\",\"sday\",\"month\",\"os\",\"browser\",\"region\",\"ttype\",\"vtype\",\"weekend\",\"revenue\"]\n"
   ]
  },
  {
   "cell_type": "code",
   "execution_count": 7,
   "metadata": {
    "id": "X5wxt8rcgbt5"
   },
   "outputs": [],
   "source": [
    "df.columns=names\n",
    "index=df.columns[df.isna().any(axis=0)]\n",
    "dict={}\n",
    "for i in index:\n",
    "    temp=df[i].isna().astype(int).sum()\n",
    "    dict[i]=[temp/df.shape[0],temp]"
   ]
  },
  {
   "cell_type": "code",
   "execution_count": 8,
   "metadata": {
    "colab": {
     "base_uri": "https://localhost:8080/"
    },
    "id": "XRknKYcqgquW",
    "outputId": "a73222a5-4110-454d-8004-cc901b4a62be"
   },
   "outputs": [
    {
     "data": {
      "text/plain": [
       "{'admin': [0.0011354420113544202, 14],\n",
       " 'admin_dur': [0.0011354420113544202, 14],\n",
       " 'info': [0.0011354420113544202, 14],\n",
       " 'info_dur': [0.0011354420113544202, 14],\n",
       " 'prodrel': [0.0011354420113544202, 14],\n",
       " 'prodrel_dur': [0.0011354420113544202, 14],\n",
       " 'brate': [0.0011354420113544202, 14],\n",
       " 'erate': [0.0011354420113544202, 14]}"
      ]
     },
     "execution_count": 8,
     "metadata": {},
     "output_type": "execute_result"
    }
   ],
   "source": [
    "dict"
   ]
  },
  {
   "cell_type": "code",
   "execution_count": 9,
   "metadata": {
    "colab": {
     "base_uri": "https://localhost:8080/",
     "height": 488
    },
    "id": "J5bIkoYPg-hd",
    "outputId": "8b7889bf-3dd3-44cc-bb69-e986a670415e"
   },
   "outputs": [
    {
     "data": {
      "text/html": [
       "<div>\n",
       "<style scoped>\n",
       "    .dataframe tbody tr th:only-of-type {\n",
       "        vertical-align: middle;\n",
       "    }\n",
       "\n",
       "    .dataframe tbody tr th {\n",
       "        vertical-align: top;\n",
       "    }\n",
       "\n",
       "    .dataframe thead th {\n",
       "        text-align: right;\n",
       "    }\n",
       "</style>\n",
       "<table border=\"1\" class=\"dataframe\">\n",
       "  <thead>\n",
       "    <tr style=\"text-align: right;\">\n",
       "      <th></th>\n",
       "      <th>admin</th>\n",
       "      <th>admin_dur</th>\n",
       "      <th>info</th>\n",
       "      <th>info_dur</th>\n",
       "      <th>prodrel</th>\n",
       "      <th>prodrel_dur</th>\n",
       "      <th>brate</th>\n",
       "      <th>erate</th>\n",
       "      <th>pagev</th>\n",
       "      <th>sday</th>\n",
       "      <th>month</th>\n",
       "      <th>os</th>\n",
       "      <th>browser</th>\n",
       "      <th>region</th>\n",
       "      <th>ttype</th>\n",
       "      <th>vtype</th>\n",
       "      <th>weekend</th>\n",
       "      <th>revenue</th>\n",
       "    </tr>\n",
       "  </thead>\n",
       "  <tbody>\n",
       "    <tr>\n",
       "      <th>1065</th>\n",
       "      <td>NaN</td>\n",
       "      <td>NaN</td>\n",
       "      <td>NaN</td>\n",
       "      <td>NaN</td>\n",
       "      <td>NaN</td>\n",
       "      <td>NaN</td>\n",
       "      <td>NaN</td>\n",
       "      <td>NaN</td>\n",
       "      <td>0.0</td>\n",
       "      <td>0.0</td>\n",
       "      <td>Mar</td>\n",
       "      <td>2</td>\n",
       "      <td>2</td>\n",
       "      <td>2</td>\n",
       "      <td>1</td>\n",
       "      <td>Returning_Visitor</td>\n",
       "      <td>False</td>\n",
       "      <td>False</td>\n",
       "    </tr>\n",
       "    <tr>\n",
       "      <th>1132</th>\n",
       "      <td>NaN</td>\n",
       "      <td>NaN</td>\n",
       "      <td>NaN</td>\n",
       "      <td>NaN</td>\n",
       "      <td>NaN</td>\n",
       "      <td>NaN</td>\n",
       "      <td>NaN</td>\n",
       "      <td>NaN</td>\n",
       "      <td>0.0</td>\n",
       "      <td>0.0</td>\n",
       "      <td>Mar</td>\n",
       "      <td>1</td>\n",
       "      <td>1</td>\n",
       "      <td>1</td>\n",
       "      <td>2</td>\n",
       "      <td>Returning_Visitor</td>\n",
       "      <td>False</td>\n",
       "      <td>False</td>\n",
       "    </tr>\n",
       "    <tr>\n",
       "      <th>1133</th>\n",
       "      <td>NaN</td>\n",
       "      <td>NaN</td>\n",
       "      <td>NaN</td>\n",
       "      <td>NaN</td>\n",
       "      <td>NaN</td>\n",
       "      <td>NaN</td>\n",
       "      <td>NaN</td>\n",
       "      <td>NaN</td>\n",
       "      <td>0.0</td>\n",
       "      <td>0.0</td>\n",
       "      <td>Mar</td>\n",
       "      <td>2</td>\n",
       "      <td>4</td>\n",
       "      <td>5</td>\n",
       "      <td>1</td>\n",
       "      <td>Returning_Visitor</td>\n",
       "      <td>False</td>\n",
       "      <td>False</td>\n",
       "    </tr>\n",
       "    <tr>\n",
       "      <th>1134</th>\n",
       "      <td>NaN</td>\n",
       "      <td>NaN</td>\n",
       "      <td>NaN</td>\n",
       "      <td>NaN</td>\n",
       "      <td>NaN</td>\n",
       "      <td>NaN</td>\n",
       "      <td>NaN</td>\n",
       "      <td>NaN</td>\n",
       "      <td>0.0</td>\n",
       "      <td>0.0</td>\n",
       "      <td>Mar</td>\n",
       "      <td>2</td>\n",
       "      <td>2</td>\n",
       "      <td>1</td>\n",
       "      <td>2</td>\n",
       "      <td>Returning_Visitor</td>\n",
       "      <td>False</td>\n",
       "      <td>False</td>\n",
       "    </tr>\n",
       "    <tr>\n",
       "      <th>1135</th>\n",
       "      <td>NaN</td>\n",
       "      <td>NaN</td>\n",
       "      <td>NaN</td>\n",
       "      <td>NaN</td>\n",
       "      <td>NaN</td>\n",
       "      <td>NaN</td>\n",
       "      <td>NaN</td>\n",
       "      <td>NaN</td>\n",
       "      <td>0.0</td>\n",
       "      <td>0.0</td>\n",
       "      <td>Mar</td>\n",
       "      <td>3</td>\n",
       "      <td>2</td>\n",
       "      <td>1</td>\n",
       "      <td>1</td>\n",
       "      <td>Returning_Visitor</td>\n",
       "      <td>False</td>\n",
       "      <td>False</td>\n",
       "    </tr>\n",
       "    <tr>\n",
       "      <th>1136</th>\n",
       "      <td>NaN</td>\n",
       "      <td>NaN</td>\n",
       "      <td>NaN</td>\n",
       "      <td>NaN</td>\n",
       "      <td>NaN</td>\n",
       "      <td>NaN</td>\n",
       "      <td>NaN</td>\n",
       "      <td>NaN</td>\n",
       "      <td>0.0</td>\n",
       "      <td>0.0</td>\n",
       "      <td>Mar</td>\n",
       "      <td>2</td>\n",
       "      <td>2</td>\n",
       "      <td>1</td>\n",
       "      <td>2</td>\n",
       "      <td>Returning_Visitor</td>\n",
       "      <td>False</td>\n",
       "      <td>False</td>\n",
       "    </tr>\n",
       "    <tr>\n",
       "      <th>1473</th>\n",
       "      <td>NaN</td>\n",
       "      <td>NaN</td>\n",
       "      <td>NaN</td>\n",
       "      <td>NaN</td>\n",
       "      <td>NaN</td>\n",
       "      <td>NaN</td>\n",
       "      <td>NaN</td>\n",
       "      <td>NaN</td>\n",
       "      <td>0.0</td>\n",
       "      <td>0.0</td>\n",
       "      <td>Mar</td>\n",
       "      <td>2</td>\n",
       "      <td>2</td>\n",
       "      <td>1</td>\n",
       "      <td>1</td>\n",
       "      <td>Returning_Visitor</td>\n",
       "      <td>True</td>\n",
       "      <td>False</td>\n",
       "    </tr>\n",
       "    <tr>\n",
       "      <th>1474</th>\n",
       "      <td>NaN</td>\n",
       "      <td>NaN</td>\n",
       "      <td>NaN</td>\n",
       "      <td>NaN</td>\n",
       "      <td>NaN</td>\n",
       "      <td>NaN</td>\n",
       "      <td>NaN</td>\n",
       "      <td>NaN</td>\n",
       "      <td>0.0</td>\n",
       "      <td>0.0</td>\n",
       "      <td>Mar</td>\n",
       "      <td>1</td>\n",
       "      <td>1</td>\n",
       "      <td>6</td>\n",
       "      <td>1</td>\n",
       "      <td>Returning_Visitor</td>\n",
       "      <td>True</td>\n",
       "      <td>False</td>\n",
       "    </tr>\n",
       "    <tr>\n",
       "      <th>1475</th>\n",
       "      <td>NaN</td>\n",
       "      <td>NaN</td>\n",
       "      <td>NaN</td>\n",
       "      <td>NaN</td>\n",
       "      <td>NaN</td>\n",
       "      <td>NaN</td>\n",
       "      <td>NaN</td>\n",
       "      <td>NaN</td>\n",
       "      <td>0.0</td>\n",
       "      <td>0.0</td>\n",
       "      <td>Mar</td>\n",
       "      <td>2</td>\n",
       "      <td>2</td>\n",
       "      <td>3</td>\n",
       "      <td>1</td>\n",
       "      <td>Returning_Visitor</td>\n",
       "      <td>False</td>\n",
       "      <td>False</td>\n",
       "    </tr>\n",
       "    <tr>\n",
       "      <th>1476</th>\n",
       "      <td>NaN</td>\n",
       "      <td>NaN</td>\n",
       "      <td>NaN</td>\n",
       "      <td>NaN</td>\n",
       "      <td>NaN</td>\n",
       "      <td>NaN</td>\n",
       "      <td>NaN</td>\n",
       "      <td>NaN</td>\n",
       "      <td>0.0</td>\n",
       "      <td>0.0</td>\n",
       "      <td>Mar</td>\n",
       "      <td>1</td>\n",
       "      <td>1</td>\n",
       "      <td>2</td>\n",
       "      <td>3</td>\n",
       "      <td>Returning_Visitor</td>\n",
       "      <td>False</td>\n",
       "      <td>False</td>\n",
       "    </tr>\n",
       "    <tr>\n",
       "      <th>2037</th>\n",
       "      <td>NaN</td>\n",
       "      <td>NaN</td>\n",
       "      <td>NaN</td>\n",
       "      <td>NaN</td>\n",
       "      <td>NaN</td>\n",
       "      <td>NaN</td>\n",
       "      <td>NaN</td>\n",
       "      <td>NaN</td>\n",
       "      <td>0.0</td>\n",
       "      <td>0.0</td>\n",
       "      <td>Mar</td>\n",
       "      <td>3</td>\n",
       "      <td>2</td>\n",
       "      <td>4</td>\n",
       "      <td>1</td>\n",
       "      <td>Returning_Visitor</td>\n",
       "      <td>False</td>\n",
       "      <td>False</td>\n",
       "    </tr>\n",
       "    <tr>\n",
       "      <th>2038</th>\n",
       "      <td>NaN</td>\n",
       "      <td>NaN</td>\n",
       "      <td>NaN</td>\n",
       "      <td>NaN</td>\n",
       "      <td>NaN</td>\n",
       "      <td>NaN</td>\n",
       "      <td>NaN</td>\n",
       "      <td>NaN</td>\n",
       "      <td>0.0</td>\n",
       "      <td>0.0</td>\n",
       "      <td>Mar</td>\n",
       "      <td>2</td>\n",
       "      <td>2</td>\n",
       "      <td>1</td>\n",
       "      <td>2</td>\n",
       "      <td>Returning_Visitor</td>\n",
       "      <td>False</td>\n",
       "      <td>False</td>\n",
       "    </tr>\n",
       "    <tr>\n",
       "      <th>2039</th>\n",
       "      <td>NaN</td>\n",
       "      <td>NaN</td>\n",
       "      <td>NaN</td>\n",
       "      <td>NaN</td>\n",
       "      <td>NaN</td>\n",
       "      <td>NaN</td>\n",
       "      <td>NaN</td>\n",
       "      <td>NaN</td>\n",
       "      <td>0.0</td>\n",
       "      <td>0.0</td>\n",
       "      <td>Mar</td>\n",
       "      <td>3</td>\n",
       "      <td>2</td>\n",
       "      <td>4</td>\n",
       "      <td>15</td>\n",
       "      <td>Returning_Visitor</td>\n",
       "      <td>True</td>\n",
       "      <td>False</td>\n",
       "    </tr>\n",
       "    <tr>\n",
       "      <th>2753</th>\n",
       "      <td>NaN</td>\n",
       "      <td>NaN</td>\n",
       "      <td>NaN</td>\n",
       "      <td>NaN</td>\n",
       "      <td>NaN</td>\n",
       "      <td>NaN</td>\n",
       "      <td>NaN</td>\n",
       "      <td>NaN</td>\n",
       "      <td>0.0</td>\n",
       "      <td>0.0</td>\n",
       "      <td>May</td>\n",
       "      <td>2</td>\n",
       "      <td>2</td>\n",
       "      <td>4</td>\n",
       "      <td>13</td>\n",
       "      <td>Returning_Visitor</td>\n",
       "      <td>False</td>\n",
       "      <td>False</td>\n",
       "    </tr>\n",
       "  </tbody>\n",
       "</table>\n",
       "</div>"
      ],
      "text/plain": [
       "      admin  admin_dur  info  info_dur  prodrel  prodrel_dur  brate  erate  \\\n",
       "1065    NaN        NaN   NaN       NaN      NaN          NaN    NaN    NaN   \n",
       "1132    NaN        NaN   NaN       NaN      NaN          NaN    NaN    NaN   \n",
       "1133    NaN        NaN   NaN       NaN      NaN          NaN    NaN    NaN   \n",
       "1134    NaN        NaN   NaN       NaN      NaN          NaN    NaN    NaN   \n",
       "1135    NaN        NaN   NaN       NaN      NaN          NaN    NaN    NaN   \n",
       "1136    NaN        NaN   NaN       NaN      NaN          NaN    NaN    NaN   \n",
       "1473    NaN        NaN   NaN       NaN      NaN          NaN    NaN    NaN   \n",
       "1474    NaN        NaN   NaN       NaN      NaN          NaN    NaN    NaN   \n",
       "1475    NaN        NaN   NaN       NaN      NaN          NaN    NaN    NaN   \n",
       "1476    NaN        NaN   NaN       NaN      NaN          NaN    NaN    NaN   \n",
       "2037    NaN        NaN   NaN       NaN      NaN          NaN    NaN    NaN   \n",
       "2038    NaN        NaN   NaN       NaN      NaN          NaN    NaN    NaN   \n",
       "2039    NaN        NaN   NaN       NaN      NaN          NaN    NaN    NaN   \n",
       "2753    NaN        NaN   NaN       NaN      NaN          NaN    NaN    NaN   \n",
       "\n",
       "      pagev  sday month  os  browser  region  ttype              vtype  \\\n",
       "1065    0.0   0.0   Mar   2        2       2      1  Returning_Visitor   \n",
       "1132    0.0   0.0   Mar   1        1       1      2  Returning_Visitor   \n",
       "1133    0.0   0.0   Mar   2        4       5      1  Returning_Visitor   \n",
       "1134    0.0   0.0   Mar   2        2       1      2  Returning_Visitor   \n",
       "1135    0.0   0.0   Mar   3        2       1      1  Returning_Visitor   \n",
       "1136    0.0   0.0   Mar   2        2       1      2  Returning_Visitor   \n",
       "1473    0.0   0.0   Mar   2        2       1      1  Returning_Visitor   \n",
       "1474    0.0   0.0   Mar   1        1       6      1  Returning_Visitor   \n",
       "1475    0.0   0.0   Mar   2        2       3      1  Returning_Visitor   \n",
       "1476    0.0   0.0   Mar   1        1       2      3  Returning_Visitor   \n",
       "2037    0.0   0.0   Mar   3        2       4      1  Returning_Visitor   \n",
       "2038    0.0   0.0   Mar   2        2       1      2  Returning_Visitor   \n",
       "2039    0.0   0.0   Mar   3        2       4     15  Returning_Visitor   \n",
       "2753    0.0   0.0   May   2        2       4     13  Returning_Visitor   \n",
       "\n",
       "      weekend  revenue  \n",
       "1065    False    False  \n",
       "1132    False    False  \n",
       "1133    False    False  \n",
       "1134    False    False  \n",
       "1135    False    False  \n",
       "1136    False    False  \n",
       "1473     True    False  \n",
       "1474     True    False  \n",
       "1475    False    False  \n",
       "1476    False    False  \n",
       "2037    False    False  \n",
       "2038    False    False  \n",
       "2039     True    False  \n",
       "2753    False    False  "
      ]
     },
     "execution_count": 9,
     "metadata": {},
     "output_type": "execute_result"
    }
   ],
   "source": [
    "df.loc[df.isna().any(axis=1)]# checking the total number of rows affected by missing values"
   ]
  },
  {
   "cell_type": "code",
   "execution_count": 10,
   "metadata": {
    "colab": {
     "base_uri": "https://localhost:8080/"
    },
    "id": "MGSXGnsDhBk-",
    "outputId": "24bd6235-4cb8-4fc8-bb81-761055a2dde9"
   },
   "outputs": [
    {
     "name": "stdout",
     "output_type": "stream",
     "text": [
      "admin\n",
      "28 ####### [ 0.  1.  2.  4. 12.  3. 10.  6.  5.  9.  8. 16. 13. 11.  7. 18. 14. 17.\n",
      " 19. 15. nan 24. 22. 21. 20. 23. 27. 26.]\n",
      "===============================================================\n",
      "admin_dur\n",
      "3337 ####### [  0.         -1.         53.        ... 167.9107143 305.125\n",
      " 150.3571429]\n",
      "===============================================================\n",
      "info\n",
      "18 ####### [ 0.  1.  2.  4. 16.  5.  3. 14.  6. 12.  7. nan  9. 10.  8. 11. 24. 13.]\n",
      "===============================================================\n",
      "info_dur\n",
      "1260 ####### [  0.    -1.   120.   ... 547.75 368.25 211.25]\n",
      "===============================================================\n",
      "prodrel\n",
      "312 ####### [  1.   2.  10.  19.   3.  16.   7.   6.  23.  13.  20.   8.   5.  32.\n",
      "   4.  45.  14.  52.   9.  46.  15.  22.  11.  12.  36.  42.  27.  90.\n",
      "  18.  38.  17. 128.  25.  30.  21.  51.  26.  28.  31.  24.  50.  96.\n",
      "  49.  68.  98.  67.  55.  35.  37.  29.  34.  71.  63.  87.  40.  33.\n",
      "  54.  64.  75.  39. 111.  81.  61.  47.  44.  88. 149.  41.   0.  79.\n",
      "  66.  43. 258.  80.  62.  83. 173.  48.  58.  57.  56.  69.  82.  59.\n",
      " 109. 287.  53.  84.  78. 137. 113.  89.  65.  60.  nan 104. 129.  77.\n",
      "  74.  93.  76.  72. 194. 140. 110. 132. 115.  73. 328. 160.  86. 150.\n",
      "  95. 130. 151. 117. 124. 127. 125. 116. 105.  92. 157. 154. 220. 187.\n",
      " 112. 131. 159.  94. 204. 142. 206. 102. 313. 145.  85.  97. 198. 181.\n",
      " 126. 106. 101. 108. 119.  70. 122.  91. 276. 100. 291. 114. 172. 217.\n",
      " 141. 133. 156. 136. 180. 135. 195.  99. 362. 179. 118. 175. 148. 440.\n",
      " 103. 178. 184. 705. 134. 176. 146. 189. 120. 193. 222. 121. 107. 305.\n",
      " 199. 439. 223. 230. 280. 377. 310. 158. 486. 153. 139. 182. 221. 229.\n",
      " 216. 170. 202. 346. 274. 240. 162. 123. 211. 227. 168. 161. 429. 686.\n",
      " 167. 518. 256. 255. 358. 213. 191. 282. 155. 138. 246. 237. 271. 171.\n",
      " 414. 219. 262. 409. 243. 241. 197. 449. 143. 188. 391. 238. 152. 165.\n",
      " 293. 174. 584. 164. 311. 340. 250. 200. 385. 292. 232. 251. 517. 225.\n",
      " 169. 309. 235. 501. 224. 275. 318. 144. 397. 343. 245. 186. 337. 351.\n",
      " 166. 349. 423. 359. 163. 147. 264. 312. 226. 324. 266. 260. 338. 272.\n",
      " 534. 470. 207. 218. 326. 190. 304. 205. 233. 401. 177. 330. 286. 247.\n",
      " 357. 315. 231. 339. 283. 374. 248. 279. 281. 234. 261. 290. 336. 378.\n",
      " 254. 183. 210. 192.]\n",
      "===============================================================\n",
      "prodrel_dur\n",
      "9553 ####### [  0.    64.    -1.   ... 465.75 184.25 346.  ]\n",
      "===============================================================\n",
      "brate\n",
      "1873 ####### [0.2        0.         0.05       ... 0.00382775 0.00086956 0.01114899]\n",
      "===============================================================\n",
      "erate\n",
      "4778 ####### [0.2        0.1        0.14       ... 0.01276133 0.01395349 0.02903061]\n",
      "===============================================================\n",
      "pagev\n",
      "2704 ####### [ 0.         54.17976426 19.44707913 ... 78.81172527  3.68540082\n",
      " 12.24171745]\n",
      "===============================================================\n",
      "sday\n",
      "6 ####### [0.  0.4 0.8 1.  0.2 0.6]\n",
      "===============================================================\n",
      "month\n",
      "10 ####### ['Feb' 'Mar' 'May' 'Oct' 'June' 'Jul' 'Aug' 'Nov' 'Sep' 'Dec']\n",
      "===============================================================\n",
      "os\n",
      "8 ####### [1 2 4 3 7 6 8 5]\n",
      "===============================================================\n",
      "browser\n",
      "13 ####### [ 1  2  3  4  5  6  7 10  8  9 12 13 11]\n",
      "===============================================================\n",
      "region\n",
      "9 ####### [1 9 2 3 4 5 6 7 8]\n",
      "===============================================================\n",
      "ttype\n",
      "20 ####### [ 1  2  3  4  5  6  7  8  9 10 11 12 13 14 15 18 19 16 17 20]\n",
      "===============================================================\n",
      "vtype\n",
      "3 ####### ['Returning_Visitor' 'New_Visitor' 'Other']\n",
      "===============================================================\n",
      "weekend\n",
      "2 ####### [False  True]\n",
      "===============================================================\n",
      "revenue\n",
      "2 ####### [False  True]\n",
      "===============================================================\n"
     ]
    }
   ],
   "source": [
    "cont=[]\n",
    "for i in list(df.columns):\n",
    "    print(i)\n",
    "    print(len(df[i].unique()),\"#######\",df[i].unique())\n",
    "    if len(df[i].unique())>20:\n",
    "       cont.append(i)    ### making a list of continous variables\n",
    "    print(\"===============================================================\")\n",
    "cont.append('sday')"
   ]
  },
  {
   "cell_type": "code",
   "execution_count": 11,
   "metadata": {
    "colab": {
     "base_uri": "https://localhost:8080/"
    },
    "id": "winTJJrXhGle",
    "outputId": "e06cb78f-f87d-4cab-ea09-ba759111549f"
   },
   "outputs": [
    {
     "data": {
      "text/plain": [
       "0    0.845255\n",
       "1    0.154745\n",
       "Name: revenue, dtype: float64"
      ]
     },
     "execution_count": 11,
     "metadata": {},
     "output_type": "execute_result"
    }
   ],
   "source": [
    "df[\"revenue\"]=df[\"revenue\"].replace({False:0,True:1})#replacing True/False with 1/0 in the target variable\n",
    "df[\"revenue\"].value_counts()/df.shape[0]"
   ]
  },
  {
   "cell_type": "code",
   "execution_count": 12,
   "metadata": {
    "id": "rsAY-mjbhOPe"
   },
   "outputs": [],
   "source": [
    "cont.append('info')\n",
    "cat=[]\n",
    "for i in list(df.columns):\n",
    "    if i not in cont:\n",
    "        cat.append(i)#amking a list of categorical random variables\n",
    "cat=cat[:-1]"
   ]
  },
  {
   "cell_type": "code",
   "execution_count": 13,
   "metadata": {
    "colab": {
     "base_uri": "https://localhost:8080/"
    },
    "id": "aAqWEwLEhSGd",
    "outputId": "c459b289-b0d1-445e-c5eb-178e5150a1a9"
   },
   "outputs": [
    {
     "name": "stdout",
     "output_type": "stream",
     "text": [
      "['month', 'os', 'browser', 'region', 'ttype', 'vtype', 'weekend']\n"
     ]
    }
   ],
   "source": [
    "print(cat)"
   ]
  },
  {
   "cell_type": "code",
   "execution_count": 14,
   "metadata": {
    "colab": {
     "base_uri": "https://localhost:8080/"
    },
    "id": "8WtEkSFNhXCO",
    "outputId": "88a5370e-0e2a-4734-f24f-cf8404f466ba"
   },
   "outputs": [
    {
     "name": "stdout",
     "output_type": "stream",
     "text": [
      "['admin', 'admin_dur', 'info_dur', 'prodrel', 'prodrel_dur', 'brate', 'erate', 'pagev', 'sday', 'info']\n"
     ]
    }
   ],
   "source": [
    "print(cont)"
   ]
  },
  {
   "cell_type": "code",
   "execution_count": 15,
   "metadata": {
    "id": "X47pEYQ6hcBN"
   },
   "outputs": [],
   "source": [
    "### Dropping the missing values \n",
    "df1=df\n",
    "df1=df1.dropna()"
   ]
  },
  {
   "cell_type": "code",
   "execution_count": 16,
   "metadata": {
    "colab": {
     "base_uri": "https://localhost:8080/",
     "height": 269
    },
    "id": "lhVkehq-hetp",
    "outputId": "2ff72e0f-a862-4d1d-c9a2-d216c66f6c08"
   },
   "outputs": [
    {
     "data": {
      "text/plain": [
       "<AxesSubplot:ylabel='admin'>"
      ]
     },
     "execution_count": 16,
     "metadata": {},
     "output_type": "execute_result"
    },
    {
     "data": {
      "image/png": "[encoded data removed]",
      "text/plain": [
       "<Figure size 432x288 with 1 Axes>"
      ]
     },
     "metadata": {
      "needs_background": "light"
     },
     "output_type": "display_data"
    }
   ],
   "source": [
    "import matplotlib.pyplot as plt\n",
    "import seaborn as sns\n",
    "sns.boxplot(y=cont[0],data=df1)"
   ]
  },
  {
   "cell_type": "code",
   "execution_count": 17,
   "metadata": {
    "colab": {
     "base_uri": "https://localhost:8080/",
     "height": 269
    },
    "id": "DH3FJJofhfhk",
    "outputId": "8f4240ac-ccfd-4d97-8b6f-7826f680521e"
   },
   "outputs": [
    {
     "data": {
      "text/plain": [
       "<AxesSubplot:ylabel='admin_dur'>"
      ]
     },
     "execution_count": 17,
     "metadata": {},
     "output_type": "execute_result"
    },
    {
     "data": {
      "image/png": "[encoded data removed]",
      "text/plain": [
       "<Figure size 432x288 with 1 Axes>"
      ]
     },
     "metadata": {
      "needs_background": "light"
     },
     "output_type": "display_data"
    }
   ],
   "source": [
    "sns.boxplot(y=cont[1],data=df1)"
   ]
  },
  {
   "cell_type": "code",
   "execution_count": 18,
   "metadata": {
    "colab": {
     "base_uri": "https://localhost:8080/",
     "height": 269
    },
    "id": "49FM6sqphibu",
    "outputId": "e5fcfadc-7b6a-4f22-83a9-29b9fe0d564b"
   },
   "outputs": [
    {
     "data": {
      "text/plain": [
       "<AxesSubplot:ylabel='info_dur'>"
      ]
     },
     "execution_count": 18,
     "metadata": {},
     "output_type": "execute_result"
    },
    {
     "data": {
      "image/png": "[encoded data removed]",
      "text/plain": [
       "<Figure size 432x288 with 1 Axes>"
      ]
     },
     "metadata": {
      "needs_background": "light"
     },
     "output_type": "display_data"
    }
   ],
   "source": [
    "sns.boxplot(y=cont[2],data=df1)"
   ]
  },
  {
   "cell_type": "code",
   "execution_count": 19,
   "metadata": {
    "colab": {
     "base_uri": "https://localhost:8080/",
     "height": 269
    },
    "id": "zrsAV4HChmI-",
    "outputId": "0f39e2d8-3722-4400-e579-e8353109999d"
   },
   "outputs": [
    {
     "data": {
      "text/plain": [
       "<AxesSubplot:ylabel='prodrel'>"
      ]
     },
     "execution_count": 19,
     "metadata": {},
     "output_type": "execute_result"
    },
    {
     "data": {
      "image/png": "[encoded data removed]",
      "text/plain": [
       "<Figure size 432x288 with 1 Axes>"
      ]
     },
     "metadata": {
      "needs_background": "light"
     },
     "output_type": "display_data"
    }
   ],
   "source": [
    "sns.boxplot(y=cont[3],data=df1)"
   ]
  },
  {
   "cell_type": "code",
   "execution_count": 20,
   "metadata": {
    "colab": {
     "base_uri": "https://localhost:8080/",
     "height": 269
    },
    "id": "b5XUBTr6hmyu",
    "outputId": "5456e8c1-319b-42a5-a253-2617247e0a40"
   },
   "outputs": [
    {
     "data": {
      "text/plain": [
       "<AxesSubplot:ylabel='prodrel_dur'>"
      ]
     },
     "execution_count": 20,
     "metadata": {},
     "output_type": "execute_result"
    },
    {
     "data": {
      "image/png": "[encoded data removed]",
      "text/plain": [
       "<Figure size 432x288 with 1 Axes>"
      ]
     },
     "metadata": {
      "needs_background": "light"
     },
     "output_type": "display_data"
    }
   ],
   "source": [
    "sns.boxplot(y=cont[4],data=df1)"
   ]
  },
  {
   "cell_type": "code",
   "execution_count": 21,
   "metadata": {
    "colab": {
     "base_uri": "https://localhost:8080/",
     "height": 269
    },
    "id": "dwtnqG79h0xn",
    "outputId": "2cf53bff-fd47-4fa5-af5b-ab66b4642d26"
   },
   "outputs": [
    {
     "data": {
      "text/plain": [
       "<AxesSubplot:ylabel='pagev'>"
      ]
     },
     "execution_count": 21,
     "metadata": {},
     "output_type": "execute_result"
    },
    {
     "data": {
      "image/png": "[encoded data removed]",
      "text/plain": [
       "<Figure size 432x288 with 1 Axes>"
      ]
     },
     "metadata": {
      "needs_background": "light"
     },
     "output_type": "display_data"
    }
   ],
   "source": [
    "sns.boxplot(y=cont[7],data=df1)"
   ]
  },
  {
   "cell_type": "code",
   "execution_count": 22,
   "metadata": {
    "colab": {
     "base_uri": "https://localhost:8080/",
     "height": 269
    },
    "id": "id_nEPVrh1kO",
    "outputId": "d651ceb4-a762-4946-d452-fd8c0a42a170"
   },
   "outputs": [
    {
     "data": {
      "text/plain": [
       "<AxesSubplot:ylabel='erate'>"
      ]
     },
     "execution_count": 22,
     "metadata": {},
     "output_type": "execute_result"
    },
    {
     "data": {
      "image/png": "[encoded data removed]",
      "text/plain": [
       "<Figure size 432x288 with 1 Axes>"
      ]
     },
     "metadata": {
      "needs_background": "light"
     },
     "output_type": "display_data"
    }
   ],
   "source": [
    "sns.boxplot(y=cont[6],data=df1)"
   ]
  },
  {
   "cell_type": "code",
   "execution_count": 23,
   "metadata": {
    "colab": {
     "base_uri": "https://localhost:8080/",
     "height": 269
    },
    "id": "OLl7Rbg0h4Yn",
    "outputId": "c9f7767c-a8a5-40cc-acab-63783b242697"
   },
   "outputs": [
    {
     "data": {
      "text/plain": [
       "<AxesSubplot:ylabel='brate'>"
      ]
     },
     "execution_count": 23,
     "metadata": {},
     "output_type": "execute_result"
    },
    {
     "data": {
      "image/png": "[encoded data removed]",
      "text/plain": [
       "<Figure size 432x288 with 1 Axes>"
      ]
     },
     "metadata": {
      "needs_background": "light"
     },
     "output_type": "display_data"
    }
   ],
   "source": [
    "sns.boxplot(y=cont[5],data=df1)"
   ]
  },
  {
   "cell_type": "code",
   "execution_count": 24,
   "metadata": {
    "colab": {
     "base_uri": "https://localhost:8080/"
    },
    "id": "lnX1Zi3eh7HN",
    "outputId": "a5e27f46-eada-4917-8b80-c5bf5374b776"
   },
   "outputs": [
    {
     "data": {
      "text/plain": [
       "(12316, 18)"
      ]
     },
     "execution_count": 24,
     "metadata": {},
     "output_type": "execute_result"
    }
   ],
   "source": [
    "df1.shape#shape of the daaset after dropping missing values"
   ]
  },
  {
   "cell_type": "code",
   "execution_count": 25,
   "metadata": {
    "colab": {
     "base_uri": "https://localhost:8080/",
     "height": 122
    },
    "id": "9AP6CmdVh-UO",
    "outputId": "0982a0eb-3e62-427e-e0c8-75f7c472d7af"
   },
   "outputs": [
    {
     "data": {
      "text/plain": [
       "\"X_train=df1.iloc[:,:-1]\\n#X_train=pd.get_dummies(X_train,columns=cat,drop_first=True)\\n\\ny_train=df1['revenue']\\n\\n\\nX_train.loc[X_train.isna().any(axis=1)]\\n\\nfrom imblearn.over_sampling import SMOTE\\nsmote=SMOTE(sampling_strategy=0.7,random_state=10)\\nX_train, y_train = smote.fit_resample(X_train, y_train)\\n\\nX_train.loc[X_train.isna().any(axis=1)]\\n\\nX_train.shape\\n\\ny_train.shape\\n\\ntype(y_train)\\n\\nX_train.loc[y_train==0].shape[0]/X_train.shape[0]\\n\\nX_train.loc[y_train==1].shape[0]\\n\\nfrom imblearn.combine import SMOTETomek\\nsmk = SMOTETomek()\\nX_res,y_res=smk.fit_resample(X_train,y_train)\\n\\nX_train.loc[y_train==0].shape[0]\\n\\nX_train.loc[y_train==1].shape[0]\\n\\nfrom imblearn.under_sampling import TomekLinks\\n\\ntl = TomekLinks()\\nX_tl, y_tl = tl.fit_resample(X_train, y_train)\\n\\n\\nX_tl.loc[y_tl==0].shape[0]/X_tl.shape[0]\\n\\nX_tl.loc[y_tl==1].shape[0]/X_tl.shape[0]\""
      ]
     },
     "execution_count": 25,
     "metadata": {},
     "output_type": "execute_result"
    }
   ],
   "source": [
    "'''X_train=df1.iloc[:,:-1]\n",
    "#X_train=pd.get_dummies(X_train,columns=cat,drop_first=True)\n",
    "\n",
    "y_train=df1['revenue']\n",
    "\n",
    "\n",
    "X_train.loc[X_train.isna().any(axis=1)]\n",
    "\n",
    "from imblearn.over_sampling import SMOTE\n",
    "smote=SMOTE(sampling_strategy=0.7,random_state=10)\n",
    "X_train, y_train = smote.fit_resample(X_train, y_train)\n",
    "\n",
    "X_train.loc[X_train.isna().any(axis=1)]\n",
    "\n",
    "X_train.shape\n",
    "\n",
    "y_train.shape\n",
    "\n",
    "type(y_train)\n",
    "\n",
    "X_train.loc[y_train==0].shape[0]/X_train.shape[0]\n",
    "\n",
    "X_train.loc[y_train==1].shape[0]\n",
    "\n",
    "from imblearn.combine import SMOTETomek\n",
    "smk = SMOTETomek()\n",
    "X_res,y_res=smk.fit_resample(X_train,y_train)\n",
    "\n",
    "X_train.loc[y_train==0].shape[0]\n",
    "\n",
    "X_train.loc[y_train==1].shape[0]\n",
    "\n",
    "from imblearn.under_sampling import TomekLinks\n",
    "\n",
    "tl = TomekLinks()\n",
    "X_tl, y_tl = tl.fit_resample(X_train, y_train)\n",
    "\n",
    "\n",
    "X_tl.loc[y_tl==0].shape[0]/X_tl.shape[0]\n",
    "\n",
    "X_tl.loc[y_tl==1].shape[0]/X_tl.shape[0]'''"
   ]
  },
  {
   "cell_type": "code",
   "execution_count": 26,
   "metadata": {
    "id": "g9F1XnfjiEH2"
   },
   "outputs": [],
   "source": [
    "X=df1.iloc[:,:-1]\n",
    "X=pd.get_dummies(X,columns=cat,drop_first=True)#one hot encoding of categorical random variables\n",
    "y=df1['revenue']\n",
    "#Splitting the dataset into train and test\n",
    "Xtrain,Xtest,ytrain,ytest=model_selection.train_test_split(X,y,test_size=.2,random_state=20)"
   ]
  },
  {
   "cell_type": "code",
   "execution_count": 27,
   "metadata": {
    "colab": {
     "base_uri": "https://localhost:8080/"
    },
    "id": "KyWqwPGWiHhe",
    "outputId": "e09d509c-c9ae-479d-eac4-0f04bab513b3"
   },
   "outputs": [
    {
     "data": {
      "text/plain": [
       "(9852, 68)"
      ]
     },
     "execution_count": 27,
     "metadata": {},
     "output_type": "execute_result"
    }
   ],
   "source": [
    "Xtrain.shape"
   ]
  },
  {
   "cell_type": "code",
   "execution_count": 28,
   "metadata": {
    "id": "iTQlEHRDiJre"
   },
   "outputs": [
    {
     "data": {
      "text/html": [
       "<div>\n",
       "<style scoped>\n",
       "    .dataframe tbody tr th:only-of-type {\n",
       "        vertical-align: middle;\n",
       "    }\n",
       "\n",
       "    .dataframe tbody tr th {\n",
       "        vertical-align: top;\n",
       "    }\n",
       "\n",
       "    .dataframe thead th {\n",
       "        text-align: right;\n",
       "    }\n",
       "</style>\n",
       "<table border=\"1\" class=\"dataframe\">\n",
       "  <thead>\n",
       "    <tr style=\"text-align: right;\">\n",
       "      <th></th>\n",
       "      <th>admin</th>\n",
       "      <th>admin_dur</th>\n",
       "      <th>info</th>\n",
       "      <th>info_dur</th>\n",
       "      <th>prodrel</th>\n",
       "      <th>prodrel_dur</th>\n",
       "      <th>brate</th>\n",
       "      <th>erate</th>\n",
       "      <th>pagev</th>\n",
       "      <th>sday</th>\n",
       "      <th>...</th>\n",
       "      <th>ttype_14</th>\n",
       "      <th>ttype_15</th>\n",
       "      <th>ttype_16</th>\n",
       "      <th>ttype_17</th>\n",
       "      <th>ttype_18</th>\n",
       "      <th>ttype_19</th>\n",
       "      <th>ttype_20</th>\n",
       "      <th>vtype_Other</th>\n",
       "      <th>vtype_Returning_Visitor</th>\n",
       "      <th>weekend_True</th>\n",
       "    </tr>\n",
       "  </thead>\n",
       "  <tbody>\n",
       "    <tr>\n",
       "      <th>0</th>\n",
       "      <td>0.0</td>\n",
       "      <td>0.0</td>\n",
       "      <td>0.0</td>\n",
       "      <td>0.0</td>\n",
       "      <td>1.0</td>\n",
       "      <td>0.000000</td>\n",
       "      <td>0.200000</td>\n",
       "      <td>0.200000</td>\n",
       "      <td>0.000000</td>\n",
       "      <td>0.0</td>\n",
       "      <td>...</td>\n",
       "      <td>0</td>\n",
       "      <td>0</td>\n",
       "      <td>0</td>\n",
       "      <td>0</td>\n",
       "      <td>0</td>\n",
       "      <td>0</td>\n",
       "      <td>0</td>\n",
       "      <td>0</td>\n",
       "      <td>1</td>\n",
       "      <td>0</td>\n",
       "    </tr>\n",
       "    <tr>\n",
       "      <th>1</th>\n",
       "      <td>0.0</td>\n",
       "      <td>0.0</td>\n",
       "      <td>0.0</td>\n",
       "      <td>0.0</td>\n",
       "      <td>2.0</td>\n",
       "      <td>64.000000</td>\n",
       "      <td>0.000000</td>\n",
       "      <td>0.100000</td>\n",
       "      <td>0.000000</td>\n",
       "      <td>0.0</td>\n",
       "      <td>...</td>\n",
       "      <td>0</td>\n",
       "      <td>0</td>\n",
       "      <td>0</td>\n",
       "      <td>0</td>\n",
       "      <td>0</td>\n",
       "      <td>0</td>\n",
       "      <td>0</td>\n",
       "      <td>0</td>\n",
       "      <td>1</td>\n",
       "      <td>0</td>\n",
       "    </tr>\n",
       "    <tr>\n",
       "      <th>2</th>\n",
       "      <td>0.0</td>\n",
       "      <td>-1.0</td>\n",
       "      <td>0.0</td>\n",
       "      <td>-1.0</td>\n",
       "      <td>1.0</td>\n",
       "      <td>-1.000000</td>\n",
       "      <td>0.200000</td>\n",
       "      <td>0.200000</td>\n",
       "      <td>0.000000</td>\n",
       "      <td>0.0</td>\n",
       "      <td>...</td>\n",
       "      <td>0</td>\n",
       "      <td>0</td>\n",
       "      <td>0</td>\n",
       "      <td>0</td>\n",
       "      <td>0</td>\n",
       "      <td>0</td>\n",
       "      <td>0</td>\n",
       "      <td>0</td>\n",
       "      <td>1</td>\n",
       "      <td>0</td>\n",
       "    </tr>\n",
       "    <tr>\n",
       "      <th>3</th>\n",
       "      <td>0.0</td>\n",
       "      <td>0.0</td>\n",
       "      <td>0.0</td>\n",
       "      <td>0.0</td>\n",
       "      <td>2.0</td>\n",
       "      <td>2.666667</td>\n",
       "      <td>0.050000</td>\n",
       "      <td>0.140000</td>\n",
       "      <td>0.000000</td>\n",
       "      <td>0.0</td>\n",
       "      <td>...</td>\n",
       "      <td>0</td>\n",
       "      <td>0</td>\n",
       "      <td>0</td>\n",
       "      <td>0</td>\n",
       "      <td>0</td>\n",
       "      <td>0</td>\n",
       "      <td>0</td>\n",
       "      <td>0</td>\n",
       "      <td>1</td>\n",
       "      <td>0</td>\n",
       "    </tr>\n",
       "    <tr>\n",
       "      <th>4</th>\n",
       "      <td>0.0</td>\n",
       "      <td>0.0</td>\n",
       "      <td>0.0</td>\n",
       "      <td>0.0</td>\n",
       "      <td>10.0</td>\n",
       "      <td>627.500000</td>\n",
       "      <td>0.020000</td>\n",
       "      <td>0.050000</td>\n",
       "      <td>0.000000</td>\n",
       "      <td>0.0</td>\n",
       "      <td>...</td>\n",
       "      <td>0</td>\n",
       "      <td>0</td>\n",
       "      <td>0</td>\n",
       "      <td>0</td>\n",
       "      <td>0</td>\n",
       "      <td>0</td>\n",
       "      <td>0</td>\n",
       "      <td>0</td>\n",
       "      <td>1</td>\n",
       "      <td>1</td>\n",
       "    </tr>\n",
       "    <tr>\n",
       "      <th>...</th>\n",
       "      <td>...</td>\n",
       "      <td>...</td>\n",
       "      <td>...</td>\n",
       "      <td>...</td>\n",
       "      <td>...</td>\n",
       "      <td>...</td>\n",
       "      <td>...</td>\n",
       "      <td>...</td>\n",
       "      <td>...</td>\n",
       "      <td>...</td>\n",
       "      <td>...</td>\n",
       "      <td>...</td>\n",
       "      <td>...</td>\n",
       "      <td>...</td>\n",
       "      <td>...</td>\n",
       "      <td>...</td>\n",
       "      <td>...</td>\n",
       "      <td>...</td>\n",
       "      <td>...</td>\n",
       "      <td>...</td>\n",
       "      <td>...</td>\n",
       "    </tr>\n",
       "    <tr>\n",
       "      <th>12325</th>\n",
       "      <td>3.0</td>\n",
       "      <td>145.0</td>\n",
       "      <td>0.0</td>\n",
       "      <td>0.0</td>\n",
       "      <td>53.0</td>\n",
       "      <td>1783.791667</td>\n",
       "      <td>0.007143</td>\n",
       "      <td>0.029031</td>\n",
       "      <td>12.241717</td>\n",
       "      <td>0.0</td>\n",
       "      <td>...</td>\n",
       "      <td>0</td>\n",
       "      <td>0</td>\n",
       "      <td>0</td>\n",
       "      <td>0</td>\n",
       "      <td>0</td>\n",
       "      <td>0</td>\n",
       "      <td>0</td>\n",
       "      <td>0</td>\n",
       "      <td>1</td>\n",
       "      <td>1</td>\n",
       "    </tr>\n",
       "    <tr>\n",
       "      <th>12326</th>\n",
       "      <td>0.0</td>\n",
       "      <td>0.0</td>\n",
       "      <td>0.0</td>\n",
       "      <td>0.0</td>\n",
       "      <td>5.0</td>\n",
       "      <td>465.750000</td>\n",
       "      <td>0.000000</td>\n",
       "      <td>0.021333</td>\n",
       "      <td>0.000000</td>\n",
       "      <td>0.0</td>\n",
       "      <td>...</td>\n",
       "      <td>0</td>\n",
       "      <td>0</td>\n",
       "      <td>0</td>\n",
       "      <td>0</td>\n",
       "      <td>0</td>\n",
       "      <td>0</td>\n",
       "      <td>0</td>\n",
       "      <td>0</td>\n",
       "      <td>1</td>\n",
       "      <td>1</td>\n",
       "    </tr>\n",
       "    <tr>\n",
       "      <th>12327</th>\n",
       "      <td>0.0</td>\n",
       "      <td>0.0</td>\n",
       "      <td>0.0</td>\n",
       "      <td>0.0</td>\n",
       "      <td>6.0</td>\n",
       "      <td>184.250000</td>\n",
       "      <td>0.083333</td>\n",
       "      <td>0.086667</td>\n",
       "      <td>0.000000</td>\n",
       "      <td>0.0</td>\n",
       "      <td>...</td>\n",
       "      <td>0</td>\n",
       "      <td>0</td>\n",
       "      <td>0</td>\n",
       "      <td>0</td>\n",
       "      <td>0</td>\n",
       "      <td>0</td>\n",
       "      <td>0</td>\n",
       "      <td>0</td>\n",
       "      <td>1</td>\n",
       "      <td>1</td>\n",
       "    </tr>\n",
       "    <tr>\n",
       "      <th>12328</th>\n",
       "      <td>4.0</td>\n",
       "      <td>75.0</td>\n",
       "      <td>0.0</td>\n",
       "      <td>0.0</td>\n",
       "      <td>15.0</td>\n",
       "      <td>346.000000</td>\n",
       "      <td>0.000000</td>\n",
       "      <td>0.021053</td>\n",
       "      <td>0.000000</td>\n",
       "      <td>0.0</td>\n",
       "      <td>...</td>\n",
       "      <td>0</td>\n",
       "      <td>0</td>\n",
       "      <td>0</td>\n",
       "      <td>0</td>\n",
       "      <td>0</td>\n",
       "      <td>0</td>\n",
       "      <td>0</td>\n",
       "      <td>0</td>\n",
       "      <td>1</td>\n",
       "      <td>0</td>\n",
       "    </tr>\n",
       "    <tr>\n",
       "      <th>12329</th>\n",
       "      <td>0.0</td>\n",
       "      <td>0.0</td>\n",
       "      <td>0.0</td>\n",
       "      <td>0.0</td>\n",
       "      <td>3.0</td>\n",
       "      <td>21.250000</td>\n",
       "      <td>0.000000</td>\n",
       "      <td>0.066667</td>\n",
       "      <td>0.000000</td>\n",
       "      <td>0.0</td>\n",
       "      <td>...</td>\n",
       "      <td>0</td>\n",
       "      <td>0</td>\n",
       "      <td>0</td>\n",
       "      <td>0</td>\n",
       "      <td>0</td>\n",
       "      <td>0</td>\n",
       "      <td>0</td>\n",
       "      <td>0</td>\n",
       "      <td>0</td>\n",
       "      <td>1</td>\n",
       "    </tr>\n",
       "  </tbody>\n",
       "</table>\n",
       "<p>12316 rows × 68 columns</p>\n",
       "</div>"
      ],
      "text/plain": [
       "       admin  admin_dur  info  info_dur  prodrel  prodrel_dur     brate  \\\n",
       "0        0.0        0.0   0.0       0.0      1.0     0.000000  0.200000   \n",
       "1        0.0        0.0   0.0       0.0      2.0    64.000000  0.000000   \n",
       "2        0.0       -1.0   0.0      -1.0      1.0    -1.000000  0.200000   \n",
       "3        0.0        0.0   0.0       0.0      2.0     2.666667  0.050000   \n",
       "4        0.0        0.0   0.0       0.0     10.0   627.500000  0.020000   \n",
       "...      ...        ...   ...       ...      ...          ...       ...   \n",
       "12325    3.0      145.0   0.0       0.0     53.0  1783.791667  0.007143   \n",
       "12326    0.0        0.0   0.0       0.0      5.0   465.750000  0.000000   \n",
       "12327    0.0        0.0   0.0       0.0      6.0   184.250000  0.083333   \n",
       "12328    4.0       75.0   0.0       0.0     15.0   346.000000  0.000000   \n",
       "12329    0.0        0.0   0.0       0.0      3.0    21.250000  0.000000   \n",
       "\n",
       "          erate      pagev  sday  ...  ttype_14  ttype_15  ttype_16  ttype_17  \\\n",
       "0      0.200000   0.000000   0.0  ...         0         0         0         0   \n",
       "1      0.100000   0.000000   0.0  ...         0         0         0         0   \n",
       "2      0.200000   0.000000   0.0  ...         0         0         0         0   \n",
       "3      0.140000   0.000000   0.0  ...         0         0         0         0   \n",
       "4      0.050000   0.000000   0.0  ...         0         0         0         0   \n",
       "...         ...        ...   ...  ...       ...       ...       ...       ...   \n",
       "12325  0.029031  12.241717   0.0  ...         0         0         0         0   \n",
       "12326  0.021333   0.000000   0.0  ...         0         0         0         0   \n",
       "12327  0.086667   0.000000   0.0  ...         0         0         0         0   \n",
       "12328  0.021053   0.000000   0.0  ...         0         0         0         0   \n",
       "12329  0.066667   0.000000   0.0  ...         0         0         0         0   \n",
       "\n",
       "       ttype_18  ttype_19  ttype_20  vtype_Other  vtype_Returning_Visitor  \\\n",
       "0             0         0         0            0                        1   \n",
       "1             0         0         0            0                        1   \n",
       "2             0         0         0            0                        1   \n",
       "3             0         0         0            0                        1   \n",
       "4             0         0         0            0                        1   \n",
       "...         ...       ...       ...          ...                      ...   \n",
       "12325         0         0         0            0                        1   \n",
       "12326         0         0         0            0                        1   \n",
       "12327         0         0         0            0                        1   \n",
       "12328         0         0         0            0                        1   \n",
       "12329         0         0         0            0                        0   \n",
       "\n",
       "       weekend_True  \n",
       "0                 0  \n",
       "1                 0  \n",
       "2                 0  \n",
       "3                 0  \n",
       "4                 1  \n",
       "...             ...  \n",
       "12325             1  \n",
       "12326             1  \n",
       "12327             1  \n",
       "12328             0  \n",
       "12329             1  \n",
       "\n",
       "[12316 rows x 68 columns]"
      ]
     },
     "execution_count": 28,
     "metadata": {},
     "output_type": "execute_result"
    }
   ],
   "source": [
    "X"
   ]
  },
  {
   "cell_type": "code",
   "execution_count": 29,
   "metadata": {
    "id": "ZlaFXOOEiMAd"
   },
   "outputs": [],
   "source": [
    "#SCALING THE TEST AND TRAIN DATA\n",
    "scaler=preprocessing.StandardScaler()\n",
    "scaler.fit(Xtrain[cont]) # fit is called only on training data \n",
    "Xtrain[cont]=scaler.transform(Xtrain[cont])\n",
    "Xtest[cont]=scaler.transform(Xtest[cont])"
   ]
  },
  {
   "cell_type": "code",
   "execution_count": 30,
   "metadata": {
    "colab": {
     "base_uri": "https://localhost:8080/"
    },
    "id": "o63E0FeYiPIe",
    "outputId": "4460b01a-ef3e-487e-fb0a-aa2aef62dd35"
   },
   "outputs": [
    {
     "name": "stdout",
     "output_type": "stream",
     "text": [
      "9852 9852 ==== 2464 2464\n"
     ]
    }
   ],
   "source": [
    "print(Xtrain.shape[0],ytrain.shape[0],\"====\",Xtest.shape[0],ytest.shape[0])"
   ]
  },
  {
   "cell_type": "code",
   "execution_count": 31,
   "metadata": {
    "colab": {
     "base_uri": "https://localhost:8080/"
    },
    "id": "ZYumRlT4iUe3",
    "outputId": "b6760a31-1b99-4572-b13c-0e6e2418a95b"
   },
   "outputs": [
    {
     "name": "stdout",
     "output_type": "stream",
     "text": [
      "admin\n",
      "27 ####### [-0.69253245 -0.08956928  2.0208018   0.51339388  1.11635705  1.71932022\n",
      "  3.22672814 -0.39105087  0.2119123   0.81487547  2.92524655  2.32228339\n",
      "  1.41783863  6.54302556  2.62376497  4.43265447  3.52820972  7.44747031\n",
      "  4.13117289  3.8296913   5.33709922  5.03561764  4.73413606  5.94006239\n",
      "  5.63858081  7.14598873  6.24154397]\n",
      "===============================================================\n",
      "admin_dur\n",
      "2786 ####### [-0.45294348 -0.43039394  4.64654003 ...  0.09858058 -0.23684376\n",
      "  0.78145568]\n",
      "===============================================================\n",
      "info\n",
      "14 ####### [-0.40218762  2.8396634   1.21873789  0.40827514  4.4605889   2.02920064\n",
      "  3.65012615  6.89197717  6.08151441  5.27105166  9.32336543  7.70243992\n",
      " 10.94429093 19.04891847]\n",
      "===============================================================\n",
      "info_dur\n",
      "1064 ####### [-0.24684203  0.38213372  0.07957253 ... -0.11690392 -0.13573553\n",
      "  8.41569815]\n",
      "===============================================================\n",
      "prodrel\n",
      "281 ####### [ 1.05845669e-01 -4.91755774e-01  2.31237408e+00 -4.45786432e-01\n",
      " -5.60709787e-01  5.98763275e-02  4.73600404e-01  3.81661720e-01\n",
      "  8.41355138e-01 -4.68771103e-01 -3.76832420e-01  2.43753695e-01\n",
      "  5.65539087e-01 -2.61909065e-01  3.35692378e-01  2.66738366e-01\n",
      " -6.29663799e-01 -6.75633141e-01  1.28830340e-01  1.73775730e+00\n",
      " -1.92955052e-01  4.50615733e-01 -6.98617812e-01  1.46194125e+00\n",
      " -3.99817090e-01 -6.52648470e-01  4.27631062e-01 -2.38924394e-01\n",
      " -5.37725116e-01 -2.84893736e-01 -7.80316979e-02  8.18370467e-01\n",
      " -1.46985711e-01  1.09418652e+00  1.41597191e+00 -6.06679129e-01\n",
      " -3.07878407e-01 -5.83694458e-01 -5.14740445e-01 -2.15939723e-01\n",
      "  1.97784353e-01  2.26640473e+00 -9.07768519e-03  2.56520546e+00\n",
      "  6.80462442e-01  1.39069857e-02  5.50724333e+00 -3.20623561e-02\n",
      "  3.32369960e+00  9.10309151e-01  1.48492592e+00 -3.30863078e-01\n",
      "  1.11717119e+00 -3.53847749e-01  1.07120185e+00 -1.01016369e-01\n",
      "  2.84102151e+00  1.34701790e+00  1.50791059e+00  3.36966894e+00\n",
      "  1.64581862e+00  1.51815011e-01  9.39165271e+00  7.49416455e-01\n",
      "  3.12707707e-01  3.68916566e-02 -4.22801761e-01 -1.69970381e-01\n",
      "  5.88523758e-01 -5.50470270e-02  4.04646391e-01  1.74799682e-01\n",
      "  2.08252737e+00  8.64339809e-01  8.28609984e-02  9.33293822e-01\n",
      "  6.57477771e-01  1.20910987e+00  1.71477263e+00  2.89723037e-01\n",
      "  1.14015586e+00  9.79263164e-01  2.51923611e+00  2.93296019e+00\n",
      "  4.38099446e+00 -7.21602483e-01  3.00191420e+00  1.27014453e+01\n",
      "  1.16314053e+00  3.62250032e+00  2.20769024e-01  4.17413242e+00\n",
      "  6.38066082e+00  1.43895658e+00  3.25474558e+00  6.11508429e-01\n",
      "  3.58677049e-01  1.62283395e+00  7.02423161e+00  4.96585075e-01\n",
      " -1.24001040e-01  2.70311348e+00  6.81736957e+00  2.15148138e+00\n",
      "  3.39265361e+00  3.20877624e+00  7.95385796e-01  4.35800979e+00\n",
      "  7.72401125e-01  1.11614724e+01  2.33535875e+00  2.22043539e+00\n",
      "  6.34493100e-01  1.94461934e+00  8.87324480e-01  1.39298724e+00\n",
      "  1.89865000e+00  1.82969599e+00  1.25507921e+00  7.03447113e-01\n",
      "  7.07020095e+00  2.45028210e+00  7.87466443e+00  2.19745072e+00\n",
      "  5.42554416e-01  5.94395208e+00  2.24342006e+00  1.23209454e+00\n",
      "  3.96727038e+00  1.04821718e+00  1.02523251e+00  1.57686461e+00\n",
      "  7.26431784e-01  5.19569746e-01  1.87566533e+00  5.20844261e+00\n",
      "  8.40331186e+00  6.86333891e+00  6.01290609e+00  2.72609815e+00\n",
      "  9.56278493e-01  2.77206749e+00  1.30104856e+00  1.37000257e+00\n",
      "  2.81803684e+00  2.17446605e+00  2.54222078e+00  6.58752286e+00\n",
      "  3.80637768e+00  2.01357335e+00  2.79505216e+00  2.49625144e+00\n",
      "  3.23176091e+00  4.56487182e+00  5.34635063e+00  3.57653098e+00\n",
      "  3.66846966e+00  3.13982223e+00  2.42729743e+00  3.69145433e+00\n",
      "  7.34601700e+00  1.27806389e+00  1.92163467e+00  1.59984928e+00\n",
      "  1.00224783e+00  2.10551204e+00  1.32403323e+00  1.53089527e+00\n",
      "  4.74874919e+00  1.66880329e+00  9.36866804e+00  4.54188715e+00\n",
      "  1.18612520e+00  1.55387994e+00  1.07937176e+01  4.65681051e+00\n",
      "  5.04754991e+00  2.90997552e+00  3.50757696e+00  1.69178796e+00\n",
      "  3.41563828e+00  4.49591781e+00  2.03655802e+00  2.40431276e+00\n",
      "  5.96693675e+00  4.42696380e+00  5.57619734e+00  3.27773025e+00\n",
      "  2.88699085e+00  1.96760401e+00  4.28905577e+00  1.76074197e+00\n",
      "  3.85234703e+00  2.35834342e+00  2.12849671e+00  3.30071492e+00\n",
      "  3.87533170e+00  2.63415947e+00  2.58819013e+00  3.71443900e+00\n",
      "  1.99058868e+00  6.77140023e+00  4.72576452e+00  3.46160762e+00\n",
      "  9.59851475e+00  4.44994847e+00  3.82936236e+00  2.74908282e+00\n",
      "  4.79471853e+00  4.90964189e+00  2.28938940e+00  4.24308643e+00\n",
      "  3.59951565e+00  1.78372664e+00  4.33502511e+00  3.92130104e+00\n",
      "  2.86400618e+00  2.38132809e+00  5.39231998e+00  5.71410537e+00\n",
      "  3.02489887e+00  7.50690970e+00  5.30038129e+00  7.30004766e+00\n",
      "  1.85268066e+00  3.09385289e+00  2.47326677e+00  6.72543089e+00\n",
      "  4.12816308e+00  4.47293314e+00  2.95594486e+00  3.11683756e+00\n",
      "  4.86367255e+00  2.65714414e+00  3.18579157e+00  2.61117480e+00\n",
      "  1.80671132e+00  7.96660312e+00  4.67979518e+00  4.40397913e+00\n",
      "  3.43862295e+00  6.51856885e+00  7.00124694e+00  6.42663017e+00\n",
      "  2.68012881e+00  4.03622439e+00  8.49525055e+00  3.73742367e+00\n",
      "  2.97892953e+00  6.40364550e+00  4.81770320e+00  2.05954270e+00\n",
      "  8.26540384e+00  6.28872214e+00  4.97859590e+00  5.78305938e+00\n",
      "  6.44961484e+00  3.99025505e+00  1.11844570e+01  5.11650393e+00\n",
      "  3.16280690e+00  1.54825905e+01  3.48459229e+00  7.52989437e+00\n",
      "  7.48392503e+00  1.04489476e+01  5.85201339e+00  3.76040834e+00\n",
      "  4.10517841e+00  5.59918201e+00  7.23109365e+00  3.04788354e+00\n",
      "  6.26573747e+00  9.13882133e+00  4.58785649e+00  5.13948860e+00\n",
      "  4.31204044e+00  3.55354630e+00  1.15522118e+01  8.67912791e+00\n",
      "  4.26607110e+00]\n",
      "===============================================================\n",
      "prodrel_dur\n",
      "7787 ####### [ 0.10726992 -0.4749849   1.53520141 ... -0.27001981 -0.13439061\n",
      "  2.04998034]\n",
      "===============================================================\n",
      "brate\n",
      "1587 ####### [-0.34273458 -0.4564763  -0.19568282 ...  1.23258807 -0.25668652\n",
      " -0.29949622]\n",
      "===============================================================\n",
      "erate\n",
      "3954 ####### [-0.3138     -0.5414979  -0.41226207 ... -0.27129524 -0.33201583\n",
      " -0.08786634]\n",
      "===============================================================\n",
      "pagev\n",
      "2183 ####### [-0.32021603  1.46357153  0.15937786 ...  0.36285018  4.1274931\n",
      " -0.18730094]\n",
      "===============================================================\n",
      "sday\n",
      "6 ####### [-0.30380961  1.74277659  3.78936279  2.76606969  0.71948349  4.81265589]\n",
      "===============================================================\n",
      "month_Dec\n",
      "2 ####### [0 1]\n",
      "===============================================================\n",
      "month_Feb\n",
      "2 ####### [0 1]\n",
      "===============================================================\n",
      "month_Jul\n",
      "2 ####### [0 1]\n",
      "===============================================================\n",
      "month_June\n",
      "2 ####### [0 1]\n",
      "===============================================================\n",
      "month_Mar\n",
      "2 ####### [0 1]\n",
      "===============================================================\n",
      "month_May\n",
      "2 ####### [0 1]\n",
      "===============================================================\n",
      "month_Nov\n",
      "2 ####### [1 0]\n",
      "===============================================================\n",
      "month_Oct\n",
      "2 ####### [0 1]\n",
      "===============================================================\n",
      "month_Sep\n",
      "2 ####### [0 1]\n",
      "===============================================================\n",
      "os_2\n",
      "2 ####### [1 0]\n",
      "===============================================================\n",
      "os_3\n",
      "2 ####### [0 1]\n",
      "===============================================================\n",
      "os_4\n",
      "2 ####### [0 1]\n",
      "===============================================================\n",
      "os_5\n",
      "2 ####### [0 1]\n",
      "===============================================================\n",
      "os_6\n",
      "2 ####### [0 1]\n",
      "===============================================================\n",
      "os_7\n",
      "2 ####### [0 1]\n",
      "===============================================================\n",
      "os_8\n",
      "2 ####### [0 1]\n",
      "===============================================================\n",
      "browser_2\n",
      "2 ####### [1 0]\n",
      "===============================================================\n",
      "browser_3\n",
      "2 ####### [0 1]\n",
      "===============================================================\n",
      "browser_4\n",
      "2 ####### [0 1]\n",
      "===============================================================\n",
      "browser_5\n",
      "2 ####### [0 1]\n",
      "===============================================================\n",
      "browser_6\n",
      "2 ####### [0 1]\n",
      "===============================================================\n",
      "browser_7\n",
      "2 ####### [0 1]\n",
      "===============================================================\n",
      "browser_8\n",
      "2 ####### [0 1]\n",
      "===============================================================\n",
      "browser_9\n",
      "1 ####### [0]\n",
      "===============================================================\n",
      "browser_10\n",
      "2 ####### [0 1]\n",
      "===============================================================\n",
      "browser_11\n",
      "2 ####### [0 1]\n",
      "===============================================================\n",
      "browser_12\n",
      "2 ####### [0 1]\n",
      "===============================================================\n",
      "browser_13\n",
      "2 ####### [0 1]\n",
      "===============================================================\n",
      "region_2\n",
      "2 ####### [0 1]\n",
      "===============================================================\n",
      "region_3\n",
      "2 ####### [1 0]\n",
      "===============================================================\n",
      "region_4\n",
      "2 ####### [0 1]\n",
      "===============================================================\n",
      "region_5\n",
      "2 ####### [0 1]\n",
      "===============================================================\n",
      "region_6\n",
      "2 ####### [0 1]\n",
      "===============================================================\n",
      "region_7\n",
      "2 ####### [0 1]\n",
      "===============================================================\n",
      "region_8\n",
      "2 ####### [0 1]\n",
      "===============================================================\n",
      "region_9\n",
      "2 ####### [0 1]\n",
      "===============================================================\n",
      "ttype_2\n",
      "2 ####### [1 0]\n",
      "===============================================================\n",
      "ttype_3\n",
      "2 ####### [0 1]\n",
      "===============================================================\n",
      "ttype_4\n",
      "2 ####### [0 1]\n",
      "===============================================================\n",
      "ttype_5\n",
      "2 ####### [0 1]\n",
      "===============================================================\n",
      "ttype_6\n",
      "2 ####### [0 1]\n",
      "===============================================================\n",
      "ttype_7\n",
      "2 ####### [0 1]\n",
      "===============================================================\n",
      "ttype_8\n",
      "2 ####### [0 1]\n",
      "===============================================================\n",
      "ttype_9\n",
      "2 ####### [0 1]\n",
      "===============================================================\n",
      "ttype_10\n",
      "2 ####### [0 1]\n",
      "===============================================================\n",
      "ttype_11\n",
      "2 ####### [0 1]\n",
      "===============================================================\n",
      "ttype_12\n",
      "2 ####### [0 1]\n",
      "===============================================================\n",
      "ttype_13\n",
      "2 ####### [0 1]\n",
      "===============================================================\n",
      "ttype_14\n",
      "2 ####### [0 1]\n",
      "===============================================================\n",
      "ttype_15\n",
      "2 ####### [0 1]\n",
      "===============================================================\n",
      "ttype_16\n",
      "2 ####### [0 1]\n",
      "===============================================================\n",
      "ttype_17\n",
      "2 ####### [0 1]\n",
      "===============================================================\n",
      "ttype_18\n",
      "2 ####### [0 1]\n",
      "===============================================================\n",
      "ttype_19\n",
      "2 ####### [0 1]\n",
      "===============================================================\n",
      "ttype_20\n",
      "2 ####### [0 1]\n",
      "===============================================================\n",
      "vtype_Other\n",
      "2 ####### [0 1]\n",
      "===============================================================\n",
      "vtype_Returning_Visitor\n",
      "2 ####### [1 0]\n",
      "===============================================================\n",
      "weekend_True\n",
      "2 ####### [1 0]\n",
      "===============================================================\n"
     ]
    }
   ],
   "source": [
    "for i in list(Xtrain.columns):\n",
    "    print(i)\n",
    "    print(len(Xtrain[i].unique()),\"#######\",Xtrain[i].unique())\n",
    "      \n",
    "    print(\"===============================================================\")"
   ]
  },
  {
   "cell_type": "code",
   "execution_count": 32,
   "metadata": {
    "id": "A_AU5kFEiYZP"
   },
   "outputs": [],
   "source": [
    "#RESAMPLING TO 70:30 FROM 85:15\n",
    "from imblearn.pipeline import make_pipeline\n",
    "from imblearn.over_sampling import SMOTE\n",
    "from imblearn.under_sampling import NearMiss\n",
    "count_class_0 = int(Xtrain.loc[ytrain==0].shape[0]/1)\n",
    "count_class_1 = int((count_class_0)*(30/70))\n",
    "pipe = make_pipeline(SMOTE(sampling_strategy={1: count_class_1}),NearMiss(sampling_strategy={0: count_class_0}))\n",
    "X_smt,y_smt = pipe.fit_resample(Xtrain,ytrain)"
   ]
  },
  {
   "cell_type": "code",
   "execution_count": 33,
   "metadata": {
    "colab": {
     "base_uri": "https://localhost:8080/"
    },
    "id": "PlaXlqbMihgd",
    "outputId": "dc768218-2e6c-4459-e863-2dc7612ba4a0"
   },
   "outputs": [
    {
     "data": {
      "text/plain": [
       "0.7"
      ]
     },
     "execution_count": 33,
     "metadata": {},
     "output_type": "execute_result"
    }
   ],
   "source": [
    "X_smt.loc[y_smt==0].shape[0]/X_smt.shape[0]"
   ]
  },
  {
   "cell_type": "code",
   "execution_count": 34,
   "metadata": {
    "colab": {
     "base_uri": "https://localhost:8080/"
    },
    "id": "2e4OIJGpikLG",
    "outputId": "b4e48fbf-99a1-4b0e-9c63-1b14fde3009c"
   },
   "outputs": [
    {
     "data": {
      "text/plain": [
       "0.3"
      ]
     },
     "execution_count": 34,
     "metadata": {},
     "output_type": "execute_result"
    }
   ],
   "source": [
    "X_smt.loc[y_smt==1].shape[0]/X_smt.shape[0]"
   ]
  },
  {
   "cell_type": "code",
   "execution_count": 35,
   "metadata": {
    "id": "dQ6Q-wvUMtVU"
   },
   "outputs": [],
   "source": [
    "import matplotlib.pyplot as plt\n",
    "import numpy as np\n",
    "import pandas as pd\n",
    "import seaborn as sns\n",
    "from sklearn import model_selection # for train test split\n",
    "from sklearn import preprocessing # for scaling\n",
    "from sklearn import metrics\n",
    "from sklearn import linear_model\n",
    "from sklearn import tree\n",
    "from sklearn import ensemble # for RandomForest\n",
    "import warnings\n",
    "warnings.filterwarnings(\"ignore\")\n",
    "\n",
    "def printresults(actual,predicted):\n",
    "    print(\"AUC : \",np.round( metrics.roc_auc_score(actual,predicted),4)  )\n",
    "    print(\"accuracy : \",np.round( metrics.accuracy_score(actual,predicted),4)  )\n",
    "    print(\"recall: \",np.round( metrics.recall_score(actual,predicted),4)  )\n",
    "    print(\"precision : \",np.round( metrics.precision_score(actual,predicted),4)  )\n",
    "    print(\"f1 : \",np.round( metrics.f1_score(actual,predicted),4)  )"
   ]
  },
  {
   "cell_type": "code",
   "execution_count": 36,
   "metadata": {
    "id": "kgKMVly0M0yl"
   },
   "outputs": [],
   "source": [
    "model=ensemble.RandomForestClassifier(random_state=42,n_estimators=10,max_features=3)"
   ]
  },
  {
   "cell_type": "code",
   "execution_count": 37,
   "metadata": {
    "colab": {
     "base_uri": "https://localhost:8080/"
    },
    "id": "jvYSFPfmM3Nu",
    "outputId": "33447323-6888-4ce1-cdb0-8752cc92b05f"
   },
   "outputs": [
    {
     "data": {
      "text/plain": [
       "RandomForestClassifier(max_features=3, n_estimators=10, random_state=42)"
      ]
     },
     "execution_count": 37,
     "metadata": {},
     "output_type": "execute_result"
    }
   ],
   "source": [
    "model.fit(X_smt,y_smt)"
   ]
  },
  {
   "cell_type": "code",
   "execution_count": 38,
   "metadata": {
    "colab": {
     "base_uri": "https://localhost:8080/"
    },
    "id": "Rn0FEnaxM_1H",
    "outputId": "0a7c4ca3-0236-418a-da9f-ae4e9a1e1b37"
   },
   "outputs": [
    {
     "data": {
      "text/plain": [
       "[DecisionTreeClassifier(max_features=3, random_state=1608637542),\n",
       " DecisionTreeClassifier(max_features=3, random_state=1273642419),\n",
       " DecisionTreeClassifier(max_features=3, random_state=1935803228),\n",
       " DecisionTreeClassifier(max_features=3, random_state=787846414),\n",
       " DecisionTreeClassifier(max_features=3, random_state=996406378),\n",
       " DecisionTreeClassifier(max_features=3, random_state=1201263687),\n",
       " DecisionTreeClassifier(max_features=3, random_state=423734972),\n",
       " DecisionTreeClassifier(max_features=3, random_state=415968276),\n",
       " DecisionTreeClassifier(max_features=3, random_state=670094950),\n",
       " DecisionTreeClassifier(max_features=3, random_state=1914837113)]"
      ]
     },
     "execution_count": 38,
     "metadata": {},
     "output_type": "execute_result"
    }
   ],
   "source": [
    "model.estimators_ # python list containing all internal tree"
   ]
  },
  {
   "cell_type": "code",
   "execution_count": 39,
   "metadata": {
    "colab": {
     "base_uri": "https://localhost:8080/"
    },
    "id": "-IlwJ6bKNAgG",
    "outputId": "720cfbe2-a0dd-4190-9d62-49ef4fce6f1d"
   },
   "outputs": [
    {
     "data": {
      "text/plain": [
       "DecisionTreeClassifier(max_features=3, random_state=1608637542)"
      ]
     },
     "execution_count": 39,
     "metadata": {},
     "output_type": "execute_result"
    }
   ],
   "source": [
    "model.estimators_[0]"
   ]
  },
  {
   "cell_type": "code",
   "execution_count": 40,
   "metadata": {
    "id": "Y8m3Ct1JNDEm"
   },
   "outputs": [],
   "source": [
    "\n",
    "X_smt,Xtest,y_smt,ytest=model_selection.train_test_split(X,y,test_size=.2,random_state=20)"
   ]
  },
  {
   "cell_type": "code",
   "execution_count": 42,
   "metadata": {
    "colab": {
     "base_uri": "https://localhost:8080/"
    },
    "id": "F_Kxdo2NNFfu",
    "outputId": "fddd91da-78f0-4f21-9c54-dfb7356fa7fd"
   },
   "outputs": [
    {
     "data": {
      "text/plain": [
       "RandomForestClassifier(max_depth=7, max_features=4, n_estimators=1000,\n",
       "                       random_state=42)"
      ]
     },
     "execution_count": 42,
     "metadata": {},
     "output_type": "execute_result"
    }
   ],
   "source": [
    "model=ensemble.RandomForestClassifier(random_state=42,n_estimators=1000,max_features=4,max_depth=7)\n",
    "model.fit(X_smt,y_smt)"
   ]
  },
  {
   "cell_type": "code",
   "execution_count": 43,
   "metadata": {
    "id": "QWo8sCpGNHnu"
   },
   "outputs": [],
   "source": [
    "trainpred=model.predict(X_smt)\n",
    "testpred=model.predict(Xtest)"
   ]
  },
  {
   "cell_type": "code",
   "execution_count": 44,
   "metadata": {
    "colab": {
     "base_uri": "https://localhost:8080/"
    },
    "id": "lxVhS_0fNJyu",
    "outputId": "e1492e8a-a589-4e20-e039-88559e74fe87"
   },
   "outputs": [
    {
     "name": "stdout",
     "output_type": "stream",
     "text": [
      "AUC :  0.5029\n",
      "accuracy :  0.8443\n",
      "recall:  0.0058\n",
      "precision :  1.0\n",
      "f1 :  0.0116\n"
     ]
    }
   ],
   "source": [
    "printresults(y_smt,trainpred)"
   ]
  },
  {
   "cell_type": "code",
   "execution_count": 45,
   "metadata": {
    "colab": {
     "base_uri": "https://localhost:8080/"
    },
    "id": "JhpO9fJ2NLu0",
    "outputId": "22bd65bc-b69a-4e52-9e17-416b1e2bf342"
   },
   "outputs": [
    {
     "name": "stdout",
     "output_type": "stream",
     "text": [
      "AUC :  0.5014\n",
      "accuracy :  0.8523\n",
      "recall:  0.0027\n",
      "precision :  1.0\n",
      "f1 :  0.0055\n"
     ]
    }
   ],
   "source": [
    "printresults(ytest,testpred)"
   ]
  },
  {
   "cell_type": "code",
   "execution_count": null,
   "metadata": {},
   "outputs": [],
   "source": []
  }
 ],
 "metadata": {
  "colab": {
   "collapsed_sections": [],
   "name": "Random forestFull.ipynb",
   "provenance": []
  },
  "kernelspec": {
   "display_name": "Python 3",
   "language": "python",
   "name": "python3"
  },
  "language_info": {
   "codemirror_mode": {
    "name": "ipython",
    "version": 3
   },
   "file_extension": ".py",
   "mimetype": "text/x-python",
   "name": "python",
   "nbconvert_exporter": "python",
   "pygments_lexer": "ipython3",
   "version": "3.8.8"
  }
 },
 "nbformat": 4,
 "nbformat_minor": 1
}
